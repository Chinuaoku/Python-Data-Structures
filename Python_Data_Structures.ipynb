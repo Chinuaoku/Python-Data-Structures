{
  "nbformat": 4,
  "nbformat_minor": 0,
  "metadata": {
    "colab": {
      "provenance": [],
      "authorship_tag": "ABX9TyM2xjidmgOmmTlsO1edR0rD",
      "include_colab_link": true
    },
    "kernelspec": {
      "name": "python3",
      "display_name": "Python 3"
    },
    "language_info": {
      "name": "python"
    }
  },
  "cells": [
    {
      "cell_type": "markdown",
      "metadata": {
        "id": "view-in-github",
        "colab_type": "text"
      },
      "source": [
        "<a href=\"https://colab.research.google.com/github/Chinuaoku/Python-Data-Structures/blob/main/Python_Data_Structures.ipynb\" target=\"_parent\"><img src=\"https://colab.research.google.com/assets/colab-badge.svg\" alt=\"Open In Colab\"/></a>"
      ]
    },
    {
      "cell_type": "markdown",
      "source": [
        "# DATA STRUCTURES\n",
        "\n",
        "# String Data Type\n",
        "* A string is a sequence of characters\n",
        "* A string literally uses quotes 'Hello' or \"Hello\"\n",
        "* For strings, + means \"concatenate\"\n",
        "* When a string contains numbers, it is still a string\n",
        "* We can convert numbers in a string into a number using int()"
      ],
      "metadata": {
        "id": "VA89mput7WlB"
      }
    },
    {
      "cell_type": "code",
      "source": [
        "str1 = \"Hello \"\n",
        "str2 = 'there'\n",
        "bob = str1 + str2\n",
        "print(bob)\n",
        "\n",
        "str3 = '123'\n",
        "# str3 = str3 + 1 'you cannot add a string and an integer\n",
        "\n",
        "x = int(str3) + 1\n",
        "print(x)"
      ],
      "metadata": {
        "colab": {
          "base_uri": "https://localhost:8080/"
        },
        "id": "IFHBTj8v9QI3",
        "outputId": "ef70f2bf-6d86-473d-d94e-ee860f7a98b2"
      },
      "execution_count": 2,
      "outputs": [
        {
          "output_type": "stream",
          "name": "stdout",
          "text": [
            "Hello there\n",
            "124\n"
          ]
        }
      ]
    },
    {
      "cell_type": "markdown",
      "source": [
        "# Reading and Converting\n",
        "* We prefer to read data in python using strings and then parse and convert the data as we need\n",
        "* This gives us more control over error situations and /or bad user input\n",
        "* Input numbers must be converted from strings"
      ],
      "metadata": {
        "id": "JgixZDKB-QCU"
      }
    },
    {
      "cell_type": "code",
      "source": [
        "name = input('Enter your name: ')\n",
        "print(name)\n",
        "apple = input('write something: ')\n",
        "# x = apple - 10 this will rasie an error because you cannot subtract an integer from a string\n",
        "\n",
        "x = int(apple) - 10\n",
        "print(x)"
      ],
      "metadata": {
        "colab": {
          "base_uri": "https://localhost:8080/"
        },
        "id": "svCF_DrP-1om",
        "outputId": "1fffb07d-5fe8-4d51-8a5f-24a1755c6192"
      },
      "execution_count": 3,
      "outputs": [
        {
          "output_type": "stream",
          "name": "stdout",
          "text": [
            "Enter your name: Jay\n",
            "Jay\n",
            "write something: 100\n",
            "90\n"
          ]
        }
      ]
    },
    {
      "cell_type": "markdown",
      "source": [
        "# Looking Inside Strings\n",
        "* We can get at any single character in a string using an index specified in square brackets\n",
        "*the index value must an integer and starts at zero\n",
        "* The index value canbe an expression that is computed\n",
        "\n",
        "\n",
        "```\n",
        "|b|a|n|a|n|a|\n",
        "|0|1|2|3|4|5|\n",
        "```\n",
        "\n"
      ],
      "metadata": {
        "id": "vT51ujWm_3Rs"
      }
    },
    {
      "cell_type": "code",
      "source": [
        "fruit = 'banana'\n",
        "letter = fruit[1]\n",
        "print(letter)\n",
        "\n",
        "x = 3\n",
        "w = fruit[x - 1]\n",
        "print(w)"
      ],
      "metadata": {
        "colab": {
          "base_uri": "https://localhost:8080/"
        },
        "id": "cyllihJnBg9M",
        "outputId": "04dd23b5-f579-41ce-9d1d-9536f4ca5ac6"
      },
      "execution_count": 5,
      "outputs": [
        {
          "output_type": "stream",
          "name": "stdout",
          "text": [
            "a\n",
            "n\n"
          ]
        }
      ]
    },
    {
      "cell_type": "markdown",
      "source": [
        "# A Character Too Far\n",
        "* You will get a python error if you attempt to index beyond the end of a string\n",
        "* So be careful when constructing index values and slices"
      ],
      "metadata": {
        "id": "lBY1W2_4EWlx"
      }
    },
    {
      "cell_type": "code",
      "source": [
        "zot = 'abc'\n",
        "# print(zot[5]) this will raise an error because the index is beyond the varaible abc"
      ],
      "metadata": {
        "id": "jgjY-VoFEsSI"
      },
      "execution_count": null,
      "outputs": []
    },
    {
      "cell_type": "markdown",
      "source": [
        "# Strings Have Length\n",
        "* The built-in function 'len' gives us the length of a string\n",
        "\n",
        "\n",
        "```\n",
        "|b|a|n|a|n|a|\n",
        "|0|1|2|3|4|5|\n",
        "```\n",
        "\n"
      ],
      "metadata": {
        "id": "VT2q3OCaFZ4K"
      }
    },
    {
      "cell_type": "code",
      "source": [
        "fruit = 'banana'\n",
        "print(len(fruit))"
      ],
      "metadata": {
        "colab": {
          "base_uri": "https://localhost:8080/"
        },
        "id": "T_26_hJNFvDa",
        "outputId": "93dfe5fc-36aa-49a1-d8b1-12e23e98641b"
      },
      "execution_count": 7,
      "outputs": [
        {
          "output_type": "stream",
          "name": "stdout",
          "text": [
            "6\n"
          ]
        }
      ]
    },
    {
      "cell_type": "markdown",
      "source": [
        "\n",
        "\n",
        "```\n",
        "Len Function\n",
        "A function is some stored code that we use. A function takes some input and produces an output\n",
        "\n",
        "'banana'\n",
        "(a string) --> def len(inp): --> 6\n",
        "                    blah\n",
        "                    blah\n",
        "                    for x in y:\n",
        "                    blah\n",
        "                    blah\n",
        "\n",
        "\n",
        "```\n",
        "\n"
      ],
      "metadata": {
        "id": "t5lsMQzdGRu5"
      }
    },
    {
      "cell_type": "markdown",
      "source": [
        "# Looping Through Strings\n",
        "Using a 'while' statement and an iteration variable, and the 'len' function, we can construct a loop to look at each of the letter in a string individually"
      ],
      "metadata": {
        "id": "V02zxqrLHTJs"
      }
    },
    {
      "cell_type": "code",
      "source": [
        "fruit = 'banana'\n",
        "index = 0\n",
        "while index < len(fruit):\n",
        "  letter = fruit[index]\n",
        "  print(index, letter)\n",
        "  index = index + 1"
      ],
      "metadata": {
        "colab": {
          "base_uri": "https://localhost:8080/"
        },
        "id": "urjR-wZJHnT_",
        "outputId": "ed5331b0-0ae8-4e8b-8a1e-6dc36f971903"
      },
      "execution_count": 8,
      "outputs": [
        {
          "output_type": "stream",
          "name": "stdout",
          "text": [
            "0 b\n",
            "1 a\n",
            "2 n\n",
            "3 a\n",
            "4 n\n",
            "5 a\n"
          ]
        }
      ]
    },
    {
      "cell_type": "markdown",
      "source": [
        "* A definite loop using a 'for' statement is much more elegant\n",
        "* The iteration variable is completely taken care of by the 'for' loop."
      ],
      "metadata": {
        "id": "fhrFYK7kJTWL"
      }
    },
    {
      "cell_type": "code",
      "source": [
        "fruit = 'banana'\n",
        "for letter in fruit:\n",
        "  print(letter)"
      ],
      "metadata": {
        "colab": {
          "base_uri": "https://localhost:8080/"
        },
        "id": "WGiL6xtKJrMa",
        "outputId": "bf68c031-a752-4a7b-90a4-92954346732b"
      },
      "execution_count": 9,
      "outputs": [
        {
          "output_type": "stream",
          "name": "stdout",
          "text": [
            "b\n",
            "a\n",
            "n\n",
            "a\n",
            "n\n",
            "a\n"
          ]
        }
      ]
    },
    {
      "cell_type": "markdown",
      "source": [
        "# Looping and Counting\n",
        "* This is a simple loop that loops through each letter in a string and counts the number of times the loop encounter the 'a' character"
      ],
      "metadata": {
        "id": "5gIYOzZiNnk1"
      }
    },
    {
      "cell_type": "code",
      "source": [
        "word = 'banana'\n",
        "count = 0\n",
        "for letter in word:\n",
        "    if letter == 'a':\n",
        "        count = count + 1\n",
        "print(count)"
      ],
      "metadata": {
        "colab": {
          "base_uri": "https://localhost:8080/"
        },
        "id": "Tb-RA7HlSSFk",
        "outputId": "6264a508-753b-41df-d22b-8bf47d3c2230"
      },
      "execution_count": 11,
      "outputs": [
        {
          "output_type": "stream",
          "name": "stdout",
          "text": [
            "3\n"
          ]
        }
      ]
    },
    {
      "cell_type": "markdown",
      "source": [
        "# Looking Deeper into 'in'\n",
        "* The iteration variable 'iterates' through the sequence (ordered set)\n",
        "* The block (body) of code is executed once for each value in the sequence\n",
        "* The iteration variable moves through all of the values in the sequence\n",
        "\n",
        "\n",
        "```\n",
        "for letter in 'banana':\n",
        "    print(letter)\n",
        "\n",
        "'letter' here is the iteration variable\n",
        "'banana' here is a six-character string\n",
        "```\n",
        "\n"
      ],
      "metadata": {
        "id": "IjwbebZ1Sz0d"
      }
    },
    {
      "cell_type": "markdown",
      "source": [
        "# Slicing Strings\n",
        "* This is one way to not loop through the strings\n",
        "* We can also look at any continuous section of a string using a 'colon operation'\n",
        "* The second number is one beyond the end of the slice \"up to but not including'\n",
        "* If the second number is beyond the end of the string, it stops at the end.\n",
        "\n",
        "\n",
        "```\n",
        "|M|o|n|t|y| |P|y|t|h| o| n|\n",
        " 0 1 2 3 4 5 6 7 8 9 10  11\n",
        "```\n",
        "\n"
      ],
      "metadata": {
        "id": "_F2mhftqUfsB"
      }
    },
    {
      "cell_type": "code",
      "source": [
        "s = 'Monty Python'\n",
        "print(s[0:4]) #stops at index 3\n",
        "print(s[6:7]) #stops at index 6\n",
        "print(s[6:20]) #stops at the highest index before 20 if it is index is less than 20"
      ],
      "metadata": {
        "colab": {
          "base_uri": "https://localhost:8080/"
        },
        "id": "y4fSGJ1FVcy_",
        "outputId": "94628cc8-d064-46a0-c7aa-090dca7437f5"
      },
      "execution_count": 12,
      "outputs": [
        {
          "output_type": "stream",
          "name": "stdout",
          "text": [
            "Mont\n",
            "P\n",
            "Python\n"
          ]
        }
      ]
    },
    {
      "cell_type": "markdown",
      "source": [
        "If we leave off the first number or the last number of the slice, it is assumed to be the beginning or the end of the string respectively."
      ],
      "metadata": {
        "id": "F0N84g88XGMX"
      }
    },
    {
      "cell_type": "code",
      "source": [
        "s = 'Monty Python'\n",
        "print(s[:2])\n",
        "print(s[8:])\n",
        "print(s[:])"
      ],
      "metadata": {
        "colab": {
          "base_uri": "https://localhost:8080/"
        },
        "id": "D9M_wstjXX1V",
        "outputId": "cad6ddcc-99bf-4729-ab6e-e3b27f753024"
      },
      "execution_count": 13,
      "outputs": [
        {
          "output_type": "stream",
          "name": "stdout",
          "text": [
            "Mo\n",
            "thon\n",
            "Monty Python\n"
          ]
        }
      ]
    },
    {
      "cell_type": "markdown",
      "source": [
        "# Manipulating Strings\n",
        "## String concatenation\n",
        "*When the '+' operator is applied to strings, it means \"concatenation\""
      ],
      "metadata": {
        "id": "U4G3NoaFwLAr"
      }
    },
    {
      "cell_type": "code",
      "source": [
        "a = 'Hello'\n",
        "b = a + 'There'\n",
        "print(b)\n",
        "\n",
        "c = a + ' ' + 'There'\n",
        "print(c)"
      ],
      "metadata": {
        "colab": {
          "base_uri": "https://localhost:8080/"
        },
        "id": "GwY973Wa6X29",
        "outputId": "019607c7-c4ac-4f9f-b2f1-77a7eb675985"
      },
      "execution_count": 21,
      "outputs": [
        {
          "output_type": "stream",
          "name": "stdout",
          "text": [
            "HelloThere\n",
            "Hello There\n"
          ]
        }
      ]
    },
    {
      "cell_type": "markdown",
      "source": [
        "# Using 'in' as a Logical Operator\n",
        "* The 'in' keyword can also be used to check to see if one string is 'in' another string\n",
        "* The 'in' expression is a logical expression that returns True or False and can be used in an 'if' statement."
      ],
      "metadata": {
        "id": "vic9lzmB6v1V"
      }
    },
    {
      "cell_type": "code",
      "source": [
        "fruit = 'banana'\n",
        "'n' in fruit\n",
        "'m' in fruit\n",
        "'man' in fruit\n",
        "'nan' in fruit\n",
        "if 'a' in fruit:\n",
        "  print('Found it!')"
      ],
      "metadata": {
        "colab": {
          "base_uri": "https://localhost:8080/"
        },
        "id": "58S14-1E7ImT",
        "outputId": "6e1495cd-2cc1-4032-dae3-b8b9b320d96e"
      },
      "execution_count": 2,
      "outputs": [
        {
          "output_type": "stream",
          "name": "stdout",
          "text": [
            "Found it!\n"
          ]
        }
      ]
    },
    {
      "cell_type": "code",
      "source": [
        "# Exercise for 'in' as a logical operator\n",
        "for i in 'banana':\n",
        "    if 'n' in i:\n",
        "        print(i)"
      ],
      "metadata": {
        "colab": {
          "base_uri": "https://localhost:8080/"
        },
        "id": "mbg6TFfA-PXC",
        "outputId": "dd922a5f-2402-4a4f-9e4e-5363ae8e642f"
      },
      "execution_count": 23,
      "outputs": [
        {
          "output_type": "stream",
          "name": "stdout",
          "text": [
            "n\n",
            "n\n"
          ]
        }
      ]
    },
    {
      "cell_type": "code",
      "source": [
        "# Test\n",
        "fruit = 'banana'\n",
        "x = 'n' in fruit\n",
        "y = 'm' in fruit\n",
        "print(x, y)"
      ],
      "metadata": {
        "colab": {
          "base_uri": "https://localhost:8080/"
        },
        "id": "j-709f4glx0g",
        "outputId": "0362af7f-7cb5-4a30-b60a-3579f1074c22"
      },
      "execution_count": 5,
      "outputs": [
        {
          "output_type": "stream",
          "name": "stdout",
          "text": [
            "True False\n"
          ]
        }
      ]
    },
    {
      "cell_type": "markdown",
      "source": [
        "# String Comparison\n",
        "\n",
        "```\n",
        "if word == 'banana':\n",
        "    print('All right, bananas.')\n",
        "if word < 'banana':\n",
        "    print('Your word,' + word + ',comes before banana.')\n",
        "elif word > 'banana':\n",
        "    print('Your word,' + word + ', comes after banana.')\n",
        "else:\n",
        "    print('All right, bananas.')\n",
        "```\n",
        "* Uppercase letters are generally less than lowercase letters\n",
        "\n",
        "```\n",
        "Z < a\n",
        "A < a\n",
        "```\n",
        "\n",
        "\n"
      ],
      "metadata": {
        "id": "EXzvtIkfmmAX"
      }
    },
    {
      "cell_type": "markdown",
      "source": [
        "# String Library\n",
        "* Python has a number of string functions which are in the string library\n",
        "* These functions are already built into every string - we invoke them by appending the function to the string variable\n",
        "* These functions do not modify the original string, instead they return a new string that has been altered"
      ],
      "metadata": {
        "id": "NlpZ2qC8pk9a"
      }
    },
    {
      "cell_type": "code",
      "source": [
        "greet = 'Hello Bob'\n",
        "zap = greet.lower()\n",
        "print(zap)\n",
        "print(greet)\n",
        "print('Hi There'.lower())"
      ],
      "metadata": {
        "colab": {
          "base_uri": "https://localhost:8080/"
        },
        "id": "GpiI3z_vqICt",
        "outputId": "0673ecd9-408e-496c-bc47-dfaf1956a61d"
      },
      "execution_count": 6,
      "outputs": [
        {
          "output_type": "stream",
          "name": "stdout",
          "text": [
            "hello bob\n",
            "Hello Bob\n",
            "hi there\n"
          ]
        }
      ]
    },
    {
      "cell_type": "code",
      "source": [
        "x = 'Hello world'\n",
        "type(x) #this gives us the type of data which is a 'str'\n",
        "dir(x) #shows us what are strings capable of. Output are the method class. Check python documentation for more details"
      ],
      "metadata": {
        "colab": {
          "base_uri": "https://localhost:8080/"
        },
        "collapsed": true,
        "id": "szV_vVCJrGJN",
        "outputId": "8a633fca-5bd8-4481-c159-fc2854c05088"
      },
      "execution_count": 9,
      "outputs": [
        {
          "output_type": "execute_result",
          "data": {
            "text/plain": [
              "['__add__',\n",
              " '__class__',\n",
              " '__contains__',\n",
              " '__delattr__',\n",
              " '__dir__',\n",
              " '__doc__',\n",
              " '__eq__',\n",
              " '__format__',\n",
              " '__ge__',\n",
              " '__getattribute__',\n",
              " '__getitem__',\n",
              " '__getnewargs__',\n",
              " '__gt__',\n",
              " '__hash__',\n",
              " '__init__',\n",
              " '__init_subclass__',\n",
              " '__iter__',\n",
              " '__le__',\n",
              " '__len__',\n",
              " '__lt__',\n",
              " '__mod__',\n",
              " '__mul__',\n",
              " '__ne__',\n",
              " '__new__',\n",
              " '__reduce__',\n",
              " '__reduce_ex__',\n",
              " '__repr__',\n",
              " '__rmod__',\n",
              " '__rmul__',\n",
              " '__setattr__',\n",
              " '__sizeof__',\n",
              " '__str__',\n",
              " '__subclasshook__',\n",
              " 'capitalize',\n",
              " 'casefold',\n",
              " 'center',\n",
              " 'count',\n",
              " 'encode',\n",
              " 'endswith',\n",
              " 'expandtabs',\n",
              " 'find',\n",
              " 'format',\n",
              " 'format_map',\n",
              " 'index',\n",
              " 'isalnum',\n",
              " 'isalpha',\n",
              " 'isascii',\n",
              " 'isdecimal',\n",
              " 'isdigit',\n",
              " 'isidentifier',\n",
              " 'islower',\n",
              " 'isnumeric',\n",
              " 'isprintable',\n",
              " 'isspace',\n",
              " 'istitle',\n",
              " 'isupper',\n",
              " 'join',\n",
              " 'ljust',\n",
              " 'lower',\n",
              " 'lstrip',\n",
              " 'maketrans',\n",
              " 'partition',\n",
              " 'removeprefix',\n",
              " 'removesuffix',\n",
              " 'replace',\n",
              " 'rfind',\n",
              " 'rindex',\n",
              " 'rjust',\n",
              " 'rpartition',\n",
              " 'rsplit',\n",
              " 'rstrip',\n",
              " 'split',\n",
              " 'splitlines',\n",
              " 'startswith',\n",
              " 'strip',\n",
              " 'swapcase',\n",
              " 'title',\n",
              " 'translate',\n",
              " 'upper',\n",
              " 'zfill']"
            ]
          },
          "metadata": {},
          "execution_count": 9
        }
      ]
    },
    {
      "cell_type": "markdown",
      "source": [
        "# Common things we can do with the string library\n",
        "```\n",
        "* str.capitalize()\n",
        "* str.center(widath[, fillchar])\n",
        "* str.endswith(suffix[, start[, end]])\n",
        "* str.find(sub[, start[, end]])\n",
        "* str.lstrip([chars])\n",
        "* str.replace(old, new[, count])\n",
        "* str.lower()\n",
        "* str.rstrip([chars])\n",
        "* str.strip([chars])\n",
        "* str.upper()\n",
        "```"
      ],
      "metadata": {
        "id": "FeGxb-a6sjD0"
      }
    },
    {
      "cell_type": "markdown",
      "source": [
        "# Searching a String\n",
        "* We use the find( ) function to search for a substring within another string\n",
        "* find( ) finds the first occurence of the substring\n",
        "* If the substring is not found, find( ) returs -1\n",
        "* Remember that string position starts at zero\n",
        "\n",
        "```\n",
        "|b|a|n|a|n|a|\n",
        " 0 1 2 3 4 5\n",
        "```\n",
        "\n"
      ],
      "metadata": {
        "id": "y_qt9p0wuIlk"
      }
    },
    {
      "cell_type": "code",
      "source": [
        "fruit = 'banana'\n",
        "x = fruit.find('na')\n",
        "print(x)\n",
        "\n",
        "aa = fruit.find('z')\n",
        "print(aa)"
      ],
      "metadata": {
        "colab": {
          "base_uri": "https://localhost:8080/"
        },
        "id": "V6Ts9noRuu-L",
        "outputId": "58c62967-8f60-4174-c025-32953cc7d8d6"
      },
      "execution_count": 10,
      "outputs": [
        {
          "output_type": "stream",
          "name": "stdout",
          "text": [
            "2\n",
            "-1\n"
          ]
        }
      ]
    },
    {
      "cell_type": "markdown",
      "source": [
        "# Making Everything UPPER CASE\n",
        "* You can make a copy of a string lower case or upper case\n",
        "* Often when we are searching for a string using find( ) we first convert the string to lower case so we can search a string regardless of case"
      ],
      "metadata": {
        "id": "fh7TpoH0w5sm"
      }
    },
    {
      "cell_type": "code",
      "source": [
        "greet = 'Hello Bob'\n",
        "xxx = greet.upper()\n",
        "print(xxx)\n",
        "\n",
        "YYY = greet.lower()\n",
        "print(YYY)"
      ],
      "metadata": {
        "colab": {
          "base_uri": "https://localhost:8080/"
        },
        "id": "68z9mLHAxSOW",
        "outputId": "0bde38b5-e5ae-4df7-fb14-4605badcd20f"
      },
      "execution_count": 11,
      "outputs": [
        {
          "output_type": "stream",
          "name": "stdout",
          "text": [
            "HELLO BOB\n",
            "hello bob\n"
          ]
        }
      ]
    },
    {
      "cell_type": "markdown",
      "source": [
        "# Search and Replace\n",
        "* The replace( ) function is like a \"search and replace\" operation in a word processor\n",
        "* It replaces all occurences of the search string with the replacement string"
      ],
      "metadata": {
        "id": "sg6mY8_9xxy_"
      }
    },
    {
      "cell_type": "code",
      "source": [
        "greet = 'Hello Bob'\n",
        "nstr = greet.replace('Bob', 'Jane')\n",
        "print(nstr)\n",
        "\n",
        "mstr = greet.replace('o', 'X')\n",
        "print(mstr)"
      ],
      "metadata": {
        "colab": {
          "base_uri": "https://localhost:8080/"
        },
        "id": "VLh9fChWyHC-",
        "outputId": "fe96b85b-8174-42a6-9176-cfc2b4316ce8"
      },
      "execution_count": 12,
      "outputs": [
        {
          "output_type": "stream",
          "name": "stdout",
          "text": [
            "Hello Jane\n",
            "HellX BXb\n"
          ]
        }
      ]
    },
    {
      "cell_type": "markdown",
      "source": [
        "# Strpping Whitespaces (new lines or tabs)\n",
        "* Sometimes we want to take a string and remove whitespaces at the beginning and/or end\n",
        "* Istrip( ) and rstrip( ) remove whitespace at the left or right\n",
        "* strip( ) removes both beginning and ending whitespace"
      ],
      "metadata": {
        "id": "l4xDW62Typpy"
      }
    },
    {
      "cell_type": "code",
      "source": [
        "greet = ' Hello Bob '\n",
        "x = greet.lstrip()\n",
        "y = greet.rstrip()\n",
        "z = greet.strip()\n",
        "print(x)\n",
        "print(y)\n",
        "print(z)"
      ],
      "metadata": {
        "colab": {
          "base_uri": "https://localhost:8080/"
        },
        "id": "GZ_ZRJBBzpYF",
        "outputId": "e02d9c19-c496-4efe-f408-d02fbdab5da9"
      },
      "execution_count": 14,
      "outputs": [
        {
          "output_type": "stream",
          "name": "stdout",
          "text": [
            "Hello Bob \n",
            " Hello Bob\n",
            "Hello Bob\n"
          ]
        }
      ]
    },
    {
      "cell_type": "markdown",
      "source": [
        "# Prefixes\n"
      ],
      "metadata": {
        "id": "XK96tTTl0fVp"
      }
    },
    {
      "cell_type": "code",
      "source": [
        "line = 'Please have a nice day'\n",
        "x = line.startswith('Please')\n",
        "y = line.startswith('p')\n",
        "print(x)\n",
        "print(y)"
      ],
      "metadata": {
        "colab": {
          "base_uri": "https://localhost:8080/"
        },
        "id": "j0bk3MNa0jLJ",
        "outputId": "e748a316-7703-4d89-fadb-7992583b0184"
      },
      "execution_count": 17,
      "outputs": [
        {
          "output_type": "stream",
          "name": "stdout",
          "text": [
            "True\n",
            "False\n"
          ]
        }
      ]
    },
    {
      "cell_type": "markdown",
      "source": [
        "# Parsing and Extracting\n",
        "From chinua.emenik@uct.ac.za Sat Jan 5 09:14:16 2008\n",
        "\n"
      ],
      "metadata": {
        "id": "beXrdCHq1Lju"
      }
    },
    {
      "cell_type": "code",
      "source": [
        "data = 'From chinua.emenike@uct.ac.za Sat Jan 5 09:14:16 2008'\n",
        "atpos = data.find('@') #where is the position of '@'\n",
        "print(atpos)\n",
        "\n",
        "sppos = data.find(' ', atpos) #where is the next space after 'atpos'\n",
        "print(sppos)\n",
        "\n",
        "host = data[atpos + 1 : sppos]\n",
        "print(host)"
      ],
      "metadata": {
        "colab": {
          "base_uri": "https://localhost:8080/"
        },
        "id": "mtQTl5qy10cY",
        "outputId": "8221d91c-5d7c-461b-8898-157eb243ef9f"
      },
      "execution_count": 18,
      "outputs": [
        {
          "output_type": "stream",
          "name": "stdout",
          "text": [
            "19\n",
            "29\n",
            "uct.ac.za\n"
          ]
        }
      ]
    }
  ]
}