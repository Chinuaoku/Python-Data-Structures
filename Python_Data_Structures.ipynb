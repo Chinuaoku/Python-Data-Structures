{
  "nbformat": 4,
  "nbformat_minor": 0,
  "metadata": {
    "colab": {
      "provenance": [],
      "authorship_tag": "ABX9TyMqZ9TCeo1sDtKImZGAUbby",
      "include_colab_link": true
    },
    "kernelspec": {
      "name": "python3",
      "display_name": "Python 3"
    },
    "language_info": {
      "name": "python"
    }
  },
  "cells": [
    {
      "cell_type": "markdown",
      "metadata": {
        "id": "view-in-github",
        "colab_type": "text"
      },
      "source": [
        "<a href=\"https://colab.research.google.com/github/Chinuaoku/Python-Data-Structures/blob/main/Python_Data_Structures.ipynb\" target=\"_parent\"><img src=\"https://colab.research.google.com/assets/colab-badge.svg\" alt=\"Open In Colab\"/></a>"
      ]
    },
    {
      "cell_type": "markdown",
      "source": [
        "# Data Structures\n",
        "\n",
        "# String Data Type\n",
        "* A string is a sequence of characters\n",
        "* A string literally uses quotes 'Hello' or \"Hello\"\n",
        "* For strings, + means \"concatenate\"\n",
        "* When a string contains numbers, it is still a string\n",
        "* We can convert numbers in a string into a number using int()"
      ],
      "metadata": {
        "id": "VA89mput7WlB"
      }
    },
    {
      "cell_type": "code",
      "source": [
        "str1 = \"Hello \"\n",
        "str2 = 'there'\n",
        "bob = str1 + str2\n",
        "print(bob)\n",
        "\n",
        "str3 = '123'\n",
        "# str3 = str3 + 1 'you cannot add a string and an integer\n",
        "\n",
        "x = int(str3) + 1\n",
        "print(x)"
      ],
      "metadata": {
        "colab": {
          "base_uri": "https://localhost:8080/"
        },
        "id": "IFHBTj8v9QI3",
        "outputId": "ef70f2bf-6d86-473d-d94e-ee860f7a98b2"
      },
      "execution_count": 2,
      "outputs": [
        {
          "output_type": "stream",
          "name": "stdout",
          "text": [
            "Hello there\n",
            "124\n"
          ]
        }
      ]
    },
    {
      "cell_type": "markdown",
      "source": [
        "# Reading and Converting\n",
        "* We prefer to read data in python using strings and then parse and convert the data as we need\n",
        "* This gives us more control over error situations and /or bad user input\n",
        "* Input numbers must be converted from strings"
      ],
      "metadata": {
        "id": "JgixZDKB-QCU"
      }
    },
    {
      "cell_type": "code",
      "source": [
        "name = input('Enter your name: ')\n",
        "print(name)\n",
        "apple = input('write something: ')\n",
        "# x = apple - 10 this will rasie an error because you cannot subtract an integer from a string\n",
        "\n",
        "x = int(apple) - 10\n",
        "print(x)"
      ],
      "metadata": {
        "colab": {
          "base_uri": "https://localhost:8080/"
        },
        "id": "svCF_DrP-1om",
        "outputId": "1fffb07d-5fe8-4d51-8a5f-24a1755c6192"
      },
      "execution_count": 3,
      "outputs": [
        {
          "output_type": "stream",
          "name": "stdout",
          "text": [
            "Enter your name: Jay\n",
            "Jay\n",
            "write something: 100\n",
            "90\n"
          ]
        }
      ]
    },
    {
      "cell_type": "markdown",
      "source": [
        "# Looking Inside Strings\n",
        "* We can get at any single character in a string using an index specified in square brackets\n",
        "*the index value must an integer and starts at zero\n",
        "* The index value canbe an expression that is computed\n",
        "\n",
        "\n",
        "```\n",
        "|b|a|n|a|n|a|\n",
        "|0|1|2|3|4|5|\n",
        "```\n",
        "\n"
      ],
      "metadata": {
        "id": "vT51ujWm_3Rs"
      }
    },
    {
      "cell_type": "code",
      "source": [
        "fruit = 'banana'\n",
        "letter = fruit[1]\n",
        "print(letter)\n",
        "\n",
        "x = 3\n",
        "w = fruit[x - 1]\n",
        "print(w)"
      ],
      "metadata": {
        "colab": {
          "base_uri": "https://localhost:8080/"
        },
        "id": "cyllihJnBg9M",
        "outputId": "04dd23b5-f579-41ce-9d1d-9536f4ca5ac6"
      },
      "execution_count": 5,
      "outputs": [
        {
          "output_type": "stream",
          "name": "stdout",
          "text": [
            "a\n",
            "n\n"
          ]
        }
      ]
    },
    {
      "cell_type": "markdown",
      "source": [
        "# A Character Too Far\n",
        "* You will get a python error if you attempt to index beyond the end of a string\n",
        "* So be careful when constructing index values and slices"
      ],
      "metadata": {
        "id": "lBY1W2_4EWlx"
      }
    },
    {
      "cell_type": "code",
      "source": [
        "zot = 'abc'\n",
        "# print(zot[5]) this will raise an error because the index is beyond the varaible abc"
      ],
      "metadata": {
        "id": "jgjY-VoFEsSI"
      },
      "execution_count": null,
      "outputs": []
    },
    {
      "cell_type": "markdown",
      "source": [
        "# Strings Have Length\n",
        "* The built-in function 'len' gives us the length of a string\n",
        "\n",
        "\n",
        "```\n",
        "|b|a|n|a|n|a|\n",
        "|0|1|2|3|4|5|\n",
        "```\n",
        "\n"
      ],
      "metadata": {
        "id": "VT2q3OCaFZ4K"
      }
    },
    {
      "cell_type": "code",
      "source": [
        "fruit = 'banana'\n",
        "print(len(fruit))"
      ],
      "metadata": {
        "colab": {
          "base_uri": "https://localhost:8080/"
        },
        "id": "T_26_hJNFvDa",
        "outputId": "93dfe5fc-36aa-49a1-d8b1-12e23e98641b"
      },
      "execution_count": 7,
      "outputs": [
        {
          "output_type": "stream",
          "name": "stdout",
          "text": [
            "6\n"
          ]
        }
      ]
    },
    {
      "cell_type": "markdown",
      "source": [
        "\n",
        "\n",
        "```\n",
        "Len Function\n",
        "A function is some stored code that we use. A function takes some input and produces an output\n",
        "\n",
        "'banana'\n",
        "(a string) --> def len(inp): --> 6\n",
        "                    blah\n",
        "                    blah\n",
        "                    for x in y:\n",
        "                    blah\n",
        "                    blah\n",
        "\n",
        "\n",
        "```\n",
        "\n"
      ],
      "metadata": {
        "id": "t5lsMQzdGRu5"
      }
    },
    {
      "cell_type": "markdown",
      "source": [
        "# Looping Through Strings\n",
        "Using a 'while' statement and an iteration variable, and the 'len' function, we can construct a loop to look at each of the letter in a string individually"
      ],
      "metadata": {
        "id": "V02zxqrLHTJs"
      }
    },
    {
      "cell_type": "code",
      "source": [
        "fruit = 'banana'\n",
        "index = 0\n",
        "while index < len(fruit):\n",
        "  letter = fruit[index]\n",
        "  print(index, letter)\n",
        "  index = index + 1"
      ],
      "metadata": {
        "colab": {
          "base_uri": "https://localhost:8080/"
        },
        "id": "urjR-wZJHnT_",
        "outputId": "ed5331b0-0ae8-4e8b-8a1e-6dc36f971903"
      },
      "execution_count": 8,
      "outputs": [
        {
          "output_type": "stream",
          "name": "stdout",
          "text": [
            "0 b\n",
            "1 a\n",
            "2 n\n",
            "3 a\n",
            "4 n\n",
            "5 a\n"
          ]
        }
      ]
    },
    {
      "cell_type": "markdown",
      "source": [
        "* A definite loop using a 'for' statement is much more elegant\n",
        "* The iteration variable is completely taken care of by the 'for' loop."
      ],
      "metadata": {
        "id": "fhrFYK7kJTWL"
      }
    },
    {
      "cell_type": "code",
      "source": [
        "fruit = 'banana'\n",
        "for letter in fruit:\n",
        "  print(letter)"
      ],
      "metadata": {
        "colab": {
          "base_uri": "https://localhost:8080/"
        },
        "id": "WGiL6xtKJrMa",
        "outputId": "bf68c031-a752-4a7b-90a4-92954346732b"
      },
      "execution_count": 9,
      "outputs": [
        {
          "output_type": "stream",
          "name": "stdout",
          "text": [
            "b\n",
            "a\n",
            "n\n",
            "a\n",
            "n\n",
            "a\n"
          ]
        }
      ]
    },
    {
      "cell_type": "markdown",
      "source": [
        "# Looping and Counting\n",
        "* This is a simple loop that loops through each letter in a string and counts the number of times the loop encounter the 'a' character"
      ],
      "metadata": {
        "id": "5gIYOzZiNnk1"
      }
    },
    {
      "cell_type": "code",
      "source": [
        "word = 'banana'\n",
        "count = 0\n",
        "for letter in word:\n",
        "    if letter == 'a':\n",
        "        count = count + 1\n",
        "print(count)"
      ],
      "metadata": {
        "colab": {
          "base_uri": "https://localhost:8080/"
        },
        "id": "Tb-RA7HlSSFk",
        "outputId": "6264a508-753b-41df-d22b-8bf47d3c2230"
      },
      "execution_count": 11,
      "outputs": [
        {
          "output_type": "stream",
          "name": "stdout",
          "text": [
            "3\n"
          ]
        }
      ]
    },
    {
      "cell_type": "markdown",
      "source": [
        "# Looking Deeper into 'in'\n",
        "* The iteration variable 'iterates' through the sequence (ordered set)\n",
        "* The block (body) of code is executed once for each value in the sequence\n",
        "* The iteration variable moves through all of the values in the sequence\n",
        "\n",
        "\n",
        "```\n",
        "for letter in 'banana':\n",
        "    print(letter)\n",
        "\n",
        "'letter' here is the iteration variable\n",
        "'banana' here is a six-character string\n",
        "```\n",
        "\n"
      ],
      "metadata": {
        "id": "IjwbebZ1Sz0d"
      }
    },
    {
      "cell_type": "markdown",
      "source": [
        "# Slicing Strings\n",
        "* This is one way to not loop through the strings\n",
        "* We can also look at any continuous section of a string using a 'colon operation'\n",
        "* The second number is one beyond the end of the slice \"up to but not including'\n",
        "* If the second number is beyond the end of the string, it stops at the end.\n",
        "\n",
        "\n",
        "```\n",
        "|M|o|n|t|y| |P|y|t|h| o| n|\n",
        " 0 1 2 3 4 5 6 7 8 9 10  11\n",
        "```\n",
        "\n"
      ],
      "metadata": {
        "id": "_F2mhftqUfsB"
      }
    },
    {
      "cell_type": "code",
      "source": [
        "s = 'Monty Python'\n",
        "print(s[0:4]) #stops at index 3\n",
        "print(s[6:7]) #stops at index 6\n",
        "print(s[6:20]) #stops at the highest index before 20 if it is index is less than 20"
      ],
      "metadata": {
        "colab": {
          "base_uri": "https://localhost:8080/"
        },
        "id": "y4fSGJ1FVcy_",
        "outputId": "94628cc8-d064-46a0-c7aa-090dca7437f5"
      },
      "execution_count": 12,
      "outputs": [
        {
          "output_type": "stream",
          "name": "stdout",
          "text": [
            "Mont\n",
            "P\n",
            "Python\n"
          ]
        }
      ]
    },
    {
      "cell_type": "markdown",
      "source": [
        "If we leave off the first number or the last number of the slice, it is assumed to be the beginning or the end of the string respectively."
      ],
      "metadata": {
        "id": "F0N84g88XGMX"
      }
    },
    {
      "cell_type": "code",
      "source": [
        "s = 'Monty Python'\n",
        "print(s[:2])\n",
        "print(s[8:])\n",
        "print(s[:])"
      ],
      "metadata": {
        "colab": {
          "base_uri": "https://localhost:8080/"
        },
        "id": "D9M_wstjXX1V",
        "outputId": "cad6ddcc-99bf-4729-ab6e-e3b27f753024"
      },
      "execution_count": 13,
      "outputs": [
        {
          "output_type": "stream",
          "name": "stdout",
          "text": [
            "Mo\n",
            "thon\n",
            "Monty Python\n"
          ]
        }
      ]
    },
    {
      "cell_type": "markdown",
      "source": [
        "# Manipulating Strings\n",
        "## String concatenation\n",
        "*When the '+' operator is applied to strings, it means \"concatenation\""
      ],
      "metadata": {
        "id": "U4G3NoaFwLAr"
      }
    },
    {
      "cell_type": "code",
      "source": [
        "a = 'Hello'\n",
        "b = a + 'There'\n",
        "print(b)\n",
        "\n",
        "c = a + ' ' + 'There'\n",
        "print(c)"
      ],
      "metadata": {
        "colab": {
          "base_uri": "https://localhost:8080/"
        },
        "id": "GwY973Wa6X29",
        "outputId": "019607c7-c4ac-4f9f-b2f1-77a7eb675985"
      },
      "execution_count": 21,
      "outputs": [
        {
          "output_type": "stream",
          "name": "stdout",
          "text": [
            "HelloThere\n",
            "Hello There\n"
          ]
        }
      ]
    },
    {
      "cell_type": "markdown",
      "source": [
        "# Using 'in' as a Logical Operator\n",
        "* The 'in' keyword can also be used to check to see if one string is 'in' another string\n",
        "* The 'in' expression is a logical expression that returns True or False and can be used in an 'if' statement."
      ],
      "metadata": {
        "id": "vic9lzmB6v1V"
      }
    },
    {
      "cell_type": "code",
      "source": [
        "fruit = 'banana'\n",
        "'n' in fruit\n",
        "'m' in fruit\n",
        "'man' in fruit\n",
        "'nan' in fruit\n",
        "if 'a' in fruit:\n",
        "  print('Found it!')"
      ],
      "metadata": {
        "colab": {
          "base_uri": "https://localhost:8080/"
        },
        "id": "58S14-1E7ImT",
        "outputId": "6e1495cd-2cc1-4032-dae3-b8b9b320d96e"
      },
      "execution_count": 2,
      "outputs": [
        {
          "output_type": "stream",
          "name": "stdout",
          "text": [
            "Found it!\n"
          ]
        }
      ]
    },
    {
      "cell_type": "code",
      "source": [
        "# Exercise for 'in' as a logical operator\n",
        "for i in 'banana':\n",
        "    if 'n' in i:\n",
        "        print(i)"
      ],
      "metadata": {
        "colab": {
          "base_uri": "https://localhost:8080/"
        },
        "id": "mbg6TFfA-PXC",
        "outputId": "dd922a5f-2402-4a4f-9e4e-5363ae8e642f"
      },
      "execution_count": 23,
      "outputs": [
        {
          "output_type": "stream",
          "name": "stdout",
          "text": [
            "n\n",
            "n\n"
          ]
        }
      ]
    },
    {
      "cell_type": "code",
      "source": [
        "# Test\n",
        "fruit = 'banana'\n",
        "x = 'n' in fruit\n",
        "y = 'm' in fruit\n",
        "print(x, y)"
      ],
      "metadata": {
        "colab": {
          "base_uri": "https://localhost:8080/"
        },
        "id": "j-709f4glx0g",
        "outputId": "0362af7f-7cb5-4a30-b60a-3579f1074c22"
      },
      "execution_count": 5,
      "outputs": [
        {
          "output_type": "stream",
          "name": "stdout",
          "text": [
            "True False\n"
          ]
        }
      ]
    },
    {
      "cell_type": "markdown",
      "source": [
        "# String Comparison\n",
        "\n",
        "```\n",
        "if word == 'banana':\n",
        "    print('All right, bananas.')\n",
        "if word < 'banana':\n",
        "    print('Your word,' + word + ',comes before banana.')\n",
        "elif word > 'banana':\n",
        "    print('Your word,' + word + ', comes after banana.')\n",
        "else:\n",
        "    print('All right, bananas.')\n",
        "```\n",
        "* Uppercase letters are generally less than lowercase letters\n",
        "\n",
        "```\n",
        "Z < a\n",
        "A < a\n",
        "```\n",
        "\n",
        "\n"
      ],
      "metadata": {
        "id": "EXzvtIkfmmAX"
      }
    },
    {
      "cell_type": "markdown",
      "source": [
        "# String Library\n",
        "* Python has a number of string functions which are in the string library\n",
        "* These functions are already built into every string - we invoke them by appending the function to the string variable\n",
        "* These functions do not modify the original string, instead they return a new string that has been altered"
      ],
      "metadata": {
        "id": "NlpZ2qC8pk9a"
      }
    },
    {
      "cell_type": "code",
      "source": [
        "greet = 'Hello Bob'\n",
        "zap = greet.lower()\n",
        "print(zap)\n",
        "print(greet)\n",
        "print('Hi There'.lower())"
      ],
      "metadata": {
        "colab": {
          "base_uri": "https://localhost:8080/"
        },
        "id": "GpiI3z_vqICt",
        "outputId": "0673ecd9-408e-496c-bc47-dfaf1956a61d"
      },
      "execution_count": 6,
      "outputs": [
        {
          "output_type": "stream",
          "name": "stdout",
          "text": [
            "hello bob\n",
            "Hello Bob\n",
            "hi there\n"
          ]
        }
      ]
    },
    {
      "cell_type": "code",
      "source": [
        "x = 'Hello world'\n",
        "type(x) #this gives us the type of data which is a 'str'\n",
        "dir(x) #shows us what are strings capable of. Output are the method class. Check python documentation for more details"
      ],
      "metadata": {
        "colab": {
          "base_uri": "https://localhost:8080/"
        },
        "collapsed": true,
        "id": "szV_vVCJrGJN",
        "outputId": "8a633fca-5bd8-4481-c159-fc2854c05088"
      },
      "execution_count": 9,
      "outputs": [
        {
          "output_type": "execute_result",
          "data": {
            "text/plain": [
              "['__add__',\n",
              " '__class__',\n",
              " '__contains__',\n",
              " '__delattr__',\n",
              " '__dir__',\n",
              " '__doc__',\n",
              " '__eq__',\n",
              " '__format__',\n",
              " '__ge__',\n",
              " '__getattribute__',\n",
              " '__getitem__',\n",
              " '__getnewargs__',\n",
              " '__gt__',\n",
              " '__hash__',\n",
              " '__init__',\n",
              " '__init_subclass__',\n",
              " '__iter__',\n",
              " '__le__',\n",
              " '__len__',\n",
              " '__lt__',\n",
              " '__mod__',\n",
              " '__mul__',\n",
              " '__ne__',\n",
              " '__new__',\n",
              " '__reduce__',\n",
              " '__reduce_ex__',\n",
              " '__repr__',\n",
              " '__rmod__',\n",
              " '__rmul__',\n",
              " '__setattr__',\n",
              " '__sizeof__',\n",
              " '__str__',\n",
              " '__subclasshook__',\n",
              " 'capitalize',\n",
              " 'casefold',\n",
              " 'center',\n",
              " 'count',\n",
              " 'encode',\n",
              " 'endswith',\n",
              " 'expandtabs',\n",
              " 'find',\n",
              " 'format',\n",
              " 'format_map',\n",
              " 'index',\n",
              " 'isalnum',\n",
              " 'isalpha',\n",
              " 'isascii',\n",
              " 'isdecimal',\n",
              " 'isdigit',\n",
              " 'isidentifier',\n",
              " 'islower',\n",
              " 'isnumeric',\n",
              " 'isprintable',\n",
              " 'isspace',\n",
              " 'istitle',\n",
              " 'isupper',\n",
              " 'join',\n",
              " 'ljust',\n",
              " 'lower',\n",
              " 'lstrip',\n",
              " 'maketrans',\n",
              " 'partition',\n",
              " 'removeprefix',\n",
              " 'removesuffix',\n",
              " 'replace',\n",
              " 'rfind',\n",
              " 'rindex',\n",
              " 'rjust',\n",
              " 'rpartition',\n",
              " 'rsplit',\n",
              " 'rstrip',\n",
              " 'split',\n",
              " 'splitlines',\n",
              " 'startswith',\n",
              " 'strip',\n",
              " 'swapcase',\n",
              " 'title',\n",
              " 'translate',\n",
              " 'upper',\n",
              " 'zfill']"
            ]
          },
          "metadata": {},
          "execution_count": 9
        }
      ]
    },
    {
      "cell_type": "markdown",
      "source": [
        "# Common things we can do with the string library\n",
        "```\n",
        "* str.capitalize()\n",
        "* str.center(widath[, fillchar])\n",
        "* str.endswith(suffix[, start[, end]])\n",
        "* str.find(sub[, start[, end]])\n",
        "* str.lstrip([chars])\n",
        "* str.replace(old, new[, count])\n",
        "* str.lower()\n",
        "* str.rstrip([chars])\n",
        "* str.strip([chars])\n",
        "* str.upper()\n",
        "```"
      ],
      "metadata": {
        "id": "FeGxb-a6sjD0"
      }
    },
    {
      "cell_type": "markdown",
      "source": [
        "# Searching a String\n",
        "* We use the find( ) function to search for a substring within another string\n",
        "* find( ) finds the first occurence of the substring\n",
        "* If the substring is not found, find( ) returs -1\n",
        "* Remember that string position starts at zero\n",
        "\n",
        "```\n",
        "|b|a|n|a|n|a|\n",
        " 0 1 2 3 4 5\n",
        "```\n",
        "\n"
      ],
      "metadata": {
        "id": "y_qt9p0wuIlk"
      }
    },
    {
      "cell_type": "code",
      "source": [
        "fruit = 'banana'\n",
        "x = fruit.find('na')\n",
        "print(x)\n",
        "\n",
        "aa = fruit.find('z')\n",
        "print(aa)"
      ],
      "metadata": {
        "colab": {
          "base_uri": "https://localhost:8080/"
        },
        "id": "V6Ts9noRuu-L",
        "outputId": "58c62967-8f60-4174-c025-32953cc7d8d6"
      },
      "execution_count": 10,
      "outputs": [
        {
          "output_type": "stream",
          "name": "stdout",
          "text": [
            "2\n",
            "-1\n"
          ]
        }
      ]
    },
    {
      "cell_type": "markdown",
      "source": [
        "# Making Everything UPPER CASE\n",
        "* You can make a copy of a string lower case or upper case\n",
        "* Often when we are searching for a string using find( ) we first convert the string to lower case so we can search a string regardless of case"
      ],
      "metadata": {
        "id": "fh7TpoH0w5sm"
      }
    },
    {
      "cell_type": "code",
      "source": [
        "greet = 'Hello Bob'\n",
        "xxx = greet.upper()\n",
        "print(xxx)\n",
        "\n",
        "YYY = greet.lower()\n",
        "print(YYY)"
      ],
      "metadata": {
        "colab": {
          "base_uri": "https://localhost:8080/"
        },
        "id": "68z9mLHAxSOW",
        "outputId": "0bde38b5-e5ae-4df7-fb14-4605badcd20f"
      },
      "execution_count": 11,
      "outputs": [
        {
          "output_type": "stream",
          "name": "stdout",
          "text": [
            "HELLO BOB\n",
            "hello bob\n"
          ]
        }
      ]
    },
    {
      "cell_type": "markdown",
      "source": [
        "# Search and Replace\n",
        "* The replace( ) function is like a \"search and replace\" operation in a word processor\n",
        "* It replaces all occurences of the search string with the replacement string"
      ],
      "metadata": {
        "id": "sg6mY8_9xxy_"
      }
    },
    {
      "cell_type": "code",
      "source": [
        "greet = 'Hello Bob'\n",
        "nstr = greet.replace('Bob', 'Jane')\n",
        "print(nstr)\n",
        "\n",
        "mstr = greet.replace('o', 'X')\n",
        "print(mstr)"
      ],
      "metadata": {
        "colab": {
          "base_uri": "https://localhost:8080/"
        },
        "id": "VLh9fChWyHC-",
        "outputId": "fe96b85b-8174-42a6-9176-cfc2b4316ce8"
      },
      "execution_count": 12,
      "outputs": [
        {
          "output_type": "stream",
          "name": "stdout",
          "text": [
            "Hello Jane\n",
            "HellX BXb\n"
          ]
        }
      ]
    },
    {
      "cell_type": "markdown",
      "source": [
        "# Strpping Whitespaces (new lines or tabs)\n",
        "* Sometimes we want to take a string and remove whitespaces at the beginning and/or end\n",
        "* Istrip( ) and rstrip( ) remove whitespace at the left or right\n",
        "* strip( ) removes both beginning and ending whitespace"
      ],
      "metadata": {
        "id": "l4xDW62Typpy"
      }
    },
    {
      "cell_type": "code",
      "source": [
        "greet = ' Hello Bob '\n",
        "x = greet.lstrip()\n",
        "y = greet.rstrip()\n",
        "z = greet.strip()\n",
        "print(x)\n",
        "print(y)\n",
        "print(z)"
      ],
      "metadata": {
        "colab": {
          "base_uri": "https://localhost:8080/"
        },
        "id": "GZ_ZRJBBzpYF",
        "outputId": "e02d9c19-c496-4efe-f408-d02fbdab5da9"
      },
      "execution_count": 14,
      "outputs": [
        {
          "output_type": "stream",
          "name": "stdout",
          "text": [
            "Hello Bob \n",
            " Hello Bob\n",
            "Hello Bob\n"
          ]
        }
      ]
    },
    {
      "cell_type": "markdown",
      "source": [
        "# Prefixes\n"
      ],
      "metadata": {
        "id": "XK96tTTl0fVp"
      }
    },
    {
      "cell_type": "code",
      "source": [
        "line = 'Please have a nice day'\n",
        "x = line.startswith('Please')\n",
        "y = line.startswith('p')\n",
        "print(x)\n",
        "print(y)"
      ],
      "metadata": {
        "colab": {
          "base_uri": "https://localhost:8080/"
        },
        "id": "j0bk3MNa0jLJ",
        "outputId": "e748a316-7703-4d89-fadb-7992583b0184"
      },
      "execution_count": 17,
      "outputs": [
        {
          "output_type": "stream",
          "name": "stdout",
          "text": [
            "True\n",
            "False\n"
          ]
        }
      ]
    },
    {
      "cell_type": "markdown",
      "source": [
        "# Parsing and Extracting\n",
        "From chinua.emenik@uct.ac.za Sat Jan 5 09:14:16 2008\n",
        "\n"
      ],
      "metadata": {
        "id": "beXrdCHq1Lju"
      }
    },
    {
      "cell_type": "code",
      "source": [
        "data = 'From chinua.emenike@uct.ac.za Sat Jan 5 09:14:16 2008'\n",
        "atpos = data.find('@') #where is the position of '@'\n",
        "print(atpos)\n",
        "\n",
        "sppos = data.find(' ', atpos) #where is the next space after 'atpos'\n",
        "print(sppos)\n",
        "\n",
        "host = data[atpos + 1 : sppos]\n",
        "print(host)"
      ],
      "metadata": {
        "colab": {
          "base_uri": "https://localhost:8080/"
        },
        "id": "mtQTl5qy10cY",
        "outputId": "8221d91c-5d7c-461b-8898-157eb243ef9f"
      },
      "execution_count": 18,
      "outputs": [
        {
          "output_type": "stream",
          "name": "stdout",
          "text": [
            "19\n",
            "29\n",
            "uct.ac.za\n"
          ]
        }
      ]
    },
    {
      "cell_type": "markdown",
      "source": [
        "# Exercise\n",
        "* Take the following Python code that stores a string\n",
        "str = 'X-DSPAM-Confidence: 0.8475 '\n",
        "* Use find and string slicing to extract the portion of the string after the colo character and then use the 'float' function to convert the extracted string into a floating number."
      ],
      "metadata": {
        "id": "kOwr04oOya0z"
      }
    },
    {
      "cell_type": "code",
      "source": [
        "str = 'X-DSPAM-Confidence: 0.8475'\n",
        "x = str.find(':')\n",
        "#print(x)\n",
        "y = str[x+2:]\n",
        "#print(y)\n",
        "#print(y + 42.0) # will fail\n",
        "z = float(y)\n",
        "print(z)\n",
        "#print(z + 42.0)"
      ],
      "metadata": {
        "colab": {
          "base_uri": "https://localhost:8080/"
        },
        "id": "w27kBdkEBePO",
        "outputId": "f4f4ba44-f62b-464a-bd6b-0659b7dc9418"
      },
      "execution_count": 12,
      "outputs": [
        {
          "output_type": "stream",
          "name": "stdout",
          "text": [
            "0.8475\n"
          ]
        }
      ]
    },
    {
      "cell_type": "markdown",
      "source": [
        "# Files Processing\n",
        "* A text file can be thought of as a sequence of lines\n",
        "\n",
        "From chinua.emenike@uct.ac.za Sat Jan 5 09:14:16 2008\n",
        "Return-Path: <pastmaster@collab.sakaiproject.org>\n",
        "Date: Sat, 5 Jan 2008 09:12:18 -0500\n",
        "To: source@collab.sakaiproject.org\n",
        "From: chinua.emenike@uct.ac.za\n",
        "Subject: [sakai] svn commit: r39772 - content/branches/\n",
        "\n",
        "Details: http://source.sakaiproject.org/viewsvn/?view=rev&rev=39772\n",
        "\n",
        "#Opening a File\n",
        "* Before we can read the contents of the file, we must tell Python which file we are going to work with and what we will be doing with the file\n",
        "* This is done with the open( ) function\n",
        "* open( ) returns a \"file handle\" - a variable used to perform operations on a file\n",
        "* Similar to \"File -> Open\" in a Word Processor\n",
        "\n",
        "# Using open( )\n",
        "- handle = open(filename, mode)\n",
        "- returns a handle used to manipulate the file\n",
        "- filename is a string\n",
        "- mode is optional and should be 'r' if we are planning to read the file and 'w' if we are going to write to the file\n",
        "\n",
        "# What is a Handle?\n",
        "> fhand = open('mbox.txt)\n",
        "> print(fhand)\n",
        "<_io.TextIOWrapper name='mbox.txt' mode='r' encoding='UTF-8'>\n",
        "\n",
        "'open read write close'--->'HANDLE--->mbox.txt(blah blah blah)\n",
        "\n",
        "# When Files are Missing\n",
        "> fhand = open('stuff.txt')\n",
        "  Traceback (most recent call last):\n",
        "    File \"<stdin>\", line 1, in <module>\n",
        "  FileNotFoundError: [Errno 2] No such file or directory: 'stuff.txt'\n",
        "\n",
        "  # The newline Character\n",
        "  * We use a special character called the 'newline' to indicate when a line ends\n",
        "  * We represent it as \\n in strings\n",
        "  * Newline is still one character - not two"
      ],
      "metadata": {
        "id": "pl_PxAG6cY7l"
      }
    },
    {
      "cell_type": "code",
      "source": [
        "x = 'Hello\\nworld!'\n",
        "x\n",
        "print(x)\n",
        "x = 'X\\nY'\n",
        "print(x)\n",
        "len(x)"
      ],
      "metadata": {
        "colab": {
          "base_uri": "https://localhost:8080/"
        },
        "id": "SXiW03j-iR99",
        "outputId": "7acf1b01-b6b2-4890-8bc0-11ef468ccd5e"
      },
      "execution_count": 4,
      "outputs": [
        {
          "output_type": "stream",
          "name": "stdout",
          "text": [
            "Hello\n",
            "world!\n",
            "X\n",
            "Y\n"
          ]
        },
        {
          "output_type": "execute_result",
          "data": {
            "text/plain": [
              "3"
            ]
          },
          "metadata": {},
          "execution_count": 4
        }
      ]
    },
    {
      "cell_type": "markdown",
      "source": [
        "# Here is how newline work in the background\n",
        "\n",
        "```\n",
        "From chinua.emenike@uct.ac.za Sat Jan 5 09:14:16 2008\\n\n",
        "Return-Path: <pastmaster@collab.sakaiproject.org>\\n\n",
        "Date: Sat, 5 Jan 2008 09:12:18 -0500\\n\n",
        "To: source@collab.sakaiproject.org\\n\n",
        "From: chinua.emenike@uct.ac.za\\n\n",
        "Subject: [sakai] svn commit: r39772 - content/branches/\\n\n",
        "\\n\n",
        "Details: http://source.sakaiproject.org/viewsvn/?view=rev&rev=39772\n",
        "```\n",
        "\n"
      ],
      "metadata": {
        "id": "PY-J1en_ju-3"
      }
    },
    {
      "cell_type": "markdown",
      "source": [
        "# Processing Files\n",
        "## File Handle as a Sequence\n",
        "* A 'file handle' open for read can be treated as a sequence of strings where each line in the file is a string in the sequence\n",
        "* We can use the 'for' statement to iterate through a sequence\n",
        "* Remember - a sequence is an ordered set\n",
        "\n",
        "```\n",
        "xfile = open('mbox.txt')\n",
        "for words in xfile:\n",
        "    print(words)\n",
        "```\n",
        "\n"
      ],
      "metadata": {
        "id": "G0adG0eUERA9"
      }
    },
    {
      "cell_type": "markdown",
      "source": [
        "# Counting Lines in a File\n",
        "* Open a file read-only\n",
        "* Use a 'for' loop to read each line\n",
        "* 'Count the lines and print out the number of lines"
      ],
      "metadata": {
        "id": "0lvXCCnVGl5q"
      }
    },
    {
      "cell_type": "code",
      "source": [
        "fhand = open('/mbox.txt')\n",
        "count = 0\n",
        "for line in fhand:\n",
        "    count = count + 1\n",
        "print('Line Count:', count)"
      ],
      "metadata": {
        "colab": {
          "base_uri": "https://localhost:8080/"
        },
        "id": "k8yWOvwTIKHV",
        "outputId": "e13af6f4-6745-44ec-f7fc-4594a5596fa1"
      },
      "execution_count": 7,
      "outputs": [
        {
          "output_type": "stream",
          "name": "stdout",
          "text": [
            "Line Count: 19\n"
          ]
        }
      ]
    },
    {
      "cell_type": "markdown",
      "source": [
        "# Reading the 'Whole' File\n",
        "We can read the whole file (newlines and all) into a single string"
      ],
      "metadata": {
        "id": "QmtGwEQtK8yX"
      }
    },
    {
      "cell_type": "code",
      "source": [
        "fhand = open('/mbox.txt')\n",
        "inp = fhand.read()\n",
        "print(len(inp))\n",
        "print(inp[:20])"
      ],
      "metadata": {
        "colab": {
          "base_uri": "https://localhost:8080/"
        },
        "id": "uYZiAJudLMDN",
        "outputId": "8bf48ded-33fc-4ba8-b511-66580fc15442"
      },
      "execution_count": 8,
      "outputs": [
        {
          "output_type": "stream",
          "name": "stdout",
          "text": [
            "1558\n",
            "# Introduction to Py\n"
          ]
        }
      ]
    },
    {
      "cell_type": "markdown",
      "source": [
        "# Searching Through a File\n",
        "We can put an 'if' statement in our 'for' loop to only print lines that meet some criteria"
      ],
      "metadata": {
        "id": "rngGrUuVOnwI"
      }
    },
    {
      "cell_type": "code",
      "source": [
        "fhand = open('/mbox.txt')\n",
        "for line in fhand:\n",
        "    if line.startswith('This'):\n",
        "        print(line)"
      ],
      "metadata": {
        "colab": {
          "base_uri": "https://localhost:8080/"
        },
        "id": "m4Yuf8oAO9S2",
        "outputId": "82b136ce-a66a-4574-a90b-e29703872a85"
      },
      "execution_count": 11,
      "outputs": [
        {
          "output_type": "stream",
          "name": "stdout",
          "text": [
            "This section of the notes dives into Python's core data structures and their applications. Here's why mastering data structures is crucial:\n",
            "\n"
          ]
        }
      ]
    },
    {
      "cell_type": "markdown",
      "source": [
        "* We can strip the whitespace from the right-hand side of the string using 'rstrip( ) from the string library\n",
        "*The newline is considered \"white space\" and is stripped"
      ],
      "metadata": {
        "id": "-JcwZNJOP6xA"
      }
    },
    {
      "cell_type": "code",
      "source": [
        "fhand = open('/mbox.txt')\n",
        "for line in fhand:\n",
        "    line = line.rstrip()\n",
        "    if line.startswith('This'):\n",
        "        print(line)"
      ],
      "metadata": {
        "colab": {
          "base_uri": "https://localhost:8080/"
        },
        "id": "yWqy1WZvQh9D",
        "outputId": "e90b532b-d1be-4e3a-a3aa-3172a532fc1a"
      },
      "execution_count": 12,
      "outputs": [
        {
          "output_type": "stream",
          "name": "stdout",
          "text": [
            "This section of the notes dives into Python's core data structures and their applications. Here's why mastering data structures is crucial:\n"
          ]
        }
      ]
    },
    {
      "cell_type": "markdown",
      "source": [
        "# Skipping with Continue\n",
        "* We can conveniently skip a line by using the 'continue statement"
      ],
      "metadata": {
        "id": "UoWV7IhERbs5"
      }
    },
    {
      "cell_type": "code",
      "source": [
        "fhand = open('/mbox.txt')\n",
        "for line in fhand:\n",
        "    line = line.rstrip()\n",
        "    if not line.startswith('This'):\n",
        "        continue\n",
        "    print(line)"
      ],
      "metadata": {
        "colab": {
          "base_uri": "https://localhost:8080/"
        },
        "id": "42Z-sLrdRm_x",
        "outputId": "7b3dd393-ab7b-4cc2-9926-65bb86fefaf5"
      },
      "execution_count": 16,
      "outputs": [
        {
          "output_type": "stream",
          "name": "stdout",
          "text": [
            "This section of the notes dives into Python's core data structures and their applications. Here's why mastering data structures is crucial:\n"
          ]
        }
      ]
    },
    {
      "cell_type": "markdown",
      "source": [
        "# Using 'in' to Select lines\n",
        "* We can look for a string anywhere in a line as our selection criteria\n",
        "\n",
        "```\n",
        "fhand = open('mbox-short.txt')\n",
        "for line in fhand:\n",
        "    line = line.rstrip( )\n",
        "    if not '@uct.ac.za' in line:\n",
        "        continue\n",
        "    print(line)\n",
        "```\n",
        "\n",
        "```\n",
        "From chinua.emenike@**uct.ac.za** Sat Jan 5 09:14:16 2008\n",
        "X-Authentication-Warning: set sender to chinua.emenike@**uct.ca.za** using -f\n",
        "From: chinua.emenike@uct.ac.za\n",
        "Author: chinua.emenike@uct.ac.za\n",
        "From david.horwitz@uct.ac.za Fri Jan   4 07:02:32 2008\n",
        "X-Authentication-Warning: set sender to david.horwitz@**uct.ac.za** using -f...\n",
        "```\n",
        "This will find all '@uct.ac.za' in the .txt file.\n",
        "\n",
        "\n",
        "\n"
      ],
      "metadata": {
        "id": "OdGH1x7bwWPx"
      }
    },
    {
      "cell_type": "code",
      "source": [
        "# Prompt for File Name\n",
        "\n",
        "fname = input('Enter the file name:')\n",
        "fhand = open(fname)\n",
        "count = 0\n",
        "for line in fhand:\n",
        "    if line.startswith('This'):\n",
        "        count = count + 1\n",
        "print('There were', count, 'subject lines in', fname)"
      ],
      "metadata": {
        "colab": {
          "base_uri": "https://localhost:8080/"
        },
        "id": "K79WAtwlzRJw",
        "outputId": "c5158bff-f9e7-46a5-ed84-1b9d0ab14cb4"
      },
      "execution_count": 8,
      "outputs": [
        {
          "output_type": "stream",
          "name": "stdout",
          "text": [
            "Enter the file name:/mbox.txt\n",
            "There were 1 subject lines in /mbox.txt\n"
          ]
        }
      ]
    },
    {
      "cell_type": "code",
      "source": [
        "# Dealing with bad File Names\n",
        "\n",
        "fname = input('Enter the file name:')\n",
        "\n",
        "try:\n",
        "    fhand = open(fname)\n",
        "    count = 0\n",
        "    for line in fhand:\n",
        "        if line.startswith('This'):\n",
        "            count = count + 1\n",
        "    print('There were', count, 'This lines in', fname)\n",
        "\n",
        "except:\n",
        "\n",
        "    print('File cannot be opened:', fname)"
      ],
      "metadata": {
        "colab": {
          "base_uri": "https://localhost:8080/"
        },
        "id": "hNJ1vAIc1-30",
        "outputId": "1cc7e1bb-65f3-41b7-935f-3860cbb670bb"
      },
      "execution_count": 7,
      "outputs": [
        {
          "output_type": "stream",
          "name": "stdout",
          "text": [
            "Enter the file name:mbok.txt\n",
            "File cannot be opened: mbok.txt\n"
          ]
        }
      ]
    },
    {
      "cell_type": "markdown",
      "source": [
        "# Exercise\n",
        "* Write a program to read through a file and print the contents of the file (line by line) all in upper case.\n"
      ],
      "metadata": {
        "id": "N_QGlfUp-JDg"
      }
    },
    {
      "cell_type": "code",
      "source": [
        "fhand = open('mbox-short.txt')\n",
        "for line in fhand:\n",
        "    line = line.rstrip()\n",
        "    print(line.upper())"
      ],
      "metadata": {
        "colab": {
          "base_uri": "https://localhost:8080/"
        },
        "collapsed": true,
        "id": "LwKgUA7x_ZDu",
        "outputId": "1aa0953b-8070-4c83-e2fb-10fba9a91eb7"
      },
      "execution_count": 9,
      "outputs": [
        {
          "output_type": "stream",
          "name": "stdout",
          "text": [
            "FROM STEPHEN.MARQUARD@UCT.AC.ZA SAT JAN  5 09:14:16 2008\n",
            "RETURN-PATH: <POSTMASTER@COLLAB.SAKAIPROJECT.ORG>\n",
            "RECEIVED: FROM MURDER (MAIL.UMICH.EDU [141.211.14.90])\n",
            "\t BY FRANKENSTEIN.MAIL.UMICH.EDU (CYRUS V2.3.8) WITH LMTPA;\n",
            "\t SAT, 05 JAN 2008 09:14:16 -0500\n",
            "X-SIEVE: CMU SIEVE 2.3\n",
            "RECEIVED: FROM MURDER ([UNIX SOCKET])\n",
            "\t BY MAIL.UMICH.EDU (CYRUS V2.2.12) WITH LMTPA;\n",
            "\t SAT, 05 JAN 2008 09:14:16 -0500\n",
            "RECEIVED: FROM HOLES.MR.ITD.UMICH.EDU (HOLES.MR.ITD.UMICH.EDU [141.211.14.79])\n",
            "\tBY FLAWLESS.MAIL.UMICH.EDU () WITH ESMTP ID M05EEFR1013674;\n",
            "\tSAT, 5 JAN 2008 09:14:15 -0500\n",
            "RECEIVED: FROM PAPLOO.UHI.AC.UK (APP1.PROD.COLLAB.UHI.AC.UK [194.35.219.184])\n",
            "\tBY HOLES.MR.ITD.UMICH.EDU ID 477F90B0.2DB2F.12494 ;\n",
            "\t 5 JAN 2008 09:14:10 -0500\n",
            "RECEIVED: FROM PAPLOO.UHI.AC.UK (LOCALHOST [127.0.0.1])\n",
            "\tBY PAPLOO.UHI.AC.UK (POSTFIX) WITH ESMTP ID 5F919BC2F2;\n",
            "\tSAT,  5 JAN 2008 14:10:05 +0000 (GMT)\n",
            "MESSAGE-ID: <200801051412.M05ECIAH010327@NAKAMURA.UITS.IUPUI.EDU>\n",
            "MIME-VERSION: 1.0\n",
            "CONTENT-TRANSFER-ENCODING: 7BIT\n",
            "RECEIVED: FROM PROD.COLLAB.UHI.AC.UK ([194.35.219.182])\n",
            "          BY PAPLOO.UHI.AC.UK (JAMES SMTP SERVER 2.1.3) WITH SMTP ID 899\n",
            "          FOR <SOURCE@COLLAB.SAKAIPROJECT.ORG>;\n",
            "          SAT, 5 JAN 2008 14:09:50 +0000 (GMT)\n",
            "RECEIVED: FROM NAKAMURA.UITS.IUPUI.EDU (NAKAMURA.UITS.IUPUI.EDU [134.68.220.122])\n",
            "\tBY SHMI.UHI.AC.UK (POSTFIX) WITH ESMTP ID A215243002\n",
            "\tFOR <SOURCE@COLLAB.SAKAIPROJECT.ORG>; SAT,  5 JAN 2008 14:13:33 +0000 (GMT)\n",
            "RECEIVED: FROM NAKAMURA.UITS.IUPUI.EDU (LOCALHOST [127.0.0.1])\n",
            "\tBY NAKAMURA.UITS.IUPUI.EDU (8.12.11.20060308/8.12.11) WITH ESMTP ID M05ECJVP010329\n",
            "\tFOR <SOURCE@COLLAB.SAKAIPROJECT.ORG>; SAT, 5 JAN 2008 09:12:19 -0500\n",
            "RECEIVED: (FROM APACHE@LOCALHOST)\n",
            "\tBY NAKAMURA.UITS.IUPUI.EDU (8.12.11.20060308/8.12.11/SUBMIT) ID M05ECIAH010327\n",
            "\tFOR SOURCE@COLLAB.SAKAIPROJECT.ORG; SAT, 5 JAN 2008 09:12:18 -0500\n",
            "DATE: SAT, 5 JAN 2008 09:12:18 -0500\n",
            "X-AUTHENTICATION-WARNING: NAKAMURA.UITS.IUPUI.EDU: APACHE SET SENDER TO STEPHEN.MARQUARD@UCT.AC.ZA USING -F\n",
            "TO: SOURCE@COLLAB.SAKAIPROJECT.ORG\n",
            "FROM: STEPHEN.MARQUARD@UCT.AC.ZA\n",
            "SUBJECT: [SAKAI] SVN COMMIT: R39772 - CONTENT/BRANCHES/SAKAI_2-5-X/CONTENT-IMPL/IMPL/SRC/JAVA/ORG/SAKAIPROJECT/CONTENT/IMPL\n",
            "X-CONTENT-TYPE-OUTER-ENVELOPE: TEXT/PLAIN; CHARSET=UTF-8\n",
            "X-CONTENT-TYPE-MESSAGE-BODY: TEXT/PLAIN; CHARSET=UTF-8\n",
            "CONTENT-TYPE: TEXT/PLAIN; CHARSET=UTF-8\n",
            "X-DSPAM-RESULT: INNOCENT\n",
            "X-DSPAM-PROCESSED: SAT JAN  5 09:14:16 2008\n",
            "X-DSPAM-CONFIDENCE: 0.8475\n",
            "X-DSPAM-PROBABILITY: 0.0000\n",
            "\n",
            "DETAILS: HTTP://SOURCE.SAKAIPROJECT.ORG/VIEWSVN/?VIEW=REV&REV=39772\n",
            "\n",
            "AUTHOR: STEPHEN.MARQUARD@UCT.AC.ZA\n",
            "DATE: 2008-01-05 09:12:07 -0500 (SAT, 05 JAN 2008)\n",
            "NEW REVISION: 39772\n",
            "\n",
            "MODIFIED:\n",
            "CONTENT/BRANCHES/SAKAI_2-5-X/CONTENT-IMPL/IMPL/SRC/JAVA/ORG/SAKAIPROJECT/CONTENT/IMPL/CONTENTSERVICESQLORACLE.JAVA\n",
            "CONTENT/BRANCHES/SAKAI_2-5-X/CONTENT-IMPL/IMPL/SRC/JAVA/ORG/SAKAIPROJECT/CONTENT/IMPL/DBCONTENTSERVICE.JAVA\n",
            "LOG:\n",
            "SAK-12501 MERGE TO 2-5-X: R39622, R39624:5, R39632:3 (RESOLVE CONFLICT FROM DIFFERING LINEBREAKS FOR R39622)\n",
            "\n",
            "----------------------\n",
            "THIS AUTOMATIC NOTIFICATION MESSAGE WAS SENT BY SAKAI COLLAB (HTTPS://COLLAB.SAKAIPROJECT.ORG/PORTAL) FROM THE SOURCE SITE.\n",
            "YOU CAN MODIFY HOW YOU RECEIVE NOTIFICATIONS AT MY WORKSPACE > PREFERENCES.\n",
            "\n",
            "\n",
            "\n",
            "FROM LOUIS@MEDIA.BERKELEY.EDU FRI JAN  4 18:10:48 2008\n",
            "RETURN-PATH: <POSTMASTER@COLLAB.SAKAIPROJECT.ORG>\n",
            "RECEIVED: FROM MURDER (MAIL.UMICH.EDU [141.211.14.97])\n",
            "\t BY FRANKENSTEIN.MAIL.UMICH.EDU (CYRUS V2.3.8) WITH LMTPA;\n",
            "\t FRI, 04 JAN 2008 18:10:48 -0500\n",
            "X-SIEVE: CMU SIEVE 2.3\n",
            "RECEIVED: FROM MURDER ([UNIX SOCKET])\n",
            "\t BY MAIL.UMICH.EDU (CYRUS V2.2.12) WITH LMTPA;\n",
            "\t FRI, 04 JAN 2008 18:10:48 -0500\n",
            "RECEIVED: FROM ICESTORM.MR.ITD.UMICH.EDU (ICESTORM.MR.ITD.UMICH.EDU [141.211.93.149])\n",
            "\tBY SLEEPERS.MAIL.UMICH.EDU () WITH ESMTP ID M04NABGA029441;\n",
            "\tFRI, 4 JAN 2008 18:10:37 -0500\n",
            "RECEIVED: FROM PAPLOO.UHI.AC.UK (APP1.PROD.COLLAB.UHI.AC.UK [194.35.219.184])\n",
            "\tBY ICESTORM.MR.ITD.UMICH.EDU ID 477EBCE3.161BB.4320 ;\n",
            "\t 4 JAN 2008 18:10:31 -0500\n",
            "RECEIVED: FROM PAPLOO.UHI.AC.UK (LOCALHOST [127.0.0.1])\n",
            "\tBY PAPLOO.UHI.AC.UK (POSTFIX) WITH ESMTP ID 07969BB706;\n",
            "\tFRI,  4 JAN 2008 23:10:33 +0000 (GMT)\n",
            "MESSAGE-ID: <200801042308.M04N8V6O008125@NAKAMURA.UITS.IUPUI.EDU>\n",
            "MIME-VERSION: 1.0\n",
            "CONTENT-TRANSFER-ENCODING: 7BIT\n",
            "RECEIVED: FROM PROD.COLLAB.UHI.AC.UK ([194.35.219.182])\n",
            "          BY PAPLOO.UHI.AC.UK (JAMES SMTP SERVER 2.1.3) WITH SMTP ID 710\n",
            "          FOR <SOURCE@COLLAB.SAKAIPROJECT.ORG>;\n",
            "          FRI, 4 JAN 2008 23:10:10 +0000 (GMT)\n",
            "RECEIVED: FROM NAKAMURA.UITS.IUPUI.EDU (NAKAMURA.UITS.IUPUI.EDU [134.68.220.122])\n",
            "\tBY SHMI.UHI.AC.UK (POSTFIX) WITH ESMTP ID 4BA2F42F57\n",
            "\tFOR <SOURCE@COLLAB.SAKAIPROJECT.ORG>; FRI,  4 JAN 2008 23:10:10 +0000 (GMT)\n",
            "RECEIVED: FROM NAKAMURA.UITS.IUPUI.EDU (LOCALHOST [127.0.0.1])\n",
            "\tBY NAKAMURA.UITS.IUPUI.EDU (8.12.11.20060308/8.12.11) WITH ESMTP ID M04N8VHG008127\n",
            "\tFOR <SOURCE@COLLAB.SAKAIPROJECT.ORG>; FRI, 4 JAN 2008 18:08:57 -0500\n",
            "RECEIVED: (FROM APACHE@LOCALHOST)\n",
            "\tBY NAKAMURA.UITS.IUPUI.EDU (8.12.11.20060308/8.12.11/SUBMIT) ID M04N8V6O008125\n",
            "\tFOR SOURCE@COLLAB.SAKAIPROJECT.ORG; FRI, 4 JAN 2008 18:08:57 -0500\n",
            "DATE: FRI, 4 JAN 2008 18:08:57 -0500\n",
            "X-AUTHENTICATION-WARNING: NAKAMURA.UITS.IUPUI.EDU: APACHE SET SENDER TO LOUIS@MEDIA.BERKELEY.EDU USING -F\n",
            "TO: SOURCE@COLLAB.SAKAIPROJECT.ORG\n",
            "FROM: LOUIS@MEDIA.BERKELEY.EDU\n",
            "SUBJECT: [SAKAI] SVN COMMIT: R39771 - IN BSPACE/SITE-MANAGE/SAKAI_2-4-X/SITE-MANAGE-TOOL/TOOL/SRC: BUNDLE JAVA/ORG/SAKAIPROJECT/SITE/TOOL\n",
            "X-CONTENT-TYPE-OUTER-ENVELOPE: TEXT/PLAIN; CHARSET=UTF-8\n",
            "X-CONTENT-TYPE-MESSAGE-BODY: TEXT/PLAIN; CHARSET=UTF-8\n",
            "CONTENT-TYPE: TEXT/PLAIN; CHARSET=UTF-8\n",
            "X-DSPAM-RESULT: INNOCENT\n",
            "X-DSPAM-PROCESSED: FRI JAN  4 18:10:48 2008\n",
            "X-DSPAM-CONFIDENCE: 0.6178\n",
            "X-DSPAM-PROBABILITY: 0.0000\n",
            "\n",
            "DETAILS: HTTP://SOURCE.SAKAIPROJECT.ORG/VIEWSVN/?VIEW=REV&REV=39771\n",
            "\n",
            "AUTHOR: LOUIS@MEDIA.BERKELEY.EDU\n",
            "DATE: 2008-01-04 18:08:50 -0500 (FRI, 04 JAN 2008)\n",
            "NEW REVISION: 39771\n",
            "\n",
            "MODIFIED:\n",
            "BSPACE/SITE-MANAGE/SAKAI_2-4-X/SITE-MANAGE-TOOL/TOOL/SRC/BUNDLE/SITESETUPGENERIC.PROPERTIES\n",
            "BSPACE/SITE-MANAGE/SAKAI_2-4-X/SITE-MANAGE-TOOL/TOOL/SRC/JAVA/ORG/SAKAIPROJECT/SITE/TOOL/SITEACTION.JAVA\n",
            "LOG:\n",
            "BSP-1415 NEW (GUEST) USER NOTIFICATION\n",
            "\n",
            "----------------------\n",
            "THIS AUTOMATIC NOTIFICATION MESSAGE WAS SENT BY SAKAI COLLAB (HTTPS://COLLAB.SAKAIPROJECT.ORG/PORTAL) FROM THE SOURCE SITE.\n",
            "YOU CAN MODIFY HOW YOU RECEIVE NOTIFICATIONS AT MY WORKSPACE > PREFERENCES.\n",
            "\n",
            "\n",
            "\n",
            "FROM ZQIAN@UMICH.EDU FRI JAN  4 16:10:39 2008\n",
            "RETURN-PATH: <POSTMASTER@COLLAB.SAKAIPROJECT.ORG>\n",
            "RECEIVED: FROM MURDER (MAIL.UMICH.EDU [141.211.14.25])\n",
            "\t BY FRANKENSTEIN.MAIL.UMICH.EDU (CYRUS V2.3.8) WITH LMTPA;\n",
            "\t FRI, 04 JAN 2008 16:10:39 -0500\n",
            "X-SIEVE: CMU SIEVE 2.3\n",
            "RECEIVED: FROM MURDER ([UNIX SOCKET])\n",
            "\t BY MAIL.UMICH.EDU (CYRUS V2.2.12) WITH LMTPA;\n",
            "\t FRI, 04 JAN 2008 16:10:39 -0500\n",
            "RECEIVED: FROM GHOSTBUSTERS.MR.ITD.UMICH.EDU (GHOSTBUSTERS.MR.ITD.UMICH.EDU [141.211.93.144])\n",
            "\tBY PANTHER.MAIL.UMICH.EDU () WITH ESMTP ID M04LACZW014275;\n",
            "\tFRI, 4 JAN 2008 16:10:38 -0500\n",
            "RECEIVED: FROM PAPLOO.UHI.AC.UK (APP1.PROD.COLLAB.UHI.AC.UK [194.35.219.184])\n",
            "\tBY GHOSTBUSTERS.MR.ITD.UMICH.EDU ID 477EA0C6.A0214.25480 ;\n",
            "\t 4 JAN 2008 16:10:33 -0500\n",
            "RECEIVED: FROM PAPLOO.UHI.AC.UK (LOCALHOST [127.0.0.1])\n",
            "\tBY PAPLOO.UHI.AC.UK (POSTFIX) WITH ESMTP ID C48CDBB490;\n",
            "\tFRI,  4 JAN 2008 21:10:31 +0000 (GMT)\n",
            "MESSAGE-ID: <200801042109.M04L92HB007923@NAKAMURA.UITS.IUPUI.EDU>\n",
            "MIME-VERSION: 1.0\n",
            "CONTENT-TRANSFER-ENCODING: 7BIT\n",
            "RECEIVED: FROM PROD.COLLAB.UHI.AC.UK ([194.35.219.182])\n",
            "          BY PAPLOO.UHI.AC.UK (JAMES SMTP SERVER 2.1.3) WITH SMTP ID 906\n",
            "          FOR <SOURCE@COLLAB.SAKAIPROJECT.ORG>;\n",
            "          FRI, 4 JAN 2008 21:10:18 +0000 (GMT)\n",
            "RECEIVED: FROM NAKAMURA.UITS.IUPUI.EDU (NAKAMURA.UITS.IUPUI.EDU [134.68.220.122])\n",
            "\tBY SHMI.UHI.AC.UK (POSTFIX) WITH ESMTP ID 7D13042F71\n",
            "\tFOR <SOURCE@COLLAB.SAKAIPROJECT.ORG>; FRI,  4 JAN 2008 21:10:14 +0000 (GMT)\n",
            "RECEIVED: FROM NAKAMURA.UITS.IUPUI.EDU (LOCALHOST [127.0.0.1])\n",
            "\tBY NAKAMURA.UITS.IUPUI.EDU (8.12.11.20060308/8.12.11) WITH ESMTP ID M04L927E007925\n",
            "\tFOR <SOURCE@COLLAB.SAKAIPROJECT.ORG>; FRI, 4 JAN 2008 16:09:02 -0500\n",
            "RECEIVED: (FROM APACHE@LOCALHOST)\n",
            "\tBY NAKAMURA.UITS.IUPUI.EDU (8.12.11.20060308/8.12.11/SUBMIT) ID M04L92HB007923\n",
            "\tFOR SOURCE@COLLAB.SAKAIPROJECT.ORG; FRI, 4 JAN 2008 16:09:02 -0500\n",
            "DATE: FRI, 4 JAN 2008 16:09:02 -0500\n",
            "X-AUTHENTICATION-WARNING: NAKAMURA.UITS.IUPUI.EDU: APACHE SET SENDER TO ZQIAN@UMICH.EDU USING -F\n",
            "TO: SOURCE@COLLAB.SAKAIPROJECT.ORG\n",
            "FROM: ZQIAN@UMICH.EDU\n",
            "SUBJECT: [SAKAI] SVN COMMIT: R39770 - SITE-MANAGE/BRANCHES/SAKAI_2-5-X/SITE-MANAGE-TOOL/TOOL/SRC/WEBAPP/VM/SITESETUP\n",
            "X-CONTENT-TYPE-OUTER-ENVELOPE: TEXT/PLAIN; CHARSET=UTF-8\n",
            "X-CONTENT-TYPE-MESSAGE-BODY: TEXT/PLAIN; CHARSET=UTF-8\n",
            "CONTENT-TYPE: TEXT/PLAIN; CHARSET=UTF-8\n",
            "X-DSPAM-RESULT: INNOCENT\n",
            "X-DSPAM-PROCESSED: FRI JAN  4 16:10:39 2008\n",
            "X-DSPAM-CONFIDENCE: 0.6961\n",
            "X-DSPAM-PROBABILITY: 0.0000\n",
            "\n",
            "DETAILS: HTTP://SOURCE.SAKAIPROJECT.ORG/VIEWSVN/?VIEW=REV&REV=39770\n",
            "\n",
            "AUTHOR: ZQIAN@UMICH.EDU\n",
            "DATE: 2008-01-04 16:09:01 -0500 (FRI, 04 JAN 2008)\n",
            "NEW REVISION: 39770\n",
            "\n",
            "MODIFIED:\n",
            "SITE-MANAGE/BRANCHES/SAKAI_2-5-X/SITE-MANAGE-TOOL/TOOL/SRC/WEBAPP/VM/SITESETUP/CHEF_SITE-SITEINFO-LIST.VM\n",
            "LOG:\n",
            "MERGE FIX TO SAK-9996 INTO 2-5-X BRANCH: SVN MERGE -R 39687:39688 HTTPS://SOURCE.SAKAIPROJECT.ORG/SVN/SITE-MANAGE/TRUNK/\n",
            "\n",
            "----------------------\n",
            "THIS AUTOMATIC NOTIFICATION MESSAGE WAS SENT BY SAKAI COLLAB (HTTPS://COLLAB.SAKAIPROJECT.ORG/PORTAL) FROM THE SOURCE SITE.\n",
            "YOU CAN MODIFY HOW YOU RECEIVE NOTIFICATIONS AT MY WORKSPACE > PREFERENCES.\n",
            "\n",
            "\n",
            "\n",
            "FROM RJLOWE@IUPUI.EDU FRI JAN  4 15:46:24 2008\n",
            "RETURN-PATH: <POSTMASTER@COLLAB.SAKAIPROJECT.ORG>\n",
            "RECEIVED: FROM MURDER (MAIL.UMICH.EDU [141.211.14.25])\n",
            "\t BY FRANKENSTEIN.MAIL.UMICH.EDU (CYRUS V2.3.8) WITH LMTPA;\n",
            "\t FRI, 04 JAN 2008 15:46:24 -0500\n",
            "X-SIEVE: CMU SIEVE 2.3\n",
            "RECEIVED: FROM MURDER ([UNIX SOCKET])\n",
            "\t BY MAIL.UMICH.EDU (CYRUS V2.2.12) WITH LMTPA;\n",
            "\t FRI, 04 JAN 2008 15:46:24 -0500\n",
            "RECEIVED: FROM DREAMCATCHER.MR.ITD.UMICH.EDU (DREAMCATCHER.MR.ITD.UMICH.EDU [141.211.14.43])\n",
            "\tBY PANTHER.MAIL.UMICH.EDU () WITH ESMTP ID M04KKNBX032077;\n",
            "\tFRI, 4 JAN 2008 15:46:23 -0500\n",
            "RECEIVED: FROM PAPLOO.UHI.AC.UK (APP1.PROD.COLLAB.UHI.AC.UK [194.35.219.184])\n",
            "\tBY DREAMCATCHER.MR.ITD.UMICH.EDU ID 477E9B13.2F3BC.22965 ;\n",
            "\t 4 JAN 2008 15:46:13 -0500\n",
            "RECEIVED: FROM PAPLOO.UHI.AC.UK (LOCALHOST [127.0.0.1])\n",
            "\tBY PAPLOO.UHI.AC.UK (POSTFIX) WITH ESMTP ID 4AE03BB552;\n",
            "\tFRI,  4 JAN 2008 20:46:13 +0000 (GMT)\n",
            "MESSAGE-ID: <200801042044.M04KIEM3007881@NAKAMURA.UITS.IUPUI.EDU>\n",
            "MIME-VERSION: 1.0\n",
            "CONTENT-TRANSFER-ENCODING: 7BIT\n",
            "RECEIVED: FROM PROD.COLLAB.UHI.AC.UK ([194.35.219.182])\n",
            "          BY PAPLOO.UHI.AC.UK (JAMES SMTP SERVER 2.1.3) WITH SMTP ID 38\n",
            "          FOR <SOURCE@COLLAB.SAKAIPROJECT.ORG>;\n",
            "          FRI, 4 JAN 2008 20:45:56 +0000 (GMT)\n",
            "RECEIVED: FROM NAKAMURA.UITS.IUPUI.EDU (NAKAMURA.UITS.IUPUI.EDU [134.68.220.122])\n",
            "\tBY SHMI.UHI.AC.UK (POSTFIX) WITH ESMTP ID A55D242F57\n",
            "\tFOR <SOURCE@COLLAB.SAKAIPROJECT.ORG>; FRI,  4 JAN 2008 20:45:52 +0000 (GMT)\n",
            "RECEIVED: FROM NAKAMURA.UITS.IUPUI.EDU (LOCALHOST [127.0.0.1])\n",
            "\tBY NAKAMURA.UITS.IUPUI.EDU (8.12.11.20060308/8.12.11) WITH ESMTP ID M04KIEQE007883\n",
            "\tFOR <SOURCE@COLLAB.SAKAIPROJECT.ORG>; FRI, 4 JAN 2008 15:44:40 -0500\n",
            "RECEIVED: (FROM APACHE@LOCALHOST)\n",
            "\tBY NAKAMURA.UITS.IUPUI.EDU (8.12.11.20060308/8.12.11/SUBMIT) ID M04KIEM3007881\n",
            "\tFOR SOURCE@COLLAB.SAKAIPROJECT.ORG; FRI, 4 JAN 2008 15:44:40 -0500\n",
            "DATE: FRI, 4 JAN 2008 15:44:40 -0500\n",
            "X-AUTHENTICATION-WARNING: NAKAMURA.UITS.IUPUI.EDU: APACHE SET SENDER TO RJLOWE@IUPUI.EDU USING -F\n",
            "TO: SOURCE@COLLAB.SAKAIPROJECT.ORG\n",
            "FROM: RJLOWE@IUPUI.EDU\n",
            "SUBJECT: [SAKAI] SVN COMMIT: R39769 - IN GRADEBOOK/TRUNK/APP/UI/SRC: JAVA/ORG/SAKAIPROJECT/TOOL/GRADEBOOK/UI/HELPERS/BEANS JAVA/ORG/SAKAIPROJECT/TOOL/GRADEBOOK/UI/HELPERS/PRODUCERS WEBAPP/WEB-INF WEBAPP/WEB-INF/BUNDLE\n",
            "X-CONTENT-TYPE-OUTER-ENVELOPE: TEXT/PLAIN; CHARSET=UTF-8\n",
            "X-CONTENT-TYPE-MESSAGE-BODY: TEXT/PLAIN; CHARSET=UTF-8\n",
            "CONTENT-TYPE: TEXT/PLAIN; CHARSET=UTF-8\n",
            "X-DSPAM-RESULT: INNOCENT\n",
            "X-DSPAM-PROCESSED: FRI JAN  4 15:46:24 2008\n",
            "X-DSPAM-CONFIDENCE: 0.7565\n",
            "X-DSPAM-PROBABILITY: 0.0000\n",
            "\n",
            "DETAILS: HTTP://SOURCE.SAKAIPROJECT.ORG/VIEWSVN/?VIEW=REV&REV=39769\n",
            "\n",
            "AUTHOR: RJLOWE@IUPUI.EDU\n",
            "DATE: 2008-01-04 15:44:39 -0500 (FRI, 04 JAN 2008)\n",
            "NEW REVISION: 39769\n",
            "\n",
            "MODIFIED:\n",
            "GRADEBOOK/TRUNK/APP/UI/SRC/JAVA/ORG/SAKAIPROJECT/TOOL/GRADEBOOK/UI/HELPERS/BEANS/ASSIGNMENTGRADERECORDBEAN.JAVA\n",
            "GRADEBOOK/TRUNK/APP/UI/SRC/JAVA/ORG/SAKAIPROJECT/TOOL/GRADEBOOK/UI/HELPERS/PRODUCERS/GRADEGRADEBOOKITEMPRODUCER.JAVA\n",
            "GRADEBOOK/TRUNK/APP/UI/SRC/WEBAPP/WEB-INF/APPLICATIONCONTEXT.XML\n",
            "GRADEBOOK/TRUNK/APP/UI/SRC/WEBAPP/WEB-INF/BUNDLE/MESSAGES.PROPERTIES\n",
            "GRADEBOOK/TRUNK/APP/UI/SRC/WEBAPP/WEB-INF/REQUESTCONTEXT.XML\n",
            "LOG:\n",
            "SAK-12180 - FIXED ERRORS WITH GRADING HELPER\n",
            "\n",
            "----------------------\n",
            "THIS AUTOMATIC NOTIFICATION MESSAGE WAS SENT BY SAKAI COLLAB (HTTPS://COLLAB.SAKAIPROJECT.ORG/PORTAL) FROM THE SOURCE SITE.\n",
            "YOU CAN MODIFY HOW YOU RECEIVE NOTIFICATIONS AT MY WORKSPACE > PREFERENCES.\n",
            "\n",
            "\n",
            "\n",
            "FROM ZQIAN@UMICH.EDU FRI JAN  4 15:03:18 2008\n",
            "RETURN-PATH: <POSTMASTER@COLLAB.SAKAIPROJECT.ORG>\n",
            "RECEIVED: FROM MURDER (MAIL.UMICH.EDU [141.211.14.46])\n",
            "\t BY FRANKENSTEIN.MAIL.UMICH.EDU (CYRUS V2.3.8) WITH LMTPA;\n",
            "\t FRI, 04 JAN 2008 15:03:18 -0500\n",
            "X-SIEVE: CMU SIEVE 2.3\n",
            "RECEIVED: FROM MURDER ([UNIX SOCKET])\n",
            "\t BY MAIL.UMICH.EDU (CYRUS V2.2.12) WITH LMTPA;\n",
            "\t FRI, 04 JAN 2008 15:03:18 -0500\n",
            "RECEIVED: FROM FIRESTARTER.MR.ITD.UMICH.EDU (FIRESTARTER.MR.ITD.UMICH.EDU [141.211.14.83])\n",
            "\tBY FAN.MAIL.UMICH.EDU () WITH ESMTP ID M04K3HGF006563;\n",
            "\tFRI, 4 JAN 2008 15:03:17 -0500\n",
            "RECEIVED: FROM PAPLOO.UHI.AC.UK (APP1.PROD.COLLAB.UHI.AC.UK [194.35.219.184])\n",
            "\tBY FIRESTARTER.MR.ITD.UMICH.EDU ID 477E9100.8F7F4.1590 ;\n",
            "\t 4 JAN 2008 15:03:15 -0500\n",
            "RECEIVED: FROM PAPLOO.UHI.AC.UK (LOCALHOST [127.0.0.1])\n",
            "\tBY PAPLOO.UHI.AC.UK (POSTFIX) WITH ESMTP ID 57770BB477;\n",
            "\tFRI,  4 JAN 2008 20:03:09 +0000 (GMT)\n",
            "MESSAGE-ID: <200801042001.M04K1CO0007738@NAKAMURA.UITS.IUPUI.EDU>\n",
            "MIME-VERSION: 1.0\n",
            "CONTENT-TRANSFER-ENCODING: 7BIT\n",
            "RECEIVED: FROM PROD.COLLAB.UHI.AC.UK ([194.35.219.182])\n",
            "          BY PAPLOO.UHI.AC.UK (JAMES SMTP SERVER 2.1.3) WITH SMTP ID 622\n",
            "          FOR <SOURCE@COLLAB.SAKAIPROJECT.ORG>;\n",
            "          FRI, 4 JAN 2008 20:02:46 +0000 (GMT)\n",
            "RECEIVED: FROM NAKAMURA.UITS.IUPUI.EDU (NAKAMURA.UITS.IUPUI.EDU [134.68.220.122])\n",
            "\tBY SHMI.UHI.AC.UK (POSTFIX) WITH ESMTP ID AB4D042F4D\n",
            "\tFOR <SOURCE@COLLAB.SAKAIPROJECT.ORG>; FRI,  4 JAN 2008 20:02:50 +0000 (GMT)\n",
            "RECEIVED: FROM NAKAMURA.UITS.IUPUI.EDU (LOCALHOST [127.0.0.1])\n",
            "\tBY NAKAMURA.UITS.IUPUI.EDU (8.12.11.20060308/8.12.11) WITH ESMTP ID M04K1CXV007740\n",
            "\tFOR <SOURCE@COLLAB.SAKAIPROJECT.ORG>; FRI, 4 JAN 2008 15:01:38 -0500\n",
            "RECEIVED: (FROM APACHE@LOCALHOST)\n",
            "\tBY NAKAMURA.UITS.IUPUI.EDU (8.12.11.20060308/8.12.11/SUBMIT) ID M04K1CO0007738\n",
            "\tFOR SOURCE@COLLAB.SAKAIPROJECT.ORG; FRI, 4 JAN 2008 15:01:38 -0500\n",
            "DATE: FRI, 4 JAN 2008 15:01:38 -0500\n",
            "X-AUTHENTICATION-WARNING: NAKAMURA.UITS.IUPUI.EDU: APACHE SET SENDER TO ZQIAN@UMICH.EDU USING -F\n",
            "TO: SOURCE@COLLAB.SAKAIPROJECT.ORG\n",
            "FROM: ZQIAN@UMICH.EDU\n",
            "SUBJECT: [SAKAI] SVN COMMIT: R39766 - SITE-MANAGE/BRANCHES/SAKAI_2-4-X/SITE-MANAGE-TOOL/TOOL/SRC/JAVA/ORG/SAKAIPROJECT/SITE/TOOL\n",
            "X-CONTENT-TYPE-OUTER-ENVELOPE: TEXT/PLAIN; CHARSET=UTF-8\n",
            "X-CONTENT-TYPE-MESSAGE-BODY: TEXT/PLAIN; CHARSET=UTF-8\n",
            "CONTENT-TYPE: TEXT/PLAIN; CHARSET=UTF-8\n",
            "X-DSPAM-RESULT: INNOCENT\n",
            "X-DSPAM-PROCESSED: FRI JAN  4 15:03:18 2008\n",
            "X-DSPAM-CONFIDENCE: 0.7626\n",
            "X-DSPAM-PROBABILITY: 0.0000\n",
            "\n",
            "DETAILS: HTTP://SOURCE.SAKAIPROJECT.ORG/VIEWSVN/?VIEW=REV&REV=39766\n",
            "\n",
            "AUTHOR: ZQIAN@UMICH.EDU\n",
            "DATE: 2008-01-04 15:01:37 -0500 (FRI, 04 JAN 2008)\n",
            "NEW REVISION: 39766\n",
            "\n",
            "MODIFIED:\n",
            "SITE-MANAGE/BRANCHES/SAKAI_2-4-X/SITE-MANAGE-TOOL/TOOL/SRC/JAVA/ORG/SAKAIPROJECT/SITE/TOOL/SITEACTION.JAVA\n",
            "LOG:\n",
            "MERGE FIX TO SAK-10788 INTO SITE-MANAGE 2.4.X BRANCH:\n",
            "\n",
            "SAKAI SOURCE REPOSITORY  \t#38024  \tWED NOV 07 14:54:46 MST 2007  \tZQIAN@UMICH.EDU  \t FIX TO SAK-10788: IF A PROVIDED ID IN A COUSE SITE IS FAKE OR DOESN'T PROVIDE ANY USER INFORMATION, SITE INFO APPEARS TO BE LIKE PROJECT SITE WITH EMPTY PARTICIPANT LIST\n",
            "\n",
            "WATCH FOR ENROLLMENTS OBJECT BEING NULL AND CONCATENATE PROVIDER IDS WHEN THERE ARE MORE THAN ONE.\n",
            "FILES CHANGED\n",
            "MODIFY /SITE-MANAGE/TRUNK/SITE-MANAGE-TOOL/TOOL/SRC/JAVA/ORG/SAKAIPROJECT/SITE/TOOL/SITEACTION.JAVA\n",
            "\n",
            "\n",
            "\n",
            "\n",
            "----------------------\n",
            "THIS AUTOMATIC NOTIFICATION MESSAGE WAS SENT BY SAKAI COLLAB (HTTPS://COLLAB.SAKAIPROJECT.ORG/PORTAL) FROM THE SOURCE SITE.\n",
            "YOU CAN MODIFY HOW YOU RECEIVE NOTIFICATIONS AT MY WORKSPACE > PREFERENCES.\n",
            "\n",
            "\n",
            "\n",
            "FROM RJLOWE@IUPUI.EDU FRI JAN  4 14:50:18 2008\n",
            "RETURN-PATH: <POSTMASTER@COLLAB.SAKAIPROJECT.ORG>\n",
            "RECEIVED: FROM MURDER (MAIL.UMICH.EDU [141.211.14.93])\n",
            "\t BY FRANKENSTEIN.MAIL.UMICH.EDU (CYRUS V2.3.8) WITH LMTPA;\n",
            "\t FRI, 04 JAN 2008 14:50:18 -0500\n",
            "X-SIEVE: CMU SIEVE 2.3\n",
            "RECEIVED: FROM MURDER ([UNIX SOCKET])\n",
            "\t BY MAIL.UMICH.EDU (CYRUS V2.2.12) WITH LMTPA;\n",
            "\t FRI, 04 JAN 2008 14:50:18 -0500\n",
            "RECEIVED: FROM EYEWITNESS.MR.ITD.UMICH.EDU (EYEWITNESS.MR.ITD.UMICH.EDU [141.211.93.142])\n",
            "\tBY MISSION.MAIL.UMICH.EDU () WITH ESMTP ID M04JOHJI019755;\n",
            "\tFRI, 4 JAN 2008 14:50:17 -0500\n",
            "RECEIVED: FROM PAPLOO.UHI.AC.UK (APP1.PROD.COLLAB.UHI.AC.UK [194.35.219.184])\n",
            "\tBY EYEWITNESS.MR.ITD.UMICH.EDU ID 477E8DF2.67B91.5278 ;\n",
            "\t 4 JAN 2008 14:50:13 -0500\n",
            "RECEIVED: FROM PAPLOO.UHI.AC.UK (LOCALHOST [127.0.0.1])\n",
            "\tBY PAPLOO.UHI.AC.UK (POSTFIX) WITH ESMTP ID 2D1B9BB492;\n",
            "\tFRI,  4 JAN 2008 19:47:10 +0000 (GMT)\n",
            "MESSAGE-ID: <200801041948.M04JMDWO007705@NAKAMURA.UITS.IUPUI.EDU>\n",
            "MIME-VERSION: 1.0\n",
            "CONTENT-TRANSFER-ENCODING: 7BIT\n",
            "RECEIVED: FROM PROD.COLLAB.UHI.AC.UK ([194.35.219.182])\n",
            "          BY PAPLOO.UHI.AC.UK (JAMES SMTP SERVER 2.1.3) WITH SMTP ID 960\n",
            "          FOR <SOURCE@COLLAB.SAKAIPROJECT.ORG>;\n",
            "          FRI, 4 JAN 2008 19:46:50 +0000 (GMT)\n",
            "RECEIVED: FROM NAKAMURA.UITS.IUPUI.EDU (NAKAMURA.UITS.IUPUI.EDU [134.68.220.122])\n",
            "\tBY SHMI.UHI.AC.UK (POSTFIX) WITH ESMTP ID B3E6742F4A\n",
            "\tFOR <SOURCE@COLLAB.SAKAIPROJECT.ORG>; FRI,  4 JAN 2008 19:49:51 +0000 (GMT)\n",
            "RECEIVED: FROM NAKAMURA.UITS.IUPUI.EDU (LOCALHOST [127.0.0.1])\n",
            "\tBY NAKAMURA.UITS.IUPUI.EDU (8.12.11.20060308/8.12.11) WITH ESMTP ID M04JMEV9007707\n",
            "\tFOR <SOURCE@COLLAB.SAKAIPROJECT.ORG>; FRI, 4 JAN 2008 14:48:40 -0500\n",
            "RECEIVED: (FROM APACHE@LOCALHOST)\n",
            "\tBY NAKAMURA.UITS.IUPUI.EDU (8.12.11.20060308/8.12.11/SUBMIT) ID M04JMDWO007705\n",
            "\tFOR SOURCE@COLLAB.SAKAIPROJECT.ORG; FRI, 4 JAN 2008 14:48:39 -0500\n",
            "DATE: FRI, 4 JAN 2008 14:48:39 -0500\n",
            "X-AUTHENTICATION-WARNING: NAKAMURA.UITS.IUPUI.EDU: APACHE SET SENDER TO RJLOWE@IUPUI.EDU USING -F\n",
            "TO: SOURCE@COLLAB.SAKAIPROJECT.ORG\n",
            "FROM: RJLOWE@IUPUI.EDU\n",
            "SUBJECT: [SAKAI] SVN COMMIT: R39765 - IN GRADEBOOK/TRUNK/APP: BUSINESS/SRC/JAVA/ORG/SAKAIPROJECT/TOOL/GRADEBOOK/BUSINESS BUSINESS/SRC/JAVA/ORG/SAKAIPROJECT/TOOL/GRADEBOOK/BUSINESS/IMPL UI UI/SRC/JAVA/ORG/SAKAIPROJECT/TOOL/GRADEBOOK/UI/HELPERS/BEANS UI/SRC/JAVA/ORG/SAKAIPROJECT/TOOL/GRADEBOOK/UI/HELPERS/ENTITY UI/SRC/JAVA/ORG/SAKAIPROJECT/TOOL/GRADEBOOK/UI/HELPERS/PARAMS UI/SRC/JAVA/ORG/SAKAIPROJECT/TOOL/GRADEBOOK/UI/HELPERS/PRODUCERS UI/SRC/WEBAPP/WEB-INF UI/SRC/WEBAPP/WEB-INF/BUNDLE UI/SRC/WEBAPP/CONTENT/TEMPLATES\n",
            "X-CONTENT-TYPE-OUTER-ENVELOPE: TEXT/PLAIN; CHARSET=UTF-8\n",
            "X-CONTENT-TYPE-MESSAGE-BODY: TEXT/PLAIN; CHARSET=UTF-8\n",
            "CONTENT-TYPE: TEXT/PLAIN; CHARSET=UTF-8\n",
            "X-DSPAM-RESULT: INNOCENT\n",
            "X-DSPAM-PROCESSED: FRI JAN  4 14:50:18 2008\n",
            "X-DSPAM-CONFIDENCE: 0.7556\n",
            "X-DSPAM-PROBABILITY: 0.0000\n",
            "\n",
            "DETAILS: HTTP://SOURCE.SAKAIPROJECT.ORG/VIEWSVN/?VIEW=REV&REV=39765\n",
            "\n",
            "AUTHOR: RJLOWE@IUPUI.EDU\n",
            "DATE: 2008-01-04 14:48:37 -0500 (FRI, 04 JAN 2008)\n",
            "NEW REVISION: 39765\n",
            "\n",
            "ADDED:\n",
            "GRADEBOOK/TRUNK/APP/UI/SRC/JAVA/ORG/SAKAIPROJECT/TOOL/GRADEBOOK/UI/HELPERS/BEANS/ASSIGNMENTGRADERECORDBEAN.JAVA\n",
            "GRADEBOOK/TRUNK/APP/UI/SRC/JAVA/ORG/SAKAIPROJECT/TOOL/GRADEBOOK/UI/HELPERS/BEANS/ASSIGNMENTGRADERECORDCREATOR.JAVA\n",
            "GRADEBOOK/TRUNK/APP/UI/SRC/JAVA/ORG/SAKAIPROJECT/TOOL/GRADEBOOK/UI/HELPERS/ENTITY/GRADEBOOKENTRYGRADEENTITYPROVIDER.JAVA\n",
            "GRADEBOOK/TRUNK/APP/UI/SRC/JAVA/ORG/SAKAIPROJECT/TOOL/GRADEBOOK/UI/HELPERS/PARAMS/GRADEGRADEBOOKITEMVIEWPARAMS.JAVA\n",
            "GRADEBOOK/TRUNK/APP/UI/SRC/JAVA/ORG/SAKAIPROJECT/TOOL/GRADEBOOK/UI/HELPERS/PRODUCERS/GRADEGRADEBOOKITEMPRODUCER.JAVA\n",
            "GRADEBOOK/TRUNK/APP/UI/SRC/WEBAPP/CONTENT/TEMPLATES/GRADE-GRADEBOOK-ITEM.HTML\n",
            "MODIFIED:\n",
            "GRADEBOOK/TRUNK/APP/BUSINESS/SRC/JAVA/ORG/SAKAIPROJECT/TOOL/GRADEBOOK/BUSINESS/GRADEBOOKMANAGER.JAVA\n",
            "GRADEBOOK/TRUNK/APP/BUSINESS/SRC/JAVA/ORG/SAKAIPROJECT/TOOL/GRADEBOOK/BUSINESS/IMPL/GRADEBOOKMANAGERHIBERNATEIMPL.JAVA\n",
            "GRADEBOOK/TRUNK/APP/UI/POM.XML\n",
            "GRADEBOOK/TRUNK/APP/UI/SRC/JAVA/ORG/SAKAIPROJECT/TOOL/GRADEBOOK/UI/HELPERS/BEANS/GRADEBOOKITEMBEAN.JAVA\n",
            "GRADEBOOK/TRUNK/APP/UI/SRC/JAVA/ORG/SAKAIPROJECT/TOOL/GRADEBOOK/UI/HELPERS/ENTITY/GRADEBOOKENTRYENTITYPROVIDER.JAVA\n",
            "GRADEBOOK/TRUNK/APP/UI/SRC/JAVA/ORG/SAKAIPROJECT/TOOL/GRADEBOOK/UI/HELPERS/PRODUCERS/ADDGRADEBOOKITEMPRODUCER.JAVA\n",
            "GRADEBOOK/TRUNK/APP/UI/SRC/WEBAPP/WEB-INF/APPLICATIONCONTEXT.XML\n",
            "GRADEBOOK/TRUNK/APP/UI/SRC/WEBAPP/WEB-INF/BUNDLE/MESSAGES.PROPERTIES\n",
            "GRADEBOOK/TRUNK/APP/UI/SRC/WEBAPP/WEB-INF/REQUESTCONTEXT.XML\n",
            "LOG:\n",
            "SAK-12180 - NEW HELPER TOOL TO GRADE AN ASSIGNMENT\n",
            "\n",
            "----------------------\n",
            "THIS AUTOMATIC NOTIFICATION MESSAGE WAS SENT BY SAKAI COLLAB (HTTPS://COLLAB.SAKAIPROJECT.ORG/PORTAL) FROM THE SOURCE SITE.\n",
            "YOU CAN MODIFY HOW YOU RECEIVE NOTIFICATIONS AT MY WORKSPACE > PREFERENCES.\n",
            "\n",
            "\n",
            "\n",
            "FROM CWEN@IUPUI.EDU FRI JAN  4 11:37:30 2008\n",
            "RETURN-PATH: <POSTMASTER@COLLAB.SAKAIPROJECT.ORG>\n",
            "RECEIVED: FROM MURDER (MAIL.UMICH.EDU [141.211.14.46])\n",
            "\t BY FRANKENSTEIN.MAIL.UMICH.EDU (CYRUS V2.3.8) WITH LMTPA;\n",
            "\t FRI, 04 JAN 2008 11:37:30 -0500\n",
            "X-SIEVE: CMU SIEVE 2.3\n",
            "RECEIVED: FROM MURDER ([UNIX SOCKET])\n",
            "\t BY MAIL.UMICH.EDU (CYRUS V2.2.12) WITH LMTPA;\n",
            "\t FRI, 04 JAN 2008 11:37:30 -0500\n",
            "RECEIVED: FROM TADPOLE.MR.ITD.UMICH.EDU (TADPOLE.MR.ITD.UMICH.EDU [141.211.14.72])\n",
            "\tBY FAN.MAIL.UMICH.EDU () WITH ESMTP ID M04GBT9X022078;\n",
            "\tFRI, 4 JAN 2008 11:37:29 -0500\n",
            "RECEIVED: FROM PAPLOO.UHI.AC.UK (APP1.PROD.COLLAB.UHI.AC.UK [194.35.219.184])\n",
            "\tBY TADPOLE.MR.ITD.UMICH.EDU ID 477E60B2.82756.9904 ;\n",
            "\t 4 JAN 2008 11:37:09 -0500\n",
            "RECEIVED: FROM PAPLOO.UHI.AC.UK (LOCALHOST [127.0.0.1])\n",
            "\tBY PAPLOO.UHI.AC.UK (POSTFIX) WITH ESMTP ID 8D13DBB001;\n",
            "\tFRI,  4 JAN 2008 16:37:07 +0000 (GMT)\n",
            "MESSAGE-ID: <200801041635.M04GZQGZ007313@NAKAMURA.UITS.IUPUI.EDU>\n",
            "MIME-VERSION: 1.0\n",
            "CONTENT-TRANSFER-ENCODING: 7BIT\n",
            "RECEIVED: FROM PROD.COLLAB.UHI.AC.UK ([194.35.219.182])\n",
            "          BY PAPLOO.UHI.AC.UK (JAMES SMTP SERVER 2.1.3) WITH SMTP ID 120\n",
            "          FOR <SOURCE@COLLAB.SAKAIPROJECT.ORG>;\n",
            "          FRI, 4 JAN 2008 16:36:40 +0000 (GMT)\n",
            "RECEIVED: FROM NAKAMURA.UITS.IUPUI.EDU (NAKAMURA.UITS.IUPUI.EDU [134.68.220.122])\n",
            "\tBY SHMI.UHI.AC.UK (POSTFIX) WITH ESMTP ID D430B42E42\n",
            "\tFOR <SOURCE@COLLAB.SAKAIPROJECT.ORG>; FRI,  4 JAN 2008 16:36:37 +0000 (GMT)\n",
            "RECEIVED: FROM NAKAMURA.UITS.IUPUI.EDU (LOCALHOST [127.0.0.1])\n",
            "\tBY NAKAMURA.UITS.IUPUI.EDU (8.12.11.20060308/8.12.11) WITH ESMTP ID M04GZQ7W007315\n",
            "\tFOR <SOURCE@COLLAB.SAKAIPROJECT.ORG>; FRI, 4 JAN 2008 11:35:26 -0500\n",
            "RECEIVED: (FROM APACHE@LOCALHOST)\n",
            "\tBY NAKAMURA.UITS.IUPUI.EDU (8.12.11.20060308/8.12.11/SUBMIT) ID M04GZQGZ007313\n",
            "\tFOR SOURCE@COLLAB.SAKAIPROJECT.ORG; FRI, 4 JAN 2008 11:35:26 -0500\n",
            "DATE: FRI, 4 JAN 2008 11:35:26 -0500\n",
            "X-AUTHENTICATION-WARNING: NAKAMURA.UITS.IUPUI.EDU: APACHE SET SENDER TO CWEN@IUPUI.EDU USING -F\n",
            "TO: SOURCE@COLLAB.SAKAIPROJECT.ORG\n",
            "FROM: CWEN@IUPUI.EDU\n",
            "SUBJECT: [SAKAI] SVN COMMIT: R39764 - IN MSGCNTR/TRUNK/MESSAGEFORUMS-APP/SRC/JAVA/ORG/SAKAIPROJECT/TOOL/MESSAGEFORUMS: . UI\n",
            "X-CONTENT-TYPE-OUTER-ENVELOPE: TEXT/PLAIN; CHARSET=UTF-8\n",
            "X-CONTENT-TYPE-MESSAGE-BODY: TEXT/PLAIN; CHARSET=UTF-8\n",
            "CONTENT-TYPE: TEXT/PLAIN; CHARSET=UTF-8\n",
            "X-DSPAM-RESULT: INNOCENT\n",
            "X-DSPAM-PROCESSED: FRI JAN  4 11:37:30 2008\n",
            "X-DSPAM-CONFIDENCE: 0.7002\n",
            "X-DSPAM-PROBABILITY: 0.0000\n",
            "\n",
            "DETAILS: HTTP://SOURCE.SAKAIPROJECT.ORG/VIEWSVN/?VIEW=REV&REV=39764\n",
            "\n",
            "AUTHOR: CWEN@IUPUI.EDU\n",
            "DATE: 2008-01-04 11:35:25 -0500 (FRI, 04 JAN 2008)\n",
            "NEW REVISION: 39764\n",
            "\n",
            "MODIFIED:\n",
            "MSGCNTR/TRUNK/MESSAGEFORUMS-APP/SRC/JAVA/ORG/SAKAIPROJECT/TOOL/MESSAGEFORUMS/PRIVATEMESSAGESTOOL.JAVA\n",
            "MSGCNTR/TRUNK/MESSAGEFORUMS-APP/SRC/JAVA/ORG/SAKAIPROJECT/TOOL/MESSAGEFORUMS/UI/PRIVATEMESSAGEDECORATEDBEAN.JAVA\n",
            "LOG:\n",
            "UNMERGE XINGTANG'S CHECKIN FOR SAK-12488.\n",
            "\n",
            "SVN MERGE -R39558:39557 HTTPS://SOURCE.SAKAIPROJECT.ORG/SVN/MSGCNTR/TRUNK\n",
            "U    MESSAGEFORUMS-APP/SRC/JAVA/ORG/SAKAIPROJECT/TOOL/MESSAGEFORUMS/PRIVATEMESSAGESTOOL.JAVA\n",
            "U    MESSAGEFORUMS-APP/SRC/JAVA/ORG/SAKAIPROJECT/TOOL/MESSAGEFORUMS/UI/PRIVATEMESSAGEDECORATEDBEAN.JAVA\n",
            "\n",
            "SVN LOG -R 39558\n",
            "------------------------------------------------------------------------\n",
            "R39558 | HU2@IUPUI.EDU | 2007-12-20 15:25:38 -0500 (THU, 20 DEC 2007) | 3 LINES\n",
            "\n",
            "SAK-12488\n",
            "WHEN SEND A MESSAGE TO YOURSELF. CLICK REPLY TO ALL, CC ROW SHOULD BE NULL.\n",
            "HTTP://JIRA.SAKAIPROJECT.ORG/JIRA/BROWSE/SAK-12488\n",
            "------------------------------------------------------------------------\n",
            "\n",
            "\n",
            "----------------------\n",
            "THIS AUTOMATIC NOTIFICATION MESSAGE WAS SENT BY SAKAI COLLAB (HTTPS://COLLAB.SAKAIPROJECT.ORG/PORTAL) FROM THE SOURCE SITE.\n",
            "YOU CAN MODIFY HOW YOU RECEIVE NOTIFICATIONS AT MY WORKSPACE > PREFERENCES.\n",
            "\n",
            "\n",
            "\n",
            "FROM CWEN@IUPUI.EDU FRI JAN  4 11:35:08 2008\n",
            "RETURN-PATH: <POSTMASTER@COLLAB.SAKAIPROJECT.ORG>\n",
            "RECEIVED: FROM MURDER (MAIL.UMICH.EDU [141.211.14.46])\n",
            "\t BY FRANKENSTEIN.MAIL.UMICH.EDU (CYRUS V2.3.8) WITH LMTPA;\n",
            "\t FRI, 04 JAN 2008 11:35:08 -0500\n",
            "X-SIEVE: CMU SIEVE 2.3\n",
            "RECEIVED: FROM MURDER ([UNIX SOCKET])\n",
            "\t BY MAIL.UMICH.EDU (CYRUS V2.2.12) WITH LMTPA;\n",
            "\t FRI, 04 JAN 2008 11:35:08 -0500\n",
            "RECEIVED: FROM IT.MR.ITD.UMICH.EDU (IT.MR.ITD.UMICH.EDU [141.211.93.151])\n",
            "\tBY FAN.MAIL.UMICH.EDU () WITH ESMTP ID M04GZ6LT020480;\n",
            "\tFRI, 4 JAN 2008 11:35:06 -0500\n",
            "RECEIVED: FROM PAPLOO.UHI.AC.UK (APP1.PROD.COLLAB.UHI.AC.UK [194.35.219.184])\n",
            "\tBY IT.MR.ITD.UMICH.EDU ID 477E6033.6469D.21870 ;\n",
            "\t 4 JAN 2008 11:35:02 -0500\n",
            "RECEIVED: FROM PAPLOO.UHI.AC.UK (LOCALHOST [127.0.0.1])\n",
            "\tBY PAPLOO.UHI.AC.UK (POSTFIX) WITH ESMTP ID E40FABAE5B;\n",
            "\tFRI,  4 JAN 2008 16:34:38 +0000 (GMT)\n",
            "MESSAGE-ID: <200801041633.M04GX6EG007292@NAKAMURA.UITS.IUPUI.EDU>\n",
            "MIME-VERSION: 1.0\n",
            "CONTENT-TRANSFER-ENCODING: 7BIT\n",
            "RECEIVED: FROM PROD.COLLAB.UHI.AC.UK ([194.35.219.182])\n",
            "          BY PAPLOO.UHI.AC.UK (JAMES SMTP SERVER 2.1.3) WITH SMTP ID 697\n",
            "          FOR <SOURCE@COLLAB.SAKAIPROJECT.ORG>;\n",
            "          FRI, 4 JAN 2008 16:34:01 +0000 (GMT)\n",
            "RECEIVED: FROM NAKAMURA.UITS.IUPUI.EDU (NAKAMURA.UITS.IUPUI.EDU [134.68.220.122])\n",
            "\tBY SHMI.UHI.AC.UK (POSTFIX) WITH ESMTP ID 1CD0C42E42\n",
            "\tFOR <SOURCE@COLLAB.SAKAIPROJECT.ORG>; FRI,  4 JAN 2008 16:34:17 +0000 (GMT)\n",
            "RECEIVED: FROM NAKAMURA.UITS.IUPUI.EDU (LOCALHOST [127.0.0.1])\n",
            "\tBY NAKAMURA.UITS.IUPUI.EDU (8.12.11.20060308/8.12.11) WITH ESMTP ID M04GX6Y3007294\n",
            "\tFOR <SOURCE@COLLAB.SAKAIPROJECT.ORG>; FRI, 4 JAN 2008 11:33:06 -0500\n",
            "RECEIVED: (FROM APACHE@LOCALHOST)\n",
            "\tBY NAKAMURA.UITS.IUPUI.EDU (8.12.11.20060308/8.12.11/SUBMIT) ID M04GX6EG007292\n",
            "\tFOR SOURCE@COLLAB.SAKAIPROJECT.ORG; FRI, 4 JAN 2008 11:33:06 -0500\n",
            "DATE: FRI, 4 JAN 2008 11:33:06 -0500\n",
            "X-AUTHENTICATION-WARNING: NAKAMURA.UITS.IUPUI.EDU: APACHE SET SENDER TO CWEN@IUPUI.EDU USING -F\n",
            "TO: SOURCE@COLLAB.SAKAIPROJECT.ORG\n",
            "FROM: CWEN@IUPUI.EDU\n",
            "SUBJECT: [SAKAI] SVN COMMIT: R39763 - IN MSGCNTR/TRUNK: MESSAGEFORUMS-API/SRC/BUNDLE/ORG/SAKAIPROJECT/API/APP/MESSAGECENTER/BUNDLE MESSAGEFORUMS-APP/SRC/JAVA/ORG/SAKAIPROJECT/TOOL/MESSAGEFORUMS\n",
            "X-CONTENT-TYPE-OUTER-ENVELOPE: TEXT/PLAIN; CHARSET=UTF-8\n",
            "X-CONTENT-TYPE-MESSAGE-BODY: TEXT/PLAIN; CHARSET=UTF-8\n",
            "CONTENT-TYPE: TEXT/PLAIN; CHARSET=UTF-8\n",
            "X-DSPAM-RESULT: INNOCENT\n",
            "X-DSPAM-PROCESSED: FRI JAN  4 11:35:08 2008\n",
            "X-DSPAM-CONFIDENCE: 0.7615\n",
            "X-DSPAM-PROBABILITY: 0.0000\n",
            "\n",
            "DETAILS: HTTP://SOURCE.SAKAIPROJECT.ORG/VIEWSVN/?VIEW=REV&REV=39763\n",
            "\n",
            "AUTHOR: CWEN@IUPUI.EDU\n",
            "DATE: 2008-01-04 11:33:05 -0500 (FRI, 04 JAN 2008)\n",
            "NEW REVISION: 39763\n",
            "\n",
            "MODIFIED:\n",
            "MSGCNTR/TRUNK/MESSAGEFORUMS-API/SRC/BUNDLE/ORG/SAKAIPROJECT/API/APP/MESSAGECENTER/BUNDLE/MESSAGES.PROPERTIES\n",
            "MSGCNTR/TRUNK/MESSAGEFORUMS-APP/SRC/JAVA/ORG/SAKAIPROJECT/TOOL/MESSAGEFORUMS/PRIVATEMESSAGESTOOL.JAVA\n",
            "LOG:\n",
            "UNMERGE XINGTANG'S CHECK IN FOR SAK-12484.\n",
            "\n",
            "SVN MERGE -R39571:39570 HTTPS://SOURCE.SAKAIPROJECT.ORG/SVN/MSGCNTR/TRUNK\n",
            "U    MESSAGEFORUMS-API/SRC/BUNDLE/ORG/SAKAIPROJECT/API/APP/MESSAGECENTER/BUNDLE/MESSAGES.PROPERTIES\n",
            "U    MESSAGEFORUMS-APP/SRC/JAVA/ORG/SAKAIPROJECT/TOOL/MESSAGEFORUMS/PRIVATEMESSAGESTOOL.JAVA\n",
            "\n",
            "SVN LOG -R 39571\n",
            "------------------------------------------------------------------------\n",
            "R39571 | HU2@IUPUI.EDU | 2007-12-20 21:26:28 -0500 (THU, 20 DEC 2007) | 3 LINES\n",
            "\n",
            "SAK-12484\n",
            "REPLY ALL CC LIST SHOULD NOT INCLUDE THE CURRENT USER NAME.\n",
            "HTTP://JIRA.SAKAIPROJECT.ORG/JIRA/BROWSE/SAK-12484\n",
            "------------------------------------------------------------------------\n",
            "\n",
            "\n",
            "----------------------\n",
            "THIS AUTOMATIC NOTIFICATION MESSAGE WAS SENT BY SAKAI COLLAB (HTTPS://COLLAB.SAKAIPROJECT.ORG/PORTAL) FROM THE SOURCE SITE.\n",
            "YOU CAN MODIFY HOW YOU RECEIVE NOTIFICATIONS AT MY WORKSPACE > PREFERENCES.\n",
            "\n",
            "\n",
            "\n",
            "FROM GSILVER@UMICH.EDU FRI JAN  4 11:12:37 2008\n",
            "RETURN-PATH: <POSTMASTER@COLLAB.SAKAIPROJECT.ORG>\n",
            "RECEIVED: FROM MURDER (MAIL.UMICH.EDU [141.211.14.25])\n",
            "\t BY FRANKENSTEIN.MAIL.UMICH.EDU (CYRUS V2.3.8) WITH LMTPA;\n",
            "\t FRI, 04 JAN 2008 11:12:37 -0500\n",
            "X-SIEVE: CMU SIEVE 2.3\n",
            "RECEIVED: FROM MURDER ([UNIX SOCKET])\n",
            "\t BY MAIL.UMICH.EDU (CYRUS V2.2.12) WITH LMTPA;\n",
            "\t FRI, 04 JAN 2008 11:12:37 -0500\n",
            "RECEIVED: FROM HOLES.MR.ITD.UMICH.EDU (HOLES.MR.ITD.UMICH.EDU [141.211.14.79])\n",
            "\tBY PANTHER.MAIL.UMICH.EDU () WITH ESMTP ID M04GCAHB030887;\n",
            "\tFRI, 4 JAN 2008 11:12:36 -0500\n",
            "RECEIVED: FROM PAPLOO.UHI.AC.UK (APP1.PROD.COLLAB.UHI.AC.UK [194.35.219.184])\n",
            "\tBY HOLES.MR.ITD.UMICH.EDU ID 477E5AEB.E670B.28397 ;\n",
            "\t 4 JAN 2008 11:12:30 -0500\n",
            "RECEIVED: FROM PAPLOO.UHI.AC.UK (LOCALHOST [127.0.0.1])\n",
            "\tBY PAPLOO.UHI.AC.UK (POSTFIX) WITH ESMTP ID 99715BAE7D;\n",
            "\tFRI,  4 JAN 2008 16:12:27 +0000 (GMT)\n",
            "MESSAGE-ID: <200801041611.M04GB1LB007221@NAKAMURA.UITS.IUPUI.EDU>\n",
            "MIME-VERSION: 1.0\n",
            "CONTENT-TRANSFER-ENCODING: 7BIT\n",
            "RECEIVED: FROM PROD.COLLAB.UHI.AC.UK ([194.35.219.182])\n",
            "          BY PAPLOO.UHI.AC.UK (JAMES SMTP SERVER 2.1.3) WITH SMTP ID 272\n",
            "          FOR <SOURCE@COLLAB.SAKAIPROJECT.ORG>;\n",
            "          FRI, 4 JAN 2008 16:12:14 +0000 (GMT)\n",
            "RECEIVED: FROM NAKAMURA.UITS.IUPUI.EDU (NAKAMURA.UITS.IUPUI.EDU [134.68.220.122])\n",
            "\tBY SHMI.UHI.AC.UK (POSTFIX) WITH ESMTP ID 0A6ED42DFC\n",
            "\tFOR <SOURCE@COLLAB.SAKAIPROJECT.ORG>; FRI,  4 JAN 2008 16:12:12 +0000 (GMT)\n",
            "RECEIVED: FROM NAKAMURA.UITS.IUPUI.EDU (LOCALHOST [127.0.0.1])\n",
            "\tBY NAKAMURA.UITS.IUPUI.EDU (8.12.11.20060308/8.12.11) WITH ESMTP ID M04GB1WT007223\n",
            "\tFOR <SOURCE@COLLAB.SAKAIPROJECT.ORG>; FRI, 4 JAN 2008 11:11:01 -0500\n",
            "RECEIVED: (FROM APACHE@LOCALHOST)\n",
            "\tBY NAKAMURA.UITS.IUPUI.EDU (8.12.11.20060308/8.12.11/SUBMIT) ID M04GB1LB007221\n",
            "\tFOR SOURCE@COLLAB.SAKAIPROJECT.ORG; FRI, 4 JAN 2008 11:11:01 -0500\n",
            "DATE: FRI, 4 JAN 2008 11:11:01 -0500\n",
            "X-AUTHENTICATION-WARNING: NAKAMURA.UITS.IUPUI.EDU: APACHE SET SENDER TO GSILVER@UMICH.EDU USING -F\n",
            "TO: SOURCE@COLLAB.SAKAIPROJECT.ORG\n",
            "FROM: GSILVER@UMICH.EDU\n",
            "SUBJECT: [SAKAI] SVN COMMIT: R39762 - WEB/TRUNK/WEB-TOOL/TOOL/SRC/BUNDLE\n",
            "X-CONTENT-TYPE-OUTER-ENVELOPE: TEXT/PLAIN; CHARSET=UTF-8\n",
            "X-CONTENT-TYPE-MESSAGE-BODY: TEXT/PLAIN; CHARSET=UTF-8\n",
            "CONTENT-TYPE: TEXT/PLAIN; CHARSET=UTF-8\n",
            "X-DSPAM-RESULT: INNOCENT\n",
            "X-DSPAM-PROCESSED: FRI JAN  4 11:12:37 2008\n",
            "X-DSPAM-CONFIDENCE: 0.7601\n",
            "X-DSPAM-PROBABILITY: 0.0000\n",
            "\n",
            "DETAILS: HTTP://SOURCE.SAKAIPROJECT.ORG/VIEWSVN/?VIEW=REV&REV=39762\n",
            "\n",
            "AUTHOR: GSILVER@UMICH.EDU\n",
            "DATE: 2008-01-04 11:11:00 -0500 (FRI, 04 JAN 2008)\n",
            "NEW REVISION: 39762\n",
            "\n",
            "MODIFIED:\n",
            "WEB/TRUNK/WEB-TOOL/TOOL/SRC/BUNDLE/IFRAME.PROPERTIES\n",
            "LOG:\n",
            "SAK-12596\n",
            "HTTP://BUGS.SAKAIPROJECT.ORG/JIRA/BROWSE/SAK-12596\n",
            "- LEFT MOOT (UNUSED) ENTRIES COMMENTED FOR NOW\n",
            "\n",
            "----------------------\n",
            "THIS AUTOMATIC NOTIFICATION MESSAGE WAS SENT BY SAKAI COLLAB (HTTPS://COLLAB.SAKAIPROJECT.ORG/PORTAL) FROM THE SOURCE SITE.\n",
            "YOU CAN MODIFY HOW YOU RECEIVE NOTIFICATIONS AT MY WORKSPACE > PREFERENCES.\n",
            "\n",
            "\n",
            "\n",
            "FROM GSILVER@UMICH.EDU FRI JAN  4 11:11:52 2008\n",
            "RETURN-PATH: <POSTMASTER@COLLAB.SAKAIPROJECT.ORG>\n",
            "RECEIVED: FROM MURDER (MAIL.UMICH.EDU [141.211.14.36])\n",
            "\t BY FRANKENSTEIN.MAIL.UMICH.EDU (CYRUS V2.3.8) WITH LMTPA;\n",
            "\t FRI, 04 JAN 2008 11:11:52 -0500\n",
            "X-SIEVE: CMU SIEVE 2.3\n",
            "RECEIVED: FROM MURDER ([UNIX SOCKET])\n",
            "\t BY MAIL.UMICH.EDU (CYRUS V2.2.12) WITH LMTPA;\n",
            "\t FRI, 04 JAN 2008 11:11:52 -0500\n",
            "RECEIVED: FROM CREEPSHOW.MR.ITD.UMICH.EDU (CREEPSHOW.MR.ITD.UMICH.EDU [141.211.14.84])\n",
            "\tBY GODSEND.MAIL.UMICH.EDU () WITH ESMTP ID M04GBQQV025330;\n",
            "\tFRI, 4 JAN 2008 11:11:52 -0500\n",
            "RECEIVED: FROM PAPLOO.UHI.AC.UK (APP1.PROD.COLLAB.UHI.AC.UK [194.35.219.184])\n",
            "\tBY CREEPSHOW.MR.ITD.UMICH.EDU ID 477E5AB3.5CC32.30840 ;\n",
            "\t 4 JAN 2008 11:11:34 -0500\n",
            "RECEIVED: FROM PAPLOO.UHI.AC.UK (LOCALHOST [127.0.0.1])\n",
            "\tBY PAPLOO.UHI.AC.UK (POSTFIX) WITH ESMTP ID 62AA4BAE46;\n",
            "\tFRI,  4 JAN 2008 16:11:31 +0000 (GMT)\n",
            "MESSAGE-ID: <200801041610.M04GA5KP007209@NAKAMURA.UITS.IUPUI.EDU>\n",
            "MIME-VERSION: 1.0\n",
            "CONTENT-TRANSFER-ENCODING: 7BIT\n",
            "RECEIVED: FROM PROD.COLLAB.UHI.AC.UK ([194.35.219.182])\n",
            "          BY PAPLOO.UHI.AC.UK (JAMES SMTP SERVER 2.1.3) WITH SMTP ID 1006\n",
            "          FOR <SOURCE@COLLAB.SAKAIPROJECT.ORG>;\n",
            "          FRI, 4 JAN 2008 16:11:18 +0000 (GMT)\n",
            "RECEIVED: FROM NAKAMURA.UITS.IUPUI.EDU (NAKAMURA.UITS.IUPUI.EDU [134.68.220.122])\n",
            "\tBY SHMI.UHI.AC.UK (POSTFIX) WITH ESMTP ID C596A3DFA2\n",
            "\tFOR <SOURCE@COLLAB.SAKAIPROJECT.ORG>; FRI,  4 JAN 2008 16:11:16 +0000 (GMT)\n",
            "RECEIVED: FROM NAKAMURA.UITS.IUPUI.EDU (LOCALHOST [127.0.0.1])\n",
            "\tBY NAKAMURA.UITS.IUPUI.EDU (8.12.11.20060308/8.12.11) WITH ESMTP ID M04GA5LR007211\n",
            "\tFOR <SOURCE@COLLAB.SAKAIPROJECT.ORG>; FRI, 4 JAN 2008 11:10:05 -0500\n",
            "RECEIVED: (FROM APACHE@LOCALHOST)\n",
            "\tBY NAKAMURA.UITS.IUPUI.EDU (8.12.11.20060308/8.12.11/SUBMIT) ID M04GA5KP007209\n",
            "\tFOR SOURCE@COLLAB.SAKAIPROJECT.ORG; FRI, 4 JAN 2008 11:10:05 -0500\n",
            "DATE: FRI, 4 JAN 2008 11:10:05 -0500\n",
            "X-AUTHENTICATION-WARNING: NAKAMURA.UITS.IUPUI.EDU: APACHE SET SENDER TO GSILVER@UMICH.EDU USING -F\n",
            "TO: SOURCE@COLLAB.SAKAIPROJECT.ORG\n",
            "FROM: GSILVER@UMICH.EDU\n",
            "SUBJECT: [SAKAI] SVN COMMIT: R39761 - SITE/TRUNK/SITE-TOOL/TOOL/SRC/BUNDLE\n",
            "X-CONTENT-TYPE-OUTER-ENVELOPE: TEXT/PLAIN; CHARSET=UTF-8\n",
            "X-CONTENT-TYPE-MESSAGE-BODY: TEXT/PLAIN; CHARSET=UTF-8\n",
            "CONTENT-TYPE: TEXT/PLAIN; CHARSET=UTF-8\n",
            "X-DSPAM-RESULT: INNOCENT\n",
            "X-DSPAM-PROCESSED: FRI JAN  4 11:11:52 2008\n",
            "X-DSPAM-CONFIDENCE: 0.7605\n",
            "X-DSPAM-PROBABILITY: 0.0000\n",
            "\n",
            "DETAILS: HTTP://SOURCE.SAKAIPROJECT.ORG/VIEWSVN/?VIEW=REV&REV=39761\n",
            "\n",
            "AUTHOR: GSILVER@UMICH.EDU\n",
            "DATE: 2008-01-04 11:10:04 -0500 (FRI, 04 JAN 2008)\n",
            "NEW REVISION: 39761\n",
            "\n",
            "MODIFIED:\n",
            "SITE/TRUNK/SITE-TOOL/TOOL/SRC/BUNDLE/ADMIN.PROPERTIES\n",
            "LOG:\n",
            "SAK-12595\n",
            "HTTP://BUGS.SAKAIPROJECT.ORG/JIRA/BROWSE/SAK-12595\n",
            "- LEFT MOOT (UNUSED) ENTRIES COMMENTED FOR NOW\n",
            "\n",
            "----------------------\n",
            "THIS AUTOMATIC NOTIFICATION MESSAGE WAS SENT BY SAKAI COLLAB (HTTPS://COLLAB.SAKAIPROJECT.ORG/PORTAL) FROM THE SOURCE SITE.\n",
            "YOU CAN MODIFY HOW YOU RECEIVE NOTIFICATIONS AT MY WORKSPACE > PREFERENCES.\n",
            "\n",
            "\n",
            "\n",
            "FROM ZQIAN@UMICH.EDU FRI JAN  4 11:11:03 2008\n",
            "RETURN-PATH: <POSTMASTER@COLLAB.SAKAIPROJECT.ORG>\n",
            "RECEIVED: FROM MURDER (MAIL.UMICH.EDU [141.211.14.97])\n",
            "\t BY FRANKENSTEIN.MAIL.UMICH.EDU (CYRUS V2.3.8) WITH LMTPA;\n",
            "\t FRI, 04 JAN 2008 11:11:03 -0500\n",
            "X-SIEVE: CMU SIEVE 2.3\n",
            "RECEIVED: FROM MURDER ([UNIX SOCKET])\n",
            "\t BY MAIL.UMICH.EDU (CYRUS V2.2.12) WITH LMTPA;\n",
            "\t FRI, 04 JAN 2008 11:11:03 -0500\n",
            "RECEIVED: FROM CARRIE.MR.ITD.UMICH.EDU (CARRIE.MR.ITD.UMICH.EDU [141.211.93.152])\n",
            "\tBY SLEEPERS.MAIL.UMICH.EDU () WITH ESMTP ID M04GB3VG011502;\n",
            "\tFRI, 4 JAN 2008 11:11:03 -0500\n",
            "RECEIVED: FROM PAPLOO.UHI.AC.UK (APP1.PROD.COLLAB.UHI.AC.UK [194.35.219.184])\n",
            "\tBY CARRIE.MR.ITD.UMICH.EDU ID 477E5A8D.B378F.24200 ;\n",
            "\t 4 JAN 2008 11:10:56 -0500\n",
            "RECEIVED: FROM PAPLOO.UHI.AC.UK (LOCALHOST [127.0.0.1])\n",
            "\tBY PAPLOO.UHI.AC.UK (POSTFIX) WITH ESMTP ID C7251BAD44;\n",
            "\tFRI,  4 JAN 2008 16:10:53 +0000 (GMT)\n",
            "MESSAGE-ID: <200801041609.M04G9EUX007197@NAKAMURA.UITS.IUPUI.EDU>\n",
            "MIME-VERSION: 1.0\n",
            "CONTENT-TRANSFER-ENCODING: 7BIT\n",
            "RECEIVED: FROM PROD.COLLAB.UHI.AC.UK ([194.35.219.182])\n",
            "          BY PAPLOO.UHI.AC.UK (JAMES SMTP SERVER 2.1.3) WITH SMTP ID 483\n",
            "          FOR <SOURCE@COLLAB.SAKAIPROJECT.ORG>;\n",
            "          FRI, 4 JAN 2008 16:10:27 +0000 (GMT)\n",
            "RECEIVED: FROM NAKAMURA.UITS.IUPUI.EDU (NAKAMURA.UITS.IUPUI.EDU [134.68.220.122])\n",
            "\tBY SHMI.UHI.AC.UK (POSTFIX) WITH ESMTP ID 2E7043DFA2\n",
            "\tFOR <SOURCE@COLLAB.SAKAIPROJECT.ORG>; FRI,  4 JAN 2008 16:10:26 +0000 (GMT)\n",
            "RECEIVED: FROM NAKAMURA.UITS.IUPUI.EDU (LOCALHOST [127.0.0.1])\n",
            "\tBY NAKAMURA.UITS.IUPUI.EDU (8.12.11.20060308/8.12.11) WITH ESMTP ID M04G9EQG007199\n",
            "\tFOR <SOURCE@COLLAB.SAKAIPROJECT.ORG>; FRI, 4 JAN 2008 11:09:15 -0500\n",
            "RECEIVED: (FROM APACHE@LOCALHOST)\n",
            "\tBY NAKAMURA.UITS.IUPUI.EDU (8.12.11.20060308/8.12.11/SUBMIT) ID M04G9EUX007197\n",
            "\tFOR SOURCE@COLLAB.SAKAIPROJECT.ORG; FRI, 4 JAN 2008 11:09:14 -0500\n",
            "DATE: FRI, 4 JAN 2008 11:09:14 -0500\n",
            "X-AUTHENTICATION-WARNING: NAKAMURA.UITS.IUPUI.EDU: APACHE SET SENDER TO ZQIAN@UMICH.EDU USING -F\n",
            "TO: SOURCE@COLLAB.SAKAIPROJECT.ORG\n",
            "FROM: ZQIAN@UMICH.EDU\n",
            "SUBJECT: [SAKAI] SVN COMMIT: R39760 - IN SITE-MANAGE/TRUNK/SITE-MANAGE-TOOL/TOOL/SRC: JAVA/ORG/SAKAIPROJECT/SITE/TOOL WEBAPP/VM/SITESETUP\n",
            "X-CONTENT-TYPE-OUTER-ENVELOPE: TEXT/PLAIN; CHARSET=UTF-8\n",
            "X-CONTENT-TYPE-MESSAGE-BODY: TEXT/PLAIN; CHARSET=UTF-8\n",
            "CONTENT-TYPE: TEXT/PLAIN; CHARSET=UTF-8\n",
            "X-DSPAM-RESULT: INNOCENT\n",
            "X-DSPAM-PROCESSED: FRI JAN  4 11:11:03 2008\n",
            "X-DSPAM-CONFIDENCE: 0.6959\n",
            "X-DSPAM-PROBABILITY: 0.0000\n",
            "\n",
            "DETAILS: HTTP://SOURCE.SAKAIPROJECT.ORG/VIEWSVN/?VIEW=REV&REV=39760\n",
            "\n",
            "AUTHOR: ZQIAN@UMICH.EDU\n",
            "DATE: 2008-01-04 11:09:12 -0500 (FRI, 04 JAN 2008)\n",
            "NEW REVISION: 39760\n",
            "\n",
            "MODIFIED:\n",
            "SITE-MANAGE/TRUNK/SITE-MANAGE-TOOL/TOOL/SRC/JAVA/ORG/SAKAIPROJECT/SITE/TOOL/SITEACTION.JAVA\n",
            "SITE-MANAGE/TRUNK/SITE-MANAGE-TOOL/TOOL/SRC/WEBAPP/VM/SITESETUP/CHEF_SITE-SITEINFO-LIST.VM\n",
            "LOG:\n",
            "FIX TO SAK-10911: REFACTOR USE OF SITE.UPD, SITE.UPD.SITE.MBRSHIP AND SITE.UPD.GRP.MBRSHIP PERMISSIONS\n",
            "\n",
            "----------------------\n",
            "THIS AUTOMATIC NOTIFICATION MESSAGE WAS SENT BY SAKAI COLLAB (HTTPS://COLLAB.SAKAIPROJECT.ORG/PORTAL) FROM THE SOURCE SITE.\n",
            "YOU CAN MODIFY HOW YOU RECEIVE NOTIFICATIONS AT MY WORKSPACE > PREFERENCES.\n",
            "\n",
            "\n",
            "\n",
            "FROM GSILVER@UMICH.EDU FRI JAN  4 11:10:22 2008\n",
            "RETURN-PATH: <POSTMASTER@COLLAB.SAKAIPROJECT.ORG>\n",
            "RECEIVED: FROM MURDER (MAIL.UMICH.EDU [141.211.14.39])\n",
            "\t BY FRANKENSTEIN.MAIL.UMICH.EDU (CYRUS V2.3.8) WITH LMTPA;\n",
            "\t FRI, 04 JAN 2008 11:10:22 -0500\n",
            "X-SIEVE: CMU SIEVE 2.3\n",
            "RECEIVED: FROM MURDER ([UNIX SOCKET])\n",
            "\t BY MAIL.UMICH.EDU (CYRUS V2.2.12) WITH LMTPA;\n",
            "\t FRI, 04 JAN 2008 11:10:22 -0500\n",
            "RECEIVED: FROM HOLES.MR.ITD.UMICH.EDU (HOLES.MR.ITD.UMICH.EDU [141.211.14.79])\n",
            "\tBY FAITHFUL.MAIL.UMICH.EDU () WITH ESMTP ID M04GAL9K010604;\n",
            "\tFRI, 4 JAN 2008 11:10:21 -0500\n",
            "RECEIVED: FROM PAPLOO.UHI.AC.UK (APP1.PROD.COLLAB.UHI.AC.UK [194.35.219.184])\n",
            "\tBY HOLES.MR.ITD.UMICH.EDU ID 477E5A67.34350.23015 ;\n",
            "\t 4 JAN 2008 11:10:18 -0500\n",
            "RECEIVED: FROM PAPLOO.UHI.AC.UK (LOCALHOST [127.0.0.1])\n",
            "\tBY PAPLOO.UHI.AC.UK (POSTFIX) WITH ESMTP ID 98D04BAD43;\n",
            "\tFRI,  4 JAN 2008 16:10:11 +0000 (GMT)\n",
            "MESSAGE-ID: <200801041608.M04G8D7W007184@NAKAMURA.UITS.IUPUI.EDU>\n",
            "MIME-VERSION: 1.0\n",
            "CONTENT-TRANSFER-ENCODING: 7BIT\n",
            "RECEIVED: FROM PROD.COLLAB.UHI.AC.UK ([194.35.219.182])\n",
            "          BY PAPLOO.UHI.AC.UK (JAMES SMTP SERVER 2.1.3) WITH SMTP ID 966\n",
            "          FOR <SOURCE@COLLAB.SAKAIPROJECT.ORG>;\n",
            "          FRI, 4 JAN 2008 16:09:51 +0000 (GMT)\n",
            "RECEIVED: FROM NAKAMURA.UITS.IUPUI.EDU (NAKAMURA.UITS.IUPUI.EDU [134.68.220.122])\n",
            "\tBY SHMI.UHI.AC.UK (POSTFIX) WITH ESMTP ID 9F89542DD0\n",
            "\tFOR <SOURCE@COLLAB.SAKAIPROJECT.ORG>; FRI,  4 JAN 2008 16:09:50 +0000 (GMT)\n",
            "RECEIVED: FROM NAKAMURA.UITS.IUPUI.EDU (LOCALHOST [127.0.0.1])\n",
            "\tBY NAKAMURA.UITS.IUPUI.EDU (8.12.11.20060308/8.12.11) WITH ESMTP ID M04G8DXN007186\n",
            "\tFOR <SOURCE@COLLAB.SAKAIPROJECT.ORG>; FRI, 4 JAN 2008 11:08:39 -0500\n",
            "RECEIVED: (FROM APACHE@LOCALHOST)\n",
            "\tBY NAKAMURA.UITS.IUPUI.EDU (8.12.11.20060308/8.12.11/SUBMIT) ID M04G8D7W007184\n",
            "\tFOR SOURCE@COLLAB.SAKAIPROJECT.ORG; FRI, 4 JAN 2008 11:08:39 -0500\n",
            "DATE: FRI, 4 JAN 2008 11:08:39 -0500\n",
            "X-AUTHENTICATION-WARNING: NAKAMURA.UITS.IUPUI.EDU: APACHE SET SENDER TO GSILVER@UMICH.EDU USING -F\n",
            "TO: SOURCE@COLLAB.SAKAIPROJECT.ORG\n",
            "FROM: GSILVER@UMICH.EDU\n",
            "SUBJECT: [SAKAI] SVN COMMIT: R39759 - MAILARCHIVE/TRUNK/MAILARCHIVE-TOOL/TOOL/SRC/BUNDLE\n",
            "X-CONTENT-TYPE-OUTER-ENVELOPE: TEXT/PLAIN; CHARSET=UTF-8\n",
            "X-CONTENT-TYPE-MESSAGE-BODY: TEXT/PLAIN; CHARSET=UTF-8\n",
            "CONTENT-TYPE: TEXT/PLAIN; CHARSET=UTF-8\n",
            "X-DSPAM-RESULT: INNOCENT\n",
            "X-DSPAM-PROCESSED: FRI JAN  4 11:10:22 2008\n",
            "X-DSPAM-CONFIDENCE: 0.7606\n",
            "X-DSPAM-PROBABILITY: 0.0000\n",
            "\n",
            "DETAILS: HTTP://SOURCE.SAKAIPROJECT.ORG/VIEWSVN/?VIEW=REV&REV=39759\n",
            "\n",
            "AUTHOR: GSILVER@UMICH.EDU\n",
            "DATE: 2008-01-04 11:08:38 -0500 (FRI, 04 JAN 2008)\n",
            "NEW REVISION: 39759\n",
            "\n",
            "MODIFIED:\n",
            "MAILARCHIVE/TRUNK/MAILARCHIVE-TOOL/TOOL/SRC/BUNDLE/EMAIL.PROPERTIES\n",
            "LOG:\n",
            "SAK-12592\n",
            "HTTP://BUGS.SAKAIPROJECT.ORG/JIRA/BROWSE/SAK-12592\n",
            "- LEFT MOOT (UNUSED) ENTRIES COMMENTED FOR NOW\n",
            "\n",
            "----------------------\n",
            "THIS AUTOMATIC NOTIFICATION MESSAGE WAS SENT BY SAKAI COLLAB (HTTPS://COLLAB.SAKAIPROJECT.ORG/PORTAL) FROM THE SOURCE SITE.\n",
            "YOU CAN MODIFY HOW YOU RECEIVE NOTIFICATIONS AT MY WORKSPACE > PREFERENCES.\n",
            "\n",
            "\n",
            "\n",
            "FROM WAGNERMR@IUPUI.EDU FRI JAN  4 10:38:42 2008\n",
            "RETURN-PATH: <POSTMASTER@COLLAB.SAKAIPROJECT.ORG>\n",
            "RECEIVED: FROM MURDER (MAIL.UMICH.EDU [141.211.14.90])\n",
            "\t BY FRANKENSTEIN.MAIL.UMICH.EDU (CYRUS V2.3.8) WITH LMTPA;\n",
            "\t FRI, 04 JAN 2008 10:38:42 -0500\n",
            "X-SIEVE: CMU SIEVE 2.3\n",
            "RECEIVED: FROM MURDER ([UNIX SOCKET])\n",
            "\t BY MAIL.UMICH.EDU (CYRUS V2.2.12) WITH LMTPA;\n",
            "\t FRI, 04 JAN 2008 10:38:42 -0500\n",
            "RECEIVED: FROM SHINING.MR.ITD.UMICH.EDU (SHINING.MR.ITD.UMICH.EDU [141.211.93.153])\n",
            "\tBY FLAWLESS.MAIL.UMICH.EDU () WITH ESMTP ID M04FCFJM012313;\n",
            "\tFRI, 4 JAN 2008 10:38:41 -0500\n",
            "RECEIVED: FROM PAPLOO.UHI.AC.UK (APP1.PROD.COLLAB.UHI.AC.UK [194.35.219.184])\n",
            "\tBY SHINING.MR.ITD.UMICH.EDU ID 477E52FA.E6C6E.24093 ;\n",
            "\t 4 JAN 2008 10:38:37 -0500\n",
            "RECEIVED: FROM PAPLOO.UHI.AC.UK (LOCALHOST [127.0.0.1])\n",
            "\tBY PAPLOO.UHI.AC.UK (POSTFIX) WITH ESMTP ID 6A39594CD2;\n",
            "\tFRI,  4 JAN 2008 15:37:36 +0000 (GMT)\n",
            "MESSAGE-ID: <200801041537.M04FB6CI007092@NAKAMURA.UITS.IUPUI.EDU>\n",
            "MIME-VERSION: 1.0\n",
            "CONTENT-TRANSFER-ENCODING: 7BIT\n",
            "RECEIVED: FROM PROD.COLLAB.UHI.AC.UK ([194.35.219.182])\n",
            "          BY PAPLOO.UHI.AC.UK (JAMES SMTP SERVER 2.1.3) WITH SMTP ID 690\n",
            "          FOR <SOURCE@COLLAB.SAKAIPROJECT.ORG>;\n",
            "          FRI, 4 JAN 2008 15:37:21 +0000 (GMT)\n",
            "RECEIVED: FROM NAKAMURA.UITS.IUPUI.EDU (NAKAMURA.UITS.IUPUI.EDU [134.68.220.122])\n",
            "\tBY SHMI.UHI.AC.UK (POSTFIX) WITH ESMTP ID CEFA037ACE\n",
            "\tFOR <SOURCE@COLLAB.SAKAIPROJECT.ORG>; FRI,  4 JAN 2008 15:38:17 +0000 (GMT)\n",
            "RECEIVED: FROM NAKAMURA.UITS.IUPUI.EDU (LOCALHOST [127.0.0.1])\n",
            "\tBY NAKAMURA.UITS.IUPUI.EDU (8.12.11.20060308/8.12.11) WITH ESMTP ID M04FB6NH007094\n",
            "\tFOR <SOURCE@COLLAB.SAKAIPROJECT.ORG>; FRI, 4 JAN 2008 10:37:06 -0500\n",
            "RECEIVED: (FROM APACHE@LOCALHOST)\n",
            "\tBY NAKAMURA.UITS.IUPUI.EDU (8.12.11.20060308/8.12.11/SUBMIT) ID M04FB6CI007092\n",
            "\tFOR SOURCE@COLLAB.SAKAIPROJECT.ORG; FRI, 4 JAN 2008 10:37:06 -0500\n",
            "DATE: FRI, 4 JAN 2008 10:37:06 -0500\n",
            "X-AUTHENTICATION-WARNING: NAKAMURA.UITS.IUPUI.EDU: APACHE SET SENDER TO WAGNERMR@IUPUI.EDU USING -F\n",
            "TO: SOURCE@COLLAB.SAKAIPROJECT.ORG\n",
            "FROM: WAGNERMR@IUPUI.EDU\n",
            "SUBJECT: [SAKAI] SVN COMMIT: R39758 - IN GRADEBOOK/TRUNK: APP/BUSINESS/SRC/JAVA/ORG/SAKAIPROJECT/TOOL/GRADEBOOK/BUSINESS/IMPL SERVICE/API/SRC/JAVA/ORG/SAKAIPROJECT/SERVICE/GRADEBOOK/SHARED SERVICE/IMPL/SRC/JAVA/ORG/SAKAIPROJECT/COMPONENT/GRADEBOOK\n",
            "X-CONTENT-TYPE-OUTER-ENVELOPE: TEXT/PLAIN; CHARSET=UTF-8\n",
            "X-CONTENT-TYPE-MESSAGE-BODY: TEXT/PLAIN; CHARSET=UTF-8\n",
            "CONTENT-TYPE: TEXT/PLAIN; CHARSET=UTF-8\n",
            "X-DSPAM-RESULT: INNOCENT\n",
            "X-DSPAM-PROCESSED: FRI JAN  4 10:38:42 2008\n",
            "X-DSPAM-CONFIDENCE: 0.7559\n",
            "X-DSPAM-PROBABILITY: 0.0000\n",
            "\n",
            "DETAILS: HTTP://SOURCE.SAKAIPROJECT.ORG/VIEWSVN/?VIEW=REV&REV=39758\n",
            "\n",
            "AUTHOR: WAGNERMR@IUPUI.EDU\n",
            "DATE: 2008-01-04 10:37:04 -0500 (FRI, 04 JAN 2008)\n",
            "NEW REVISION: 39758\n",
            "\n",
            "MODIFIED:\n",
            "GRADEBOOK/TRUNK/APP/BUSINESS/SRC/JAVA/ORG/SAKAIPROJECT/TOOL/GRADEBOOK/BUSINESS/IMPL/GRADEBOOKMANAGERHIBERNATEIMPL.JAVA\n",
            "GRADEBOOK/TRUNK/SERVICE/API/SRC/JAVA/ORG/SAKAIPROJECT/SERVICE/GRADEBOOK/SHARED/GRADEBOOKSERVICE.JAVA\n",
            "GRADEBOOK/TRUNK/SERVICE/IMPL/SRC/JAVA/ORG/SAKAIPROJECT/COMPONENT/GRADEBOOK/GRADEBOOKSERVICEHIBERNATEIMPL.JAVA\n",
            "LOG:\n",
            "SAK-12175\n",
            "HTTP://BUGS.SAKAIPROJECT.ORG/JIRA/BROWSE/SAK-12175\n",
            "CREATE METHODS REQUIRED FOR GB INTEGRATION WITH THE ASSIGNMENT2 TOOL\n",
            "GETGRADEDEFINITIONFORSTUDENTFORITEM\n",
            "\n",
            "----------------------\n",
            "THIS AUTOMATIC NOTIFICATION MESSAGE WAS SENT BY SAKAI COLLAB (HTTPS://COLLAB.SAKAIPROJECT.ORG/PORTAL) FROM THE SOURCE SITE.\n",
            "YOU CAN MODIFY HOW YOU RECEIVE NOTIFICATIONS AT MY WORKSPACE > PREFERENCES.\n",
            "\n",
            "\n",
            "\n",
            "FROM ZQIAN@UMICH.EDU FRI JAN  4 10:17:43 2008\n",
            "RETURN-PATH: <POSTMASTER@COLLAB.SAKAIPROJECT.ORG>\n",
            "RECEIVED: FROM MURDER (MAIL.UMICH.EDU [141.211.14.97])\n",
            "\t BY FRANKENSTEIN.MAIL.UMICH.EDU (CYRUS V2.3.8) WITH LMTPA;\n",
            "\t FRI, 04 JAN 2008 10:17:43 -0500\n",
            "X-SIEVE: CMU SIEVE 2.3\n",
            "RECEIVED: FROM MURDER ([UNIX SOCKET])\n",
            "\t BY MAIL.UMICH.EDU (CYRUS V2.2.12) WITH LMTPA;\n",
            "\t FRI, 04 JAN 2008 10:17:42 -0500\n",
            "RECEIVED: FROM CREEPSHOW.MR.ITD.UMICH.EDU (CREEPSHOW.MR.ITD.UMICH.EDU [141.211.14.84])\n",
            "\tBY SLEEPERS.MAIL.UMICH.EDU () WITH ESMTP ID M04FHGFS011536;\n",
            "\tFRI, 4 JAN 2008 10:17:42 -0500\n",
            "RECEIVED: FROM PAPLOO.UHI.AC.UK (APP1.PROD.COLLAB.UHI.AC.UK [194.35.219.184])\n",
            "\tBY CREEPSHOW.MR.ITD.UMICH.EDU ID 477E4E0F.CCA4B.926 ;\n",
            "\t 4 JAN 2008 10:17:38 -0500\n",
            "RECEIVED: FROM PAPLOO.UHI.AC.UK (LOCALHOST [127.0.0.1])\n",
            "\tBY PAPLOO.UHI.AC.UK (POSTFIX) WITH ESMTP ID BD02DBAC64;\n",
            "\tFRI,  4 JAN 2008 15:17:34 +0000 (GMT)\n",
            "MESSAGE-ID: <200801041515.M04FFV42007050@NAKAMURA.UITS.IUPUI.EDU>\n",
            "MIME-VERSION: 1.0\n",
            "CONTENT-TRANSFER-ENCODING: 7BIT\n",
            "RECEIVED: FROM PROD.COLLAB.UHI.AC.UK ([194.35.219.182])\n",
            "          BY PAPLOO.UHI.AC.UK (JAMES SMTP SERVER 2.1.3) WITH SMTP ID 25\n",
            "          FOR <SOURCE@COLLAB.SAKAIPROJECT.ORG>;\n",
            "          FRI, 4 JAN 2008 15:17:11 +0000 (GMT)\n",
            "RECEIVED: FROM NAKAMURA.UITS.IUPUI.EDU (NAKAMURA.UITS.IUPUI.EDU [134.68.220.122])\n",
            "\tBY SHMI.UHI.AC.UK (POSTFIX) WITH ESMTP ID 5B396236B9\n",
            "\tFOR <SOURCE@COLLAB.SAKAIPROJECT.ORG>; FRI,  4 JAN 2008 15:17:08 +0000 (GMT)\n",
            "RECEIVED: FROM NAKAMURA.UITS.IUPUI.EDU (LOCALHOST [127.0.0.1])\n",
            "\tBY NAKAMURA.UITS.IUPUI.EDU (8.12.11.20060308/8.12.11) WITH ESMTP ID M04FFV85007052\n",
            "\tFOR <SOURCE@COLLAB.SAKAIPROJECT.ORG>; FRI, 4 JAN 2008 10:15:57 -0500\n",
            "RECEIVED: (FROM APACHE@LOCALHOST)\n",
            "\tBY NAKAMURA.UITS.IUPUI.EDU (8.12.11.20060308/8.12.11/SUBMIT) ID M04FFV42007050\n",
            "\tFOR SOURCE@COLLAB.SAKAIPROJECT.ORG; FRI, 4 JAN 2008 10:15:57 -0500\n",
            "DATE: FRI, 4 JAN 2008 10:15:57 -0500\n",
            "X-AUTHENTICATION-WARNING: NAKAMURA.UITS.IUPUI.EDU: APACHE SET SENDER TO ZQIAN@UMICH.EDU USING -F\n",
            "TO: SOURCE@COLLAB.SAKAIPROJECT.ORG\n",
            "FROM: ZQIAN@UMICH.EDU\n",
            "SUBJECT: [SAKAI] SVN COMMIT: R39757 - IN ASSIGNMENT/TRUNK: ASSIGNMENT-IMPL/IMPL/SRC/JAVA/ORG/SAKAIPROJECT/ASSIGNMENT/IMPL ASSIGNMENT-TOOL/TOOL/SRC/WEBAPP/VM/ASSIGNMENT\n",
            "X-CONTENT-TYPE-OUTER-ENVELOPE: TEXT/PLAIN; CHARSET=UTF-8\n",
            "X-CONTENT-TYPE-MESSAGE-BODY: TEXT/PLAIN; CHARSET=UTF-8\n",
            "CONTENT-TYPE: TEXT/PLAIN; CHARSET=UTF-8\n",
            "X-DSPAM-RESULT: INNOCENT\n",
            "X-DSPAM-PROCESSED: FRI JAN  4 10:17:42 2008\n",
            "X-DSPAM-CONFIDENCE: 0.7605\n",
            "X-DSPAM-PROBABILITY: 0.0000\n",
            "\n",
            "DETAILS: HTTP://SOURCE.SAKAIPROJECT.ORG/VIEWSVN/?VIEW=REV&REV=39757\n",
            "\n",
            "AUTHOR: ZQIAN@UMICH.EDU\n",
            "DATE: 2008-01-04 10:15:54 -0500 (FRI, 04 JAN 2008)\n",
            "NEW REVISION: 39757\n",
            "\n",
            "MODIFIED:\n",
            "ASSIGNMENT/TRUNK/ASSIGNMENT-IMPL/IMPL/SRC/JAVA/ORG/SAKAIPROJECT/ASSIGNMENT/IMPL/BASEASSIGNMENTSERVICE.JAVA\n",
            "ASSIGNMENT/TRUNK/ASSIGNMENT-TOOL/TOOL/SRC/WEBAPP/VM/ASSIGNMENT/CHEF_ASSIGNMENTS_INSTRUCTOR_LIST_SUBMISSIONS.VM\n",
            "LOG:\n",
            "FIX TO SAK-12604:DON'T SHOW GROUPS/SECTIONS FILTER IF THE SITE DOESN'T HAVE ANY\n",
            "\n",
            "----------------------\n",
            "THIS AUTOMATIC NOTIFICATION MESSAGE WAS SENT BY SAKAI COLLAB (HTTPS://COLLAB.SAKAIPROJECT.ORG/PORTAL) FROM THE SOURCE SITE.\n",
            "YOU CAN MODIFY HOW YOU RECEIVE NOTIFICATIONS AT MY WORKSPACE > PREFERENCES.\n",
            "\n",
            "\n",
            "\n",
            "FROM ANTRANIG@CARET.CAM.AC.UK FRI JAN  4 10:04:14 2008\n",
            "RETURN-PATH: <POSTMASTER@COLLAB.SAKAIPROJECT.ORG>\n",
            "RECEIVED: FROM MURDER (MAIL.UMICH.EDU [141.211.14.25])\n",
            "\t BY FRANKENSTEIN.MAIL.UMICH.EDU (CYRUS V2.3.8) WITH LMTPA;\n",
            "\t FRI, 04 JAN 2008 10:04:14 -0500\n",
            "X-SIEVE: CMU SIEVE 2.3\n",
            "RECEIVED: FROM MURDER ([UNIX SOCKET])\n",
            "\t BY MAIL.UMICH.EDU (CYRUS V2.2.12) WITH LMTPA;\n",
            "\t FRI, 04 JAN 2008 10:04:14 -0500\n",
            "RECEIVED: FROM HOLES.MR.ITD.UMICH.EDU (HOLES.MR.ITD.UMICH.EDU [141.211.14.79])\n",
            "\tBY PANTHER.MAIL.UMICH.EDU () WITH ESMTP ID M04F4DCI015108;\n",
            "\tFRI, 4 JAN 2008 10:04:13 -0500\n",
            "RECEIVED: FROM PAPLOO.UHI.AC.UK (APP1.PROD.COLLAB.UHI.AC.UK [194.35.219.184])\n",
            "\tBY HOLES.MR.ITD.UMICH.EDU ID 477E4AE3.D7AF.31669 ;\n",
            "\t 4 JAN 2008 10:04:05 -0500\n",
            "RECEIVED: FROM PAPLOO.UHI.AC.UK (LOCALHOST [127.0.0.1])\n",
            "\tBY PAPLOO.UHI.AC.UK (POSTFIX) WITH ESMTP ID 933E3BAC17;\n",
            "\tFRI,  4 JAN 2008 15:04:00 +0000 (GMT)\n",
            "MESSAGE-ID: <200801041502.M04F21JO007031@NAKAMURA.UITS.IUPUI.EDU>\n",
            "MIME-VERSION: 1.0\n",
            "CONTENT-TRANSFER-ENCODING: 7BIT\n",
            "RECEIVED: FROM PROD.COLLAB.UHI.AC.UK ([194.35.219.182])\n",
            "          BY PAPLOO.UHI.AC.UK (JAMES SMTP SERVER 2.1.3) WITH SMTP ID 32\n",
            "          FOR <SOURCE@COLLAB.SAKAIPROJECT.ORG>;\n",
            "          FRI, 4 JAN 2008 15:03:15 +0000 (GMT)\n",
            "RECEIVED: FROM NAKAMURA.UITS.IUPUI.EDU (NAKAMURA.UITS.IUPUI.EDU [134.68.220.122])\n",
            "\tBY SHMI.UHI.AC.UK (POSTFIX) WITH ESMTP ID AC2F6236B9\n",
            "\tFOR <SOURCE@COLLAB.SAKAIPROJECT.ORG>; FRI,  4 JAN 2008 15:03:12 +0000 (GMT)\n",
            "RECEIVED: FROM NAKAMURA.UITS.IUPUI.EDU (LOCALHOST [127.0.0.1])\n",
            "\tBY NAKAMURA.UITS.IUPUI.EDU (8.12.11.20060308/8.12.11) WITH ESMTP ID M04F21HN007033\n",
            "\tFOR <SOURCE@COLLAB.SAKAIPROJECT.ORG>; FRI, 4 JAN 2008 10:02:01 -0500\n",
            "RECEIVED: (FROM APACHE@LOCALHOST)\n",
            "\tBY NAKAMURA.UITS.IUPUI.EDU (8.12.11.20060308/8.12.11/SUBMIT) ID M04F21JO007031\n",
            "\tFOR SOURCE@COLLAB.SAKAIPROJECT.ORG; FRI, 4 JAN 2008 10:02:01 -0500\n",
            "DATE: FRI, 4 JAN 2008 10:02:01 -0500\n",
            "X-AUTHENTICATION-WARNING: NAKAMURA.UITS.IUPUI.EDU: APACHE SET SENDER TO ANTRANIG@CARET.CAM.AC.UK USING -F\n",
            "TO: SOURCE@COLLAB.SAKAIPROJECT.ORG\n",
            "FROM: ANTRANIG@CARET.CAM.AC.UK\n",
            "SUBJECT: [SAKAI] SVN COMMIT: R39756 - IN COMPONENT/BRANCHES/SAK-12166/COMPONENT-API/COMPONENT/SRC/JAVA/ORG/SAKAIPROJECT/COMPONENT: IMPL IMPL/SPRING/SUPPORT IMPL/SPRING/SUPPORT/DYNAMIC IMPL/SUPPORT UTIL\n",
            "X-CONTENT-TYPE-OUTER-ENVELOPE: TEXT/PLAIN; CHARSET=UTF-8\n",
            "X-CONTENT-TYPE-MESSAGE-BODY: TEXT/PLAIN; CHARSET=UTF-8\n",
            "CONTENT-TYPE: TEXT/PLAIN; CHARSET=UTF-8\n",
            "X-DSPAM-RESULT: INNOCENT\n",
            "X-DSPAM-PROCESSED: FRI JAN  4 10:04:14 2008\n",
            "X-DSPAM-CONFIDENCE: 0.6932\n",
            "X-DSPAM-PROBABILITY: 0.0000\n",
            "\n",
            "DETAILS: HTTP://SOURCE.SAKAIPROJECT.ORG/VIEWSVN/?VIEW=REV&REV=39756\n",
            "\n",
            "AUTHOR: ANTRANIG@CARET.CAM.AC.UK\n",
            "DATE: 2008-01-04 10:01:40 -0500 (FRI, 04 JAN 2008)\n",
            "NEW REVISION: 39756\n",
            "\n",
            "ADDED:\n",
            "COMPONENT/BRANCHES/SAK-12166/COMPONENT-API/COMPONENT/SRC/JAVA/ORG/SAKAIPROJECT/COMPONENT/IMPL/SPRING/SUPPORT/DYNAMIC/\n",
            "COMPONENT/BRANCHES/SAK-12166/COMPONENT-API/COMPONENT/SRC/JAVA/ORG/SAKAIPROJECT/COMPONENT/IMPL/SPRING/SUPPORT/DYNAMIC/DYNAMICCOMPONENTMANAGER.JAVA\n",
            "COMPONENT/BRANCHES/SAK-12166/COMPONENT-API/COMPONENT/SRC/JAVA/ORG/SAKAIPROJECT/COMPONENT/IMPL/SUPPORT/\n",
            "COMPONENT/BRANCHES/SAK-12166/COMPONENT-API/COMPONENT/SRC/JAVA/ORG/SAKAIPROJECT/COMPONENT/IMPL/SUPPORT/DYNAMICCOMPONENTRECORD.JAVA\n",
            "COMPONENT/BRANCHES/SAK-12166/COMPONENT-API/COMPONENT/SRC/JAVA/ORG/SAKAIPROJECT/COMPONENT/IMPL/SUPPORT/DYNAMICJARMANAGER.JAVA\n",
            "COMPONENT/BRANCHES/SAK-12166/COMPONENT-API/COMPONENT/SRC/JAVA/ORG/SAKAIPROJECT/COMPONENT/IMPL/SUPPORT/JARRECORD.JAVA\n",
            "COMPONENT/BRANCHES/SAK-12166/COMPONENT-API/COMPONENT/SRC/JAVA/ORG/SAKAIPROJECT/COMPONENT/UTIL/BYTETOCHARBASE64.JAVA\n",
            "COMPONENT/BRANCHES/SAK-12166/COMPONENT-API/COMPONENT/SRC/JAVA/ORG/SAKAIPROJECT/COMPONENT/UTIL/FILEUTIL.JAVA\n",
            "COMPONENT/BRANCHES/SAK-12166/COMPONENT-API/COMPONENT/SRC/JAVA/ORG/SAKAIPROJECT/COMPONENT/UTIL/RECORDFILEIO.JAVA\n",
            "COMPONENT/BRANCHES/SAK-12166/COMPONENT-API/COMPONENT/SRC/JAVA/ORG/SAKAIPROJECT/COMPONENT/UTIL/RECORDREADER.JAVA\n",
            "COMPONENT/BRANCHES/SAK-12166/COMPONENT-API/COMPONENT/SRC/JAVA/ORG/SAKAIPROJECT/COMPONENT/UTIL/RECORDWRITER.JAVA\n",
            "COMPONENT/BRANCHES/SAK-12166/COMPONENT-API/COMPONENT/SRC/JAVA/ORG/SAKAIPROJECT/COMPONENT/UTIL/STREAMDIGESTOR.JAVA\n",
            "MODIFIED:\n",
            "COMPONENT/BRANCHES/SAK-12166/COMPONENT-API/COMPONENT/SRC/JAVA/ORG/SAKAIPROJECT/COMPONENT/IMPL/SPRING/SUPPORT/COMPONENTSLOADERIMPL.JAVA\n",
            "LOG:\n",
            "TEMPORARY COMMIT OF INCOMPLETE WORK ON JAR CACHING\n",
            "\n",
            "----------------------\n",
            "THIS AUTOMATIC NOTIFICATION MESSAGE WAS SENT BY SAKAI COLLAB (HTTPS://COLLAB.SAKAIPROJECT.ORG/PORTAL) FROM THE SOURCE SITE.\n",
            "YOU CAN MODIFY HOW YOU RECEIVE NOTIFICATIONS AT MY WORKSPACE > PREFERENCES.\n",
            "\n",
            "\n",
            "\n",
            "FROM GOPAL.RAMASAMMYCOOK@GMAIL.COM FRI JAN  4 09:05:31 2008\n",
            "RETURN-PATH: <POSTMASTER@COLLAB.SAKAIPROJECT.ORG>\n",
            "RECEIVED: FROM MURDER (MAIL.UMICH.EDU [141.211.14.90])\n",
            "\t BY FRANKENSTEIN.MAIL.UMICH.EDU (CYRUS V2.3.8) WITH LMTPA;\n",
            "\t FRI, 04 JAN 2008 09:05:31 -0500\n",
            "X-SIEVE: CMU SIEVE 2.3\n",
            "RECEIVED: FROM MURDER ([UNIX SOCKET])\n",
            "\t BY MAIL.UMICH.EDU (CYRUS V2.2.12) WITH LMTPA;\n",
            "\t FRI, 04 JAN 2008 09:05:31 -0500\n",
            "RECEIVED: FROM GUYS.MR.ITD.UMICH.EDU (GUYS.MR.ITD.UMICH.EDU [141.211.14.76])\n",
            "\tBY FLAWLESS.MAIL.UMICH.EDU () WITH ESMTP ID M04E5U3C029277;\n",
            "\tFRI, 4 JAN 2008 09:05:30 -0500\n",
            "RECEIVED: FROM PAPLOO.UHI.AC.UK (APP1.PROD.COLLAB.UHI.AC.UK [194.35.219.184])\n",
            "\tBY GUYS.MR.ITD.UMICH.EDU ID 477E3D23.EE2E7.5237 ;\n",
            "\t 4 JAN 2008 09:05:26 -0500\n",
            "RECEIVED: FROM PAPLOO.UHI.AC.UK (LOCALHOST [127.0.0.1])\n",
            "\tBY PAPLOO.UHI.AC.UK (POSTFIX) WITH ESMTP ID 33C7856DC0;\n",
            "\tFRI,  4 JAN 2008 14:05:26 +0000 (GMT)\n",
            "MESSAGE-ID: <200801041403.M04E3PSW006926@NAKAMURA.UITS.IUPUI.EDU>\n",
            "MIME-VERSION: 1.0\n",
            "CONTENT-TRANSFER-ENCODING: 7BIT\n",
            "RECEIVED: FROM PROD.COLLAB.UHI.AC.UK ([194.35.219.182])\n",
            "          BY PAPLOO.UHI.AC.UK (JAMES SMTP SERVER 2.1.3) WITH SMTP ID 575\n",
            "          FOR <SOURCE@COLLAB.SAKAIPROJECT.ORG>;\n",
            "          FRI, 4 JAN 2008 14:05:04 +0000 (GMT)\n",
            "RECEIVED: FROM NAKAMURA.UITS.IUPUI.EDU (NAKAMURA.UITS.IUPUI.EDU [134.68.220.122])\n",
            "\tBY SHMI.UHI.AC.UK (POSTFIX) WITH ESMTP ID 3C0261D617\n",
            "\tFOR <SOURCE@COLLAB.SAKAIPROJECT.ORG>; FRI,  4 JAN 2008 14:05:03 +0000 (GMT)\n",
            "RECEIVED: FROM NAKAMURA.UITS.IUPUI.EDU (LOCALHOST [127.0.0.1])\n",
            "\tBY NAKAMURA.UITS.IUPUI.EDU (8.12.11.20060308/8.12.11) WITH ESMTP ID M04E3PQS006928\n",
            "\tFOR <SOURCE@COLLAB.SAKAIPROJECT.ORG>; FRI, 4 JAN 2008 09:03:52 -0500\n",
            "RECEIVED: (FROM APACHE@LOCALHOST)\n",
            "\tBY NAKAMURA.UITS.IUPUI.EDU (8.12.11.20060308/8.12.11/SUBMIT) ID M04E3PSW006926\n",
            "\tFOR SOURCE@COLLAB.SAKAIPROJECT.ORG; FRI, 4 JAN 2008 09:03:51 -0500\n",
            "DATE: FRI, 4 JAN 2008 09:03:51 -0500\n",
            "X-AUTHENTICATION-WARNING: NAKAMURA.UITS.IUPUI.EDU: APACHE SET SENDER TO GOPAL.RAMASAMMYCOOK@GMAIL.COM USING -F\n",
            "TO: SOURCE@COLLAB.SAKAIPROJECT.ORG\n",
            "FROM: GOPAL.RAMASAMMYCOOK@GMAIL.COM\n",
            "SUBJECT: [SAKAI] SVN COMMIT: R39755 - IN SAM/BRANCHES/SAK-12065: SAMIGO-API/SRC/JAVA/ORG/SAKAIPROJECT/TOOL/ASSESSMENT/SHARED/API/GRADING SAMIGO-APP/SRC/JAVA/ORG/SAKAIPROJECT/TOOL/ASSESSMENT/UI/BEAN/EVALUATION SAMIGO-APP/SRC/JAVA/ORG/SAKAIPROJECT/TOOL/ASSESSMENT/UI/LISTENER/EVALUATION SAMIGO-SERVICES/SRC/JAVA/ORG/SAKAIPROJECT/TOOL/ASSESSMENT/FACADE SAMIGO-SERVICES/SRC/JAVA/ORG/SAKAIPROJECT/TOOL/ASSESSMENT/INTEGRATION/HELPER/IFC SAMIGO-SERVICES/SRC/JAVA/ORG/SAKAIPROJECT/TOOL/ASSESSMENT/INTEGRATION/HELPER/INTEGRATED SAMIGO-SERVICES/SRC/JAVA/ORG/SAKAIPROJECT/TOOL/ASSESSMENT/INTEGRATION/HELPER/STANDALONE SAMIGO-SERVICES/SRC/JAVA/ORG/SAKAIPROJECT/TOOL/ASSESSMENT/SHARED/IMPL/GRADING\n",
            "X-CONTENT-TYPE-OUTER-ENVELOPE: TEXT/PLAIN; CHARSET=UTF-8\n",
            "X-CONTENT-TYPE-MESSAGE-BODY: TEXT/PLAIN; CHARSET=UTF-8\n",
            "CONTENT-TYPE: TEXT/PLAIN; CHARSET=UTF-8\n",
            "X-DSPAM-RESULT: INNOCENT\n",
            "X-DSPAM-PROCESSED: FRI JAN  4 09:05:31 2008\n",
            "X-DSPAM-CONFIDENCE: 0.7558\n",
            "X-DSPAM-PROBABILITY: 0.0000\n",
            "\n",
            "DETAILS: HTTP://SOURCE.SAKAIPROJECT.ORG/VIEWSVN/?VIEW=REV&REV=39755\n",
            "\n",
            "AUTHOR: GOPAL.RAMASAMMYCOOK@GMAIL.COM\n",
            "DATE: 2008-01-04 09:02:54 -0500 (FRI, 04 JAN 2008)\n",
            "NEW REVISION: 39755\n",
            "\n",
            "MODIFIED:\n",
            "SAM/BRANCHES/SAK-12065/SAMIGO-API/SRC/JAVA/ORG/SAKAIPROJECT/TOOL/ASSESSMENT/SHARED/API/GRADING/GRADINGSECTIONAWARESERVICEAPI.JAVA\n",
            "SAM/BRANCHES/SAK-12065/SAMIGO-APP/SRC/JAVA/ORG/SAKAIPROJECT/TOOL/ASSESSMENT/UI/BEAN/EVALUATION/QUESTIONSCORESBEAN.JAVA\n",
            "SAM/BRANCHES/SAK-12065/SAMIGO-APP/SRC/JAVA/ORG/SAKAIPROJECT/TOOL/ASSESSMENT/UI/BEAN/EVALUATION/SUBMISSIONSTATUSBEAN.JAVA\n",
            "SAM/BRANCHES/SAK-12065/SAMIGO-APP/SRC/JAVA/ORG/SAKAIPROJECT/TOOL/ASSESSMENT/UI/BEAN/EVALUATION/TOTALSCORESBEAN.JAVA\n",
            "SAM/BRANCHES/SAK-12065/SAMIGO-APP/SRC/JAVA/ORG/SAKAIPROJECT/TOOL/ASSESSMENT/UI/LISTENER/EVALUATION/SUBMISSIONSTATUSLISTENER.JAVA\n",
            "SAM/BRANCHES/SAK-12065/SAMIGO-SERVICES/SRC/JAVA/ORG/SAKAIPROJECT/TOOL/ASSESSMENT/FACADE/PUBLISHEDASSESSMENTFACADEQUERIES.JAVA\n",
            "SAM/BRANCHES/SAK-12065/SAMIGO-SERVICES/SRC/JAVA/ORG/SAKAIPROJECT/TOOL/ASSESSMENT/FACADE/PUBLISHEDASSESSMENTFACADEQUERIESAPI.JAVA\n",
            "SAM/BRANCHES/SAK-12065/SAMIGO-SERVICES/SRC/JAVA/ORG/SAKAIPROJECT/TOOL/ASSESSMENT/INTEGRATION/HELPER/IFC/SECTIONAWARESERVICEHELPER.JAVA\n",
            "SAM/BRANCHES/SAK-12065/SAMIGO-SERVICES/SRC/JAVA/ORG/SAKAIPROJECT/TOOL/ASSESSMENT/INTEGRATION/HELPER/INTEGRATED/SECTIONAWARESERVICEHELPERIMPL.JAVA\n",
            "SAM/BRANCHES/SAK-12065/SAMIGO-SERVICES/SRC/JAVA/ORG/SAKAIPROJECT/TOOL/ASSESSMENT/INTEGRATION/HELPER/STANDALONE/SECTIONAWARESERVICEHELPERIMPL.JAVA\n",
            "SAM/BRANCHES/SAK-12065/SAMIGO-SERVICES/SRC/JAVA/ORG/SAKAIPROJECT/TOOL/ASSESSMENT/SHARED/IMPL/GRADING/GRADINGSECTIONAWARESERVICEIMPL.JAVA\n",
            "LOG:\n",
            "SAK-12065 GOPAL - SAMIGO GROUP RELEASE. SUBMISSIONSTATUS/TOTALSCORES/QUESTIONS VIEW FILTER.\n",
            "\n",
            "----------------------\n",
            "THIS AUTOMATIC NOTIFICATION MESSAGE WAS SENT BY SAKAI COLLAB (HTTPS://COLLAB.SAKAIPROJECT.ORG/PORTAL) FROM THE SOURCE SITE.\n",
            "YOU CAN MODIFY HOW YOU RECEIVE NOTIFICATIONS AT MY WORKSPACE > PREFERENCES.\n",
            "\n",
            "\n",
            "\n",
            "FROM DAVID.HORWITZ@UCT.AC.ZA FRI JAN  4 07:02:32 2008\n",
            "RETURN-PATH: <POSTMASTER@COLLAB.SAKAIPROJECT.ORG>\n",
            "RECEIVED: FROM MURDER (MAIL.UMICH.EDU [141.211.14.39])\n",
            "\t BY FRANKENSTEIN.MAIL.UMICH.EDU (CYRUS V2.3.8) WITH LMTPA;\n",
            "\t FRI, 04 JAN 2008 07:02:32 -0500\n",
            "X-SIEVE: CMU SIEVE 2.3\n",
            "RECEIVED: FROM MURDER ([UNIX SOCKET])\n",
            "\t BY MAIL.UMICH.EDU (CYRUS V2.2.12) WITH LMTPA;\n",
            "\t FRI, 04 JAN 2008 07:02:32 -0500\n",
            "RECEIVED: FROM GUYS.MR.ITD.UMICH.EDU (GUYS.MR.ITD.UMICH.EDU [141.211.14.76])\n",
            "\tBY FAITHFUL.MAIL.UMICH.EDU () WITH ESMTP ID M04C2VN7026678;\n",
            "\tFRI, 4 JAN 2008 07:02:31 -0500\n",
            "RECEIVED: FROM PAPLOO.UHI.AC.UK (APP1.PROD.COLLAB.UHI.AC.UK [194.35.219.184])\n",
            "\tBY GUYS.MR.ITD.UMICH.EDU ID 477E2050.C2599.3263 ;\n",
            "\t 4 JAN 2008 07:02:27 -0500\n",
            "RECEIVED: FROM PAPLOO.UHI.AC.UK (LOCALHOST [127.0.0.1])\n",
            "\tBY PAPLOO.UHI.AC.UK (POSTFIX) WITH ESMTP ID 6497FBA906;\n",
            "\tFRI,  4 JAN 2008 12:02:11 +0000 (GMT)\n",
            "MESSAGE-ID: <200801041200.M04C0GFK006793@NAKAMURA.UITS.IUPUI.EDU>\n",
            "MIME-VERSION: 1.0\n",
            "CONTENT-TRANSFER-ENCODING: 7BIT\n",
            "RECEIVED: FROM PROD.COLLAB.UHI.AC.UK ([194.35.219.182])\n",
            "          BY PAPLOO.UHI.AC.UK (JAMES SMTP SERVER 2.1.3) WITH SMTP ID 611\n",
            "          FOR <SOURCE@COLLAB.SAKAIPROJECT.ORG>;\n",
            "          FRI, 4 JAN 2008 12:01:53 +0000 (GMT)\n",
            "RECEIVED: FROM NAKAMURA.UITS.IUPUI.EDU (NAKAMURA.UITS.IUPUI.EDU [134.68.220.122])\n",
            "\tBY SHMI.UHI.AC.UK (POSTFIX) WITH ESMTP ID 5296342D3C\n",
            "\tFOR <SOURCE@COLLAB.SAKAIPROJECT.ORG>; FRI,  4 JAN 2008 12:01:53 +0000 (GMT)\n",
            "RECEIVED: FROM NAKAMURA.UITS.IUPUI.EDU (LOCALHOST [127.0.0.1])\n",
            "\tBY NAKAMURA.UITS.IUPUI.EDU (8.12.11.20060308/8.12.11) WITH ESMTP ID M04C0GNM006795\n",
            "\tFOR <SOURCE@COLLAB.SAKAIPROJECT.ORG>; FRI, 4 JAN 2008 07:00:42 -0500\n",
            "RECEIVED: (FROM APACHE@LOCALHOST)\n",
            "\tBY NAKAMURA.UITS.IUPUI.EDU (8.12.11.20060308/8.12.11/SUBMIT) ID M04C0GFK006793\n",
            "\tFOR SOURCE@COLLAB.SAKAIPROJECT.ORG; FRI, 4 JAN 2008 07:00:42 -0500\n",
            "DATE: FRI, 4 JAN 2008 07:00:42 -0500\n",
            "X-AUTHENTICATION-WARNING: NAKAMURA.UITS.IUPUI.EDU: APACHE SET SENDER TO DAVID.HORWITZ@UCT.AC.ZA USING -F\n",
            "TO: SOURCE@COLLAB.SAKAIPROJECT.ORG\n",
            "FROM: DAVID.HORWITZ@UCT.AC.ZA\n",
            "SUBJECT: [SAKAI] SVN COMMIT: R39754 - IN POLLS/BRANCHES/SAKAI_2-5-X: . TOOL TOOL/SRC/JAVA/ORG/SAKAIPROJECT/POLL/TOOL TOOL/SRC/JAVA/ORG/SAKAIPROJECT/POLL/TOOL/EVOLVERS TOOL/SRC/WEBAPP/WEB-INF\n",
            "X-CONTENT-TYPE-OUTER-ENVELOPE: TEXT/PLAIN; CHARSET=UTF-8\n",
            "X-CONTENT-TYPE-MESSAGE-BODY: TEXT/PLAIN; CHARSET=UTF-8\n",
            "CONTENT-TYPE: TEXT/PLAIN; CHARSET=UTF-8\n",
            "X-DSPAM-RESULT: INNOCENT\n",
            "X-DSPAM-PROCESSED: FRI JAN  4 07:02:32 2008\n",
            "X-DSPAM-CONFIDENCE: 0.6526\n",
            "X-DSPAM-PROBABILITY: 0.0000\n",
            "\n",
            "DETAILS: HTTP://SOURCE.SAKAIPROJECT.ORG/VIEWSVN/?VIEW=REV&REV=39754\n",
            "\n",
            "AUTHOR: DAVID.HORWITZ@UCT.AC.ZA\n",
            "DATE: 2008-01-04 07:00:10 -0500 (FRI, 04 JAN 2008)\n",
            "NEW REVISION: 39754\n",
            "\n",
            "ADDED:\n",
            "POLLS/BRANCHES/SAKAI_2-5-X/TOOL/SRC/JAVA/ORG/SAKAIPROJECT/POLL/TOOL/EVOLVERS/\n",
            "POLLS/BRANCHES/SAKAI_2-5-X/TOOL/SRC/JAVA/ORG/SAKAIPROJECT/POLL/TOOL/EVOLVERS/SAKAIFCKTEXTEVOLVER.JAVA\n",
            "REMOVED:\n",
            "POLLS/BRANCHES/SAKAI_2-5-X/TOOL/SRC/JAVA/ORG/SAKAIPROJECT/POLL/TOOL/EVOLVERS/SAKAIFCKTEXTEVOLVER.JAVA\n",
            "MODIFIED:\n",
            "POLLS/BRANCHES/SAKAI_2-5-X/.CLASSPATH\n",
            "POLLS/BRANCHES/SAKAI_2-5-X/TOOL/POM.XML\n",
            "POLLS/BRANCHES/SAKAI_2-5-X/TOOL/SRC/WEBAPP/WEB-INF/REQUESTCONTEXT.XML\n",
            "LOG:\n",
            "SVN LOG -R39753 HTTPS://SOURCE.SAKAIPROJECT.ORG/SVN/POLLS/TRUNK\n",
            "------------------------------------------------------------------------\n",
            "R39753 | DAVID.HORWITZ@UCT.AC.ZA | 2008-01-04 13:05:51 +0200 (FRI, 04 JAN 2008) | 1 LINE\n",
            "\n",
            "SAK-12228 IMPLMENTED WORKAROUND SUGESTED BY AB - NEEDS TO BE TESTED AGAINST A TRUNK BUILD\n",
            "------------------------------------------------------------------------\n",
            "DHORWITZ@DAVID-HORWITZ-6:~/BRANCHMANAGEMNT/SAKAI_2-5-X> SVN MERGE -C39753 HTTPS://SOURCE.SAKAIPROJECT.ORG/SVN/POLLS/TRUNK POLLS/\n",
            "U    POLLS/.CLASSPATH\n",
            "A    POLLS/TOOL/SRC/JAVA/ORG/SAKAIPROJECT/POLL/TOOL/EVOLVERS\n",
            "A    POLLS/TOOL/SRC/JAVA/ORG/SAKAIPROJECT/POLL/TOOL/EVOLVERS/SAKAIFCKTEXTEVOLVER.JAVA\n",
            "C    POLLS/TOOL/SRC/WEBAPP/WEB-INF/REQUESTCONTEXT.XML\n",
            "U    POLLS/TOOL/POM.XML\n",
            "\n",
            "DHORWITZ@DAVID-HORWITZ-6:~/BRANCHMANAGEMNT/SAKAI_2-5-X> SVN RESOLVED POLLS/TOOL/SRC/WEBAPP/WEB-INF/REQUESTCONTEXT.XML\n",
            "RESOLVED CONFLICTED STATE OF 'POLLS/TOOL/SRC/WEBAPP/WEB-INF/REQUESTCONTEXT.XML\n",
            "\n",
            "\n",
            "----------------------\n",
            "THIS AUTOMATIC NOTIFICATION MESSAGE WAS SENT BY SAKAI COLLAB (HTTPS://COLLAB.SAKAIPROJECT.ORG/PORTAL) FROM THE SOURCE SITE.\n",
            "YOU CAN MODIFY HOW YOU RECEIVE NOTIFICATIONS AT MY WORKSPACE > PREFERENCES.\n",
            "\n",
            "\n",
            "\n",
            "FROM DAVID.HORWITZ@UCT.AC.ZA FRI JAN  4 06:08:27 2008\n",
            "RETURN-PATH: <POSTMASTER@COLLAB.SAKAIPROJECT.ORG>\n",
            "RECEIVED: FROM MURDER (MAIL.UMICH.EDU [141.211.14.98])\n",
            "\t BY FRANKENSTEIN.MAIL.UMICH.EDU (CYRUS V2.3.8) WITH LMTPA;\n",
            "\t FRI, 04 JAN 2008 06:08:27 -0500\n",
            "X-SIEVE: CMU SIEVE 2.3\n",
            "RECEIVED: FROM MURDER ([UNIX SOCKET])\n",
            "\t BY MAIL.UMICH.EDU (CYRUS V2.2.12) WITH LMTPA;\n",
            "\t FRI, 04 JAN 2008 06:08:27 -0500\n",
            "RECEIVED: FROM FIRESTARTER.MR.ITD.UMICH.EDU (FIRESTARTER.MR.ITD.UMICH.EDU [141.211.14.83])\n",
            "\tBY CASINO.MAIL.UMICH.EDU () WITH ESMTP ID M04B8QW9001368;\n",
            "\tFRI, 4 JAN 2008 06:08:26 -0500\n",
            "RECEIVED: FROM PAPLOO.UHI.AC.UK (APP1.PROD.COLLAB.UHI.AC.UK [194.35.219.184])\n",
            "\tBY FIRESTARTER.MR.ITD.UMICH.EDU ID 477E13A5.30FC0.24054 ;\n",
            "\t 4 JAN 2008 06:08:23 -0500\n",
            "RECEIVED: FROM PAPLOO.UHI.AC.UK (LOCALHOST [127.0.0.1])\n",
            "\tBY PAPLOO.UHI.AC.UK (POSTFIX) WITH ESMTP ID 784A476D7B;\n",
            "\tFRI,  4 JAN 2008 11:08:12 +0000 (GMT)\n",
            "MESSAGE-ID: <200801041106.M04B6LK3006677@NAKAMURA.UITS.IUPUI.EDU>\n",
            "MIME-VERSION: 1.0\n",
            "CONTENT-TRANSFER-ENCODING: 7BIT\n",
            "RECEIVED: FROM PROD.COLLAB.UHI.AC.UK ([194.35.219.182])\n",
            "          BY PAPLOO.UHI.AC.UK (JAMES SMTP SERVER 2.1.3) WITH SMTP ID 585\n",
            "          FOR <SOURCE@COLLAB.SAKAIPROJECT.ORG>;\n",
            "          FRI, 4 JAN 2008 11:07:56 +0000 (GMT)\n",
            "RECEIVED: FROM NAKAMURA.UITS.IUPUI.EDU (NAKAMURA.UITS.IUPUI.EDU [134.68.220.122])\n",
            "\tBY SHMI.UHI.AC.UK (POSTFIX) WITH ESMTP ID 1CACC42D0C\n",
            "\tFOR <SOURCE@COLLAB.SAKAIPROJECT.ORG>; FRI,  4 JAN 2008 11:07:58 +0000 (GMT)\n",
            "RECEIVED: FROM NAKAMURA.UITS.IUPUI.EDU (LOCALHOST [127.0.0.1])\n",
            "\tBY NAKAMURA.UITS.IUPUI.EDU (8.12.11.20060308/8.12.11) WITH ESMTP ID M04B6LWM006679\n",
            "\tFOR <SOURCE@COLLAB.SAKAIPROJECT.ORG>; FRI, 4 JAN 2008 06:06:47 -0500\n",
            "RECEIVED: (FROM APACHE@LOCALHOST)\n",
            "\tBY NAKAMURA.UITS.IUPUI.EDU (8.12.11.20060308/8.12.11/SUBMIT) ID M04B6LK3006677\n",
            "\tFOR SOURCE@COLLAB.SAKAIPROJECT.ORG; FRI, 4 JAN 2008 06:06:47 -0500\n",
            "DATE: FRI, 4 JAN 2008 06:06:47 -0500\n",
            "X-AUTHENTICATION-WARNING: NAKAMURA.UITS.IUPUI.EDU: APACHE SET SENDER TO DAVID.HORWITZ@UCT.AC.ZA USING -F\n",
            "TO: SOURCE@COLLAB.SAKAIPROJECT.ORG\n",
            "FROM: DAVID.HORWITZ@UCT.AC.ZA\n",
            "SUBJECT: [SAKAI] SVN COMMIT: R39753 - IN POLLS/TRUNK: . TOOL TOOL/SRC/JAVA/ORG/SAKAIPROJECT/POLL/TOOL TOOL/SRC/JAVA/ORG/SAKAIPROJECT/POLL/TOOL/EVOLVERS TOOL/SRC/WEBAPP/WEB-INF\n",
            "X-CONTENT-TYPE-OUTER-ENVELOPE: TEXT/PLAIN; CHARSET=UTF-8\n",
            "X-CONTENT-TYPE-MESSAGE-BODY: TEXT/PLAIN; CHARSET=UTF-8\n",
            "CONTENT-TYPE: TEXT/PLAIN; CHARSET=UTF-8\n",
            "X-DSPAM-RESULT: INNOCENT\n",
            "X-DSPAM-PROCESSED: FRI JAN  4 06:08:27 2008\n",
            "X-DSPAM-CONFIDENCE: 0.6948\n",
            "X-DSPAM-PROBABILITY: 0.0000\n",
            "\n",
            "DETAILS: HTTP://SOURCE.SAKAIPROJECT.ORG/VIEWSVN/?VIEW=REV&REV=39753\n",
            "\n",
            "AUTHOR: DAVID.HORWITZ@UCT.AC.ZA\n",
            "DATE: 2008-01-04 06:05:51 -0500 (FRI, 04 JAN 2008)\n",
            "NEW REVISION: 39753\n",
            "\n",
            "ADDED:\n",
            "POLLS/TRUNK/TOOL/SRC/JAVA/ORG/SAKAIPROJECT/POLL/TOOL/EVOLVERS/\n",
            "POLLS/TRUNK/TOOL/SRC/JAVA/ORG/SAKAIPROJECT/POLL/TOOL/EVOLVERS/SAKAIFCKTEXTEVOLVER.JAVA\n",
            "MODIFIED:\n",
            "POLLS/TRUNK/.CLASSPATH\n",
            "POLLS/TRUNK/TOOL/POM.XML\n",
            "POLLS/TRUNK/TOOL/SRC/WEBAPP/WEB-INF/REQUESTCONTEXT.XML\n",
            "LOG:\n",
            "SAK-12228 IMPLMENTED WORKAROUND SUGESTED BY AB - NEEDS TO BE TESTED AGAINST A TRUNK BUILD\n",
            "\n",
            "----------------------\n",
            "THIS AUTOMATIC NOTIFICATION MESSAGE WAS SENT BY SAKAI COLLAB (HTTPS://COLLAB.SAKAIPROJECT.ORG/PORTAL) FROM THE SOURCE SITE.\n",
            "YOU CAN MODIFY HOW YOU RECEIVE NOTIFICATIONS AT MY WORKSPACE > PREFERENCES.\n",
            "\n",
            "\n",
            "\n",
            "FROM DAVID.HORWITZ@UCT.AC.ZA FRI JAN  4 04:49:08 2008\n",
            "RETURN-PATH: <POSTMASTER@COLLAB.SAKAIPROJECT.ORG>\n",
            "RECEIVED: FROM MURDER (MAIL.UMICH.EDU [141.211.14.92])\n",
            "\t BY FRANKENSTEIN.MAIL.UMICH.EDU (CYRUS V2.3.8) WITH LMTPA;\n",
            "\t FRI, 04 JAN 2008 04:49:08 -0500\n",
            "X-SIEVE: CMU SIEVE 2.3\n",
            "RECEIVED: FROM MURDER ([UNIX SOCKET])\n",
            "\t BY MAIL.UMICH.EDU (CYRUS V2.2.12) WITH LMTPA;\n",
            "\t FRI, 04 JAN 2008 04:49:08 -0500\n",
            "RECEIVED: FROM GALAXYQUEST.MR.ITD.UMICH.EDU (GALAXYQUEST.MR.ITD.UMICH.EDU [141.211.93.145])\n",
            "\tBY SCORE.MAIL.UMICH.EDU () WITH ESMTP ID M049N60G017588;\n",
            "\tFRI, 4 JAN 2008 04:49:06 -0500\n",
            "RECEIVED: FROM PAPLOO.UHI.AC.UK (APP1.PROD.COLLAB.UHI.AC.UK [194.35.219.184])\n",
            "\tBY GALAXYQUEST.MR.ITD.UMICH.EDU ID 477E010C.48C2.10259 ;\n",
            "\t 4 JAN 2008 04:49:03 -0500\n",
            "RECEIVED: FROM PAPLOO.UHI.AC.UK (LOCALHOST [127.0.0.1])\n",
            "\tBY PAPLOO.UHI.AC.UK (POSTFIX) WITH ESMTP ID 254CC8CDEE;\n",
            "\tFRI,  4 JAN 2008 09:48:55 +0000 (GMT)\n",
            "MESSAGE-ID: <200801040947.M049LUXO006517@NAKAMURA.UITS.IUPUI.EDU>\n",
            "MIME-VERSION: 1.0\n",
            "CONTENT-TRANSFER-ENCODING: 7BIT\n",
            "RECEIVED: FROM PROD.COLLAB.UHI.AC.UK ([194.35.219.182])\n",
            "          BY PAPLOO.UHI.AC.UK (JAMES SMTP SERVER 2.1.3) WITH SMTP ID 246\n",
            "          FOR <SOURCE@COLLAB.SAKAIPROJECT.ORG>;\n",
            "          FRI, 4 JAN 2008 09:48:36 +0000 (GMT)\n",
            "RECEIVED: FROM NAKAMURA.UITS.IUPUI.EDU (NAKAMURA.UITS.IUPUI.EDU [134.68.220.122])\n",
            "\tBY SHMI.UHI.AC.UK (POSTFIX) WITH ESMTP ID 8C13342C92\n",
            "\tFOR <SOURCE@COLLAB.SAKAIPROJECT.ORG>; FRI,  4 JAN 2008 09:48:40 +0000 (GMT)\n",
            "RECEIVED: FROM NAKAMURA.UITS.IUPUI.EDU (LOCALHOST [127.0.0.1])\n",
            "\tBY NAKAMURA.UITS.IUPUI.EDU (8.12.11.20060308/8.12.11) WITH ESMTP ID M049LU3P006519\n",
            "\tFOR <SOURCE@COLLAB.SAKAIPROJECT.ORG>; FRI, 4 JAN 2008 04:47:30 -0500\n",
            "RECEIVED: (FROM APACHE@LOCALHOST)\n",
            "\tBY NAKAMURA.UITS.IUPUI.EDU (8.12.11.20060308/8.12.11/SUBMIT) ID M049LUXO006517\n",
            "\tFOR SOURCE@COLLAB.SAKAIPROJECT.ORG; FRI, 4 JAN 2008 04:47:30 -0500\n",
            "DATE: FRI, 4 JAN 2008 04:47:30 -0500\n",
            "X-AUTHENTICATION-WARNING: NAKAMURA.UITS.IUPUI.EDU: APACHE SET SENDER TO DAVID.HORWITZ@UCT.AC.ZA USING -F\n",
            "TO: SOURCE@COLLAB.SAKAIPROJECT.ORG\n",
            "FROM: DAVID.HORWITZ@UCT.AC.ZA\n",
            "SUBJECT: [SAKAI] SVN COMMIT: R39752 - IN PODCASTS/BRANCHES/SAKAI_2-5-X/PODCASTS-APP/SRC/WEBAPP: CSS PODCASTS\n",
            "X-CONTENT-TYPE-OUTER-ENVELOPE: TEXT/PLAIN; CHARSET=UTF-8\n",
            "X-CONTENT-TYPE-MESSAGE-BODY: TEXT/PLAIN; CHARSET=UTF-8\n",
            "CONTENT-TYPE: TEXT/PLAIN; CHARSET=UTF-8\n",
            "X-DSPAM-RESULT: INNOCENT\n",
            "X-DSPAM-PROCESSED: FRI JAN  4 04:49:08 2008\n",
            "X-DSPAM-CONFIDENCE: 0.6528\n",
            "X-DSPAM-PROBABILITY: 0.0000\n",
            "\n",
            "DETAILS: HTTP://SOURCE.SAKAIPROJECT.ORG/VIEWSVN/?VIEW=REV&REV=39752\n",
            "\n",
            "AUTHOR: DAVID.HORWITZ@UCT.AC.ZA\n",
            "DATE: 2008-01-04 04:47:16 -0500 (FRI, 04 JAN 2008)\n",
            "NEW REVISION: 39752\n",
            "\n",
            "MODIFIED:\n",
            "PODCASTS/BRANCHES/SAKAI_2-5-X/PODCASTS-APP/SRC/WEBAPP/CSS/PODCASTER.CSS\n",
            "PODCASTS/BRANCHES/SAKAI_2-5-X/PODCASTS-APP/SRC/WEBAPP/PODCASTS/PODMAIN.JSP\n",
            "LOG:\n",
            "SVN LOG -R39641 HTTPS://SOURCE.SAKAIPROJECT.ORG/SVN/PODCASTS/TRUNK\n",
            "------------------------------------------------------------------------\n",
            "R39641 | JOSRODRI@IUPUI.EDU | 2007-12-28 23:44:24 +0200 (FRI, 28 DEC 2007) | 1 LINE\n",
            "\n",
            "SAK-9882: REFACTORED PODMAIN.JSP THE RIGHT WAY (AT LEAST MUCH CLOSER TO)\n",
            "------------------------------------------------------------------------\n",
            "\n",
            "DHORWITZ@DAVID-HORWITZ-6:~/BRANCHMANAGEMNT/SAKAI_2-5-X> SVN MERGE  -C39641 HTTPS://SOURCE.SAKAIPROJECT.ORG/SVN/PODCASTS/TRUNK PODCASTS/\n",
            "C    PODCASTS/PODCASTS-APP/SRC/WEBAPP/PODCASTS/PODMAIN.JSP\n",
            "U    PODCASTS/PODCASTS-APP/SRC/WEBAPP/CSS/PODCASTER.CSS\n",
            "\n",
            "CONFLICT MERGED MANUALY\n",
            "\n",
            "\n",
            "\n",
            "----------------------\n",
            "THIS AUTOMATIC NOTIFICATION MESSAGE WAS SENT BY SAKAI COLLAB (HTTPS://COLLAB.SAKAIPROJECT.ORG/PORTAL) FROM THE SOURCE SITE.\n",
            "YOU CAN MODIFY HOW YOU RECEIVE NOTIFICATIONS AT MY WORKSPACE > PREFERENCES.\n",
            "\n",
            "\n",
            "\n",
            "FROM DAVID.HORWITZ@UCT.AC.ZA FRI JAN  4 04:33:44 2008\n",
            "RETURN-PATH: <POSTMASTER@COLLAB.SAKAIPROJECT.ORG>\n",
            "RECEIVED: FROM MURDER (MAIL.UMICH.EDU [141.211.14.46])\n",
            "\t BY FRANKENSTEIN.MAIL.UMICH.EDU (CYRUS V2.3.8) WITH LMTPA;\n",
            "\t FRI, 04 JAN 2008 04:33:44 -0500\n",
            "X-SIEVE: CMU SIEVE 2.3\n",
            "RECEIVED: FROM MURDER ([UNIX SOCKET])\n",
            "\t BY MAIL.UMICH.EDU (CYRUS V2.2.12) WITH LMTPA;\n",
            "\t FRI, 04 JAN 2008 04:33:44 -0500\n",
            "RECEIVED: FROM WORKINGGIRL.MR.ITD.UMICH.EDU (WORKINGGIRL.MR.ITD.UMICH.EDU [141.211.93.143])\n",
            "\tBY FAN.MAIL.UMICH.EDU () WITH ESMTP ID M049XGE3031803;\n",
            "\tFRI, 4 JAN 2008 04:33:42 -0500\n",
            "RECEIVED: FROM PAPLOO.UHI.AC.UK (APP1.PROD.COLLAB.UHI.AC.UK [194.35.219.184])\n",
            "\tBY WORKINGGIRL.MR.ITD.UMICH.EDU ID 477DFD6C.75DBE.26054 ;\n",
            "\t 4 JAN 2008 04:33:35 -0500\n",
            "RECEIVED: FROM PAPLOO.UHI.AC.UK (LOCALHOST [127.0.0.1])\n",
            "\tBY PAPLOO.UHI.AC.UK (POSTFIX) WITH ESMTP ID 6C929BA656;\n",
            "\tFRI,  4 JAN 2008 09:33:27 +0000 (GMT)\n",
            "MESSAGE-ID: <200801040932.M049W2I5006493@NAKAMURA.UITS.IUPUI.EDU>\n",
            "MIME-VERSION: 1.0\n",
            "CONTENT-TRANSFER-ENCODING: 7BIT\n",
            "RECEIVED: FROM PROD.COLLAB.UHI.AC.UK ([194.35.219.182])\n",
            "          BY PAPLOO.UHI.AC.UK (JAMES SMTP SERVER 2.1.3) WITH SMTP ID 153\n",
            "          FOR <SOURCE@COLLAB.SAKAIPROJECT.ORG>;\n",
            "          FRI, 4 JAN 2008 09:33:10 +0000 (GMT)\n",
            "RECEIVED: FROM NAKAMURA.UITS.IUPUI.EDU (NAKAMURA.UITS.IUPUI.EDU [134.68.220.122])\n",
            "\tBY SHMI.UHI.AC.UK (POSTFIX) WITH ESMTP ID 6C69423767\n",
            "\tFOR <SOURCE@COLLAB.SAKAIPROJECT.ORG>; FRI,  4 JAN 2008 09:33:13 +0000 (GMT)\n",
            "RECEIVED: FROM NAKAMURA.UITS.IUPUI.EDU (LOCALHOST [127.0.0.1])\n",
            "\tBY NAKAMURA.UITS.IUPUI.EDU (8.12.11.20060308/8.12.11) WITH ESMTP ID M049W3FL006495\n",
            "\tFOR <SOURCE@COLLAB.SAKAIPROJECT.ORG>; FRI, 4 JAN 2008 04:32:03 -0500\n",
            "RECEIVED: (FROM APACHE@LOCALHOST)\n",
            "\tBY NAKAMURA.UITS.IUPUI.EDU (8.12.11.20060308/8.12.11/SUBMIT) ID M049W2I5006493\n",
            "\tFOR SOURCE@COLLAB.SAKAIPROJECT.ORG; FRI, 4 JAN 2008 04:32:02 -0500\n",
            "DATE: FRI, 4 JAN 2008 04:32:02 -0500\n",
            "X-AUTHENTICATION-WARNING: NAKAMURA.UITS.IUPUI.EDU: APACHE SET SENDER TO DAVID.HORWITZ@UCT.AC.ZA USING -F\n",
            "TO: SOURCE@COLLAB.SAKAIPROJECT.ORG\n",
            "FROM: DAVID.HORWITZ@UCT.AC.ZA\n",
            "SUBJECT: [SAKAI] SVN COMMIT: R39751 - IN PODCASTS/BRANCHES/SAKAI_2-5-X/PODCASTS-APP/SRC/WEBAPP: CSS IMAGES PODCASTS\n",
            "X-CONTENT-TYPE-OUTER-ENVELOPE: TEXT/PLAIN; CHARSET=UTF-8\n",
            "X-CONTENT-TYPE-MESSAGE-BODY: TEXT/PLAIN; CHARSET=UTF-8\n",
            "CONTENT-TYPE: TEXT/PLAIN; CHARSET=UTF-8\n",
            "X-DSPAM-RESULT: INNOCENT\n",
            "X-DSPAM-PROCESSED: FRI JAN  4 04:33:44 2008\n",
            "X-DSPAM-CONFIDENCE: 0.7002\n",
            "X-DSPAM-PROBABILITY: 0.0000\n",
            "\n",
            "DETAILS: HTTP://SOURCE.SAKAIPROJECT.ORG/VIEWSVN/?VIEW=REV&REV=39751\n",
            "\n",
            "AUTHOR: DAVID.HORWITZ@UCT.AC.ZA\n",
            "DATE: 2008-01-04 04:31:35 -0500 (FRI, 04 JAN 2008)\n",
            "NEW REVISION: 39751\n",
            "\n",
            "REMOVED:\n",
            "PODCASTS/BRANCHES/SAKAI_2-5-X/PODCASTS-APP/SRC/WEBAPP/IMAGES/RSS-FEED-ICON.PNG\n",
            "PODCASTS/BRANCHES/SAKAI_2-5-X/PODCASTS-APP/SRC/WEBAPP/PODCASTS/PODPERMISSIONS.JSP\n",
            "MODIFIED:\n",
            "PODCASTS/BRANCHES/SAKAI_2-5-X/PODCASTS-APP/SRC/WEBAPP/CSS/PODCASTER.CSS\n",
            "PODCASTS/BRANCHES/SAKAI_2-5-X/PODCASTS-APP/SRC/WEBAPP/PODCASTS/PODDELETE.JSP\n",
            "PODCASTS/BRANCHES/SAKAI_2-5-X/PODCASTS-APP/SRC/WEBAPP/PODCASTS/PODMAIN.JSP\n",
            "PODCASTS/BRANCHES/SAKAI_2-5-X/PODCASTS-APP/SRC/WEBAPP/PODCASTS/PODNORESOURCE.JSP\n",
            "PODCASTS/BRANCHES/SAKAI_2-5-X/PODCASTS-APP/SRC/WEBAPP/PODCASTS/PODOPTIONS.JSP\n",
            "LOG:\n",
            "SVN LOG -R39146 HTTPS://SOURCE.SAKAIPROJECT.ORG/SVN/PODCASTS/TRUNK\n",
            "------------------------------------------------------------------------\n",
            "R39146 | JOSRODRI@IUPUI.EDU | 2007-12-12 21:40:33 +0200 (WED, 12 DEC 2007) | 1 LINE\n",
            "\n",
            "SAK-9882: REFACTORED THE OTHER PAGES AS WELL TO TAKE ADVANTAGE OF PROPER JSP COMPONENTS AS WELL AS VALIDATION CLEANUP.\n",
            "------------------------------------------------------------------------\n",
            "DHORWITZ@DAVID-HORWITZ-6:~/BRANCHMANAGEMNT/SAKAI_2-5-X> SVN MERGE -C39146 HTTPS://SOURCE.SAKAIPROJECT.ORG/SVN/PODCASTS/TRUNK PODCASTS/\n",
            "D    PODCASTS/PODCASTS-APP/SRC/WEBAPP/PODCASTS/PODPERMISSIONS.JSP\n",
            "U    PODCASTS/PODCASTS-APP/SRC/WEBAPP/PODCASTS/PODDELETE.JSP\n",
            "U    PODCASTS/PODCASTS-APP/SRC/WEBAPP/PODCASTS/PODMAIN.JSP\n",
            "U    PODCASTS/PODCASTS-APP/SRC/WEBAPP/PODCASTS/PODNORESOURCE.JSP\n",
            "U    PODCASTS/PODCASTS-APP/SRC/WEBAPP/PODCASTS/PODOPTIONS.JSP\n",
            "D    PODCASTS/PODCASTS-APP/SRC/WEBAPP/IMAGES/RSS-FEED-ICON.PNG\n",
            "U    PODCASTS/PODCASTS-APP/SRC/WEBAPP/CSS/PODCASTER.CSS\n",
            "\n",
            "\n",
            "\n",
            "----------------------\n",
            "THIS AUTOMATIC NOTIFICATION MESSAGE WAS SENT BY SAKAI COLLAB (HTTPS://COLLAB.SAKAIPROJECT.ORG/PORTAL) FROM THE SOURCE SITE.\n",
            "YOU CAN MODIFY HOW YOU RECEIVE NOTIFICATIONS AT MY WORKSPACE > PREFERENCES.\n",
            "\n",
            "\n",
            "\n",
            "FROM STEPHEN.MARQUARD@UCT.AC.ZA FRI JAN  4 04:07:34 2008\n",
            "RETURN-PATH: <POSTMASTER@COLLAB.SAKAIPROJECT.ORG>\n",
            "RECEIVED: FROM MURDER (MAIL.UMICH.EDU [141.211.14.25])\n",
            "\t BY FRANKENSTEIN.MAIL.UMICH.EDU (CYRUS V2.3.8) WITH LMTPA;\n",
            "\t FRI, 04 JAN 2008 04:07:34 -0500\n",
            "X-SIEVE: CMU SIEVE 2.3\n",
            "RECEIVED: FROM MURDER ([UNIX SOCKET])\n",
            "\t BY MAIL.UMICH.EDU (CYRUS V2.2.12) WITH LMTPA;\n",
            "\t FRI, 04 JAN 2008 04:07:34 -0500\n",
            "RECEIVED: FROM SALEMSLOT.MR.ITD.UMICH.EDU (SALEMSLOT.MR.ITD.UMICH.EDU [141.211.14.58])\n",
            "\tBY PANTHER.MAIL.UMICH.EDU () WITH ESMTP ID M0497WAN027902;\n",
            "\tFRI, 4 JAN 2008 04:07:32 -0500\n",
            "RECEIVED: FROM PAPLOO.UHI.AC.UK (APP1.PROD.COLLAB.UHI.AC.UK [194.35.219.184])\n",
            "\tBY SALEMSLOT.MR.ITD.UMICH.EDU ID 477DF74E.49493.30415 ;\n",
            "\t 4 JAN 2008 04:07:29 -0500\n",
            "RECEIVED: FROM PAPLOO.UHI.AC.UK (LOCALHOST [127.0.0.1])\n",
            "\tBY PAPLOO.UHI.AC.UK (POSTFIX) WITH ESMTP ID 88598BA5B6;\n",
            "\tFRI,  4 JAN 2008 09:07:19 +0000 (GMT)\n",
            "MESSAGE-ID: <200801040905.M0495RWB006420@NAKAMURA.UITS.IUPUI.EDU>\n",
            "MIME-VERSION: 1.0\n",
            "CONTENT-TRANSFER-ENCODING: 7BIT\n",
            "RECEIVED: FROM PROD.COLLAB.UHI.AC.UK ([194.35.219.182])\n",
            "          BY PAPLOO.UHI.AC.UK (JAMES SMTP SERVER 2.1.3) WITH SMTP ID 385\n",
            "          FOR <SOURCE@COLLAB.SAKAIPROJECT.ORG>;\n",
            "          FRI, 4 JAN 2008 09:07:04 +0000 (GMT)\n",
            "RECEIVED: FROM NAKAMURA.UITS.IUPUI.EDU (NAKAMURA.UITS.IUPUI.EDU [134.68.220.122])\n",
            "\tBY SHMI.UHI.AC.UK (POSTFIX) WITH ESMTP ID 90636418A8\n",
            "\tFOR <SOURCE@COLLAB.SAKAIPROJECT.ORG>; FRI,  4 JAN 2008 09:07:04 +0000 (GMT)\n",
            "RECEIVED: FROM NAKAMURA.UITS.IUPUI.EDU (LOCALHOST [127.0.0.1])\n",
            "\tBY NAKAMURA.UITS.IUPUI.EDU (8.12.11.20060308/8.12.11) WITH ESMTP ID M0495SZS006422\n",
            "\tFOR <SOURCE@COLLAB.SAKAIPROJECT.ORG>; FRI, 4 JAN 2008 04:05:54 -0500\n",
            "RECEIVED: (FROM APACHE@LOCALHOST)\n",
            "\tBY NAKAMURA.UITS.IUPUI.EDU (8.12.11.20060308/8.12.11/SUBMIT) ID M0495RWB006420\n",
            "\tFOR SOURCE@COLLAB.SAKAIPROJECT.ORG; FRI, 4 JAN 2008 04:05:53 -0500\n",
            "DATE: FRI, 4 JAN 2008 04:05:53 -0500\n",
            "X-AUTHENTICATION-WARNING: NAKAMURA.UITS.IUPUI.EDU: APACHE SET SENDER TO STEPHEN.MARQUARD@UCT.AC.ZA USING -F\n",
            "TO: SOURCE@COLLAB.SAKAIPROJECT.ORG\n",
            "FROM: STEPHEN.MARQUARD@UCT.AC.ZA\n",
            "SUBJECT: [SAKAI] SVN COMMIT: R39750 - EVENT/BRANCHES/SAK-6216/EVENT-UTIL/UTIL/SRC/JAVA/ORG/SAKAIPROJECT/UTIL\n",
            "X-CONTENT-TYPE-OUTER-ENVELOPE: TEXT/PLAIN; CHARSET=UTF-8\n",
            "X-CONTENT-TYPE-MESSAGE-BODY: TEXT/PLAIN; CHARSET=UTF-8\n",
            "CONTENT-TYPE: TEXT/PLAIN; CHARSET=UTF-8\n",
            "X-DSPAM-RESULT: INNOCENT\n",
            "X-DSPAM-PROCESSED: FRI JAN  4 04:07:34 2008\n",
            "X-DSPAM-CONFIDENCE: 0.7554\n",
            "X-DSPAM-PROBABILITY: 0.0000\n",
            "\n",
            "DETAILS: HTTP://SOURCE.SAKAIPROJECT.ORG/VIEWSVN/?VIEW=REV&REV=39750\n",
            "\n",
            "AUTHOR: STEPHEN.MARQUARD@UCT.AC.ZA\n",
            "DATE: 2008-01-04 04:05:43 -0500 (FRI, 04 JAN 2008)\n",
            "NEW REVISION: 39750\n",
            "\n",
            "MODIFIED:\n",
            "EVENT/BRANCHES/SAK-6216/EVENT-UTIL/UTIL/SRC/JAVA/ORG/SAKAIPROJECT/UTIL/EMAILNOTIFICATION.JAVA\n",
            "LOG:\n",
            "SAK-6216 MERGE EVENT CHANGE FROM SAK-11169 (R39033) TO SYNCHRONIZE BRANCH WITH 2-5-X (FOR CONVENIENCE FOR UCT LOCAL BUILD)\n",
            "\n",
            "----------------------\n",
            "THIS AUTOMATIC NOTIFICATION MESSAGE WAS SENT BY SAKAI COLLAB (HTTPS://COLLAB.SAKAIPROJECT.ORG/PORTAL) FROM THE SOURCE SITE.\n",
            "YOU CAN MODIFY HOW YOU RECEIVE NOTIFICATIONS AT MY WORKSPACE > PREFERENCES.\n",
            "\n",
            "\n",
            "\n",
            "FROM LOUIS@MEDIA.BERKELEY.EDU THU JAN  3 19:51:21 2008\n",
            "RETURN-PATH: <POSTMASTER@COLLAB.SAKAIPROJECT.ORG>\n",
            "RECEIVED: FROM MURDER (MAIL.UMICH.EDU [141.211.14.91])\n",
            "\t BY FRANKENSTEIN.MAIL.UMICH.EDU (CYRUS V2.3.8) WITH LMTPA;\n",
            "\t THU, 03 JAN 2008 19:51:21 -0500\n",
            "X-SIEVE: CMU SIEVE 2.3\n",
            "RECEIVED: FROM MURDER ([UNIX SOCKET])\n",
            "\t BY MAIL.UMICH.EDU (CYRUS V2.2.12) WITH LMTPA;\n",
            "\t THU, 03 JAN 2008 19:51:21 -0500\n",
            "RECEIVED: FROM EYEWITNESS.MR.ITD.UMICH.EDU (EYEWITNESS.MR.ITD.UMICH.EDU [141.211.93.142])\n",
            "\tBY JACKNIFE.MAIL.UMICH.EDU () WITH ESMTP ID M040PJHB027171;\n",
            "\tTHU, 3 JAN 2008 19:51:19 -0500\n",
            "RECEIVED: FROM PAPLOO.UHI.AC.UK (APP1.PROD.COLLAB.UHI.AC.UK [194.35.219.184])\n",
            "\tBY EYEWITNESS.MR.ITD.UMICH.EDU ID 477D8300.AC098.32562 ;\n",
            "\t 3 JAN 2008 19:51:15 -0500\n",
            "RECEIVED: FROM PAPLOO.UHI.AC.UK (LOCALHOST [127.0.0.1])\n",
            "\tBY PAPLOO.UHI.AC.UK (POSTFIX) WITH ESMTP ID E6CC4B9F8A;\n",
            "\tFRI,  4 JAN 2008 00:36:06 +0000 (GMT)\n",
            "MESSAGE-ID: <200801040023.M040NPCC005473@NAKAMURA.UITS.IUPUI.EDU>\n",
            "MIME-VERSION: 1.0\n",
            "CONTENT-TRANSFER-ENCODING: 7BIT\n",
            "RECEIVED: FROM PROD.COLLAB.UHI.AC.UK ([194.35.219.182])\n",
            "          BY PAPLOO.UHI.AC.UK (JAMES SMTP SERVER 2.1.3) WITH SMTP ID 754\n",
            "          FOR <SOURCE@COLLAB.SAKAIPROJECT.ORG>;\n",
            "          FRI, 4 JAN 2008 00:35:43 +0000 (GMT)\n",
            "RECEIVED: FROM NAKAMURA.UITS.IUPUI.EDU (NAKAMURA.UITS.IUPUI.EDU [134.68.220.122])\n",
            "\tBY SHMI.UHI.AC.UK (POSTFIX) WITH ESMTP ID 8889842C49\n",
            "\tFOR <SOURCE@COLLAB.SAKAIPROJECT.ORG>; FRI,  4 JAN 2008 00:25:00 +0000 (GMT)\n",
            "RECEIVED: FROM NAKAMURA.UITS.IUPUI.EDU (LOCALHOST [127.0.0.1])\n",
            "\tBY NAKAMURA.UITS.IUPUI.EDU (8.12.11.20060308/8.12.11) WITH ESMTP ID M040NPGM005475\n",
            "\tFOR <SOURCE@COLLAB.SAKAIPROJECT.ORG>; THU, 3 JAN 2008 19:23:51 -0500\n",
            "RECEIVED: (FROM APACHE@LOCALHOST)\n",
            "\tBY NAKAMURA.UITS.IUPUI.EDU (8.12.11.20060308/8.12.11/SUBMIT) ID M040NPCC005473\n",
            "\tFOR SOURCE@COLLAB.SAKAIPROJECT.ORG; THU, 3 JAN 2008 19:23:51 -0500\n",
            "DATE: THU, 3 JAN 2008 19:23:51 -0500\n",
            "X-AUTHENTICATION-WARNING: NAKAMURA.UITS.IUPUI.EDU: APACHE SET SENDER TO LOUIS@MEDIA.BERKELEY.EDU USING -F\n",
            "TO: SOURCE@COLLAB.SAKAIPROJECT.ORG\n",
            "FROM: LOUIS@MEDIA.BERKELEY.EDU\n",
            "SUBJECT: [SAKAI] SVN COMMIT: R39749 - IN BSPACE/SITE-MANAGE/SAKAI_2-4-X/SITE-MANAGE-TOOL/TOOL/SRC: BUNDLE WEBAPP/VM/SITESETUP\n",
            "X-CONTENT-TYPE-OUTER-ENVELOPE: TEXT/PLAIN; CHARSET=UTF-8\n",
            "X-CONTENT-TYPE-MESSAGE-BODY: TEXT/PLAIN; CHARSET=UTF-8\n",
            "CONTENT-TYPE: TEXT/PLAIN; CHARSET=UTF-8\n",
            "X-DSPAM-RESULT: INNOCENT\n",
            "X-DSPAM-PROCESSED: THU JAN  3 19:51:20 2008\n",
            "X-DSPAM-CONFIDENCE: 0.6956\n",
            "X-DSPAM-PROBABILITY: 0.0000\n",
            "\n",
            "DETAILS: HTTP://SOURCE.SAKAIPROJECT.ORG/VIEWSVN/?VIEW=REV&REV=39749\n",
            "\n",
            "AUTHOR: LOUIS@MEDIA.BERKELEY.EDU\n",
            "DATE: 2008-01-03 19:23:46 -0500 (THU, 03 JAN 2008)\n",
            "NEW REVISION: 39749\n",
            "\n",
            "MODIFIED:\n",
            "BSPACE/SITE-MANAGE/SAKAI_2-4-X/SITE-MANAGE-TOOL/TOOL/SRC/BUNDLE/SITESETUPGENERIC.PROPERTIES\n",
            "BSPACE/SITE-MANAGE/SAKAI_2-4-X/SITE-MANAGE-TOOL/TOOL/SRC/WEBAPP/VM/SITESETUP/CHEF_SITE-IMPORTSITES.VM\n",
            "LOG:\n",
            "BSP-1420 UPDATE TEXT TO CLARIFY \"RE-USE MATERIALS...\" OPTION IN WS SETUP\n",
            "\n",
            "----------------------\n",
            "THIS AUTOMATIC NOTIFICATION MESSAGE WAS SENT BY SAKAI COLLAB (HTTPS://COLLAB.SAKAIPROJECT.ORG/PORTAL) FROM THE SOURCE SITE.\n",
            "YOU CAN MODIFY HOW YOU RECEIVE NOTIFICATIONS AT MY WORKSPACE > PREFERENCES.\n",
            "\n",
            "\n",
            "\n",
            "FROM LOUIS@MEDIA.BERKELEY.EDU THU JAN  3 17:18:23 2008\n",
            "RETURN-PATH: <POSTMASTER@COLLAB.SAKAIPROJECT.ORG>\n",
            "RECEIVED: FROM MURDER (MAIL.UMICH.EDU [141.211.14.91])\n",
            "\t BY FRANKENSTEIN.MAIL.UMICH.EDU (CYRUS V2.3.8) WITH LMTPA;\n",
            "\t THU, 03 JAN 2008 17:18:23 -0500\n",
            "X-SIEVE: CMU SIEVE 2.3\n",
            "RECEIVED: FROM MURDER ([UNIX SOCKET])\n",
            "\t BY MAIL.UMICH.EDU (CYRUS V2.2.12) WITH LMTPA;\n",
            "\t THU, 03 JAN 2008 17:18:23 -0500\n",
            "RECEIVED: FROM SALEMSLOT.MR.ITD.UMICH.EDU (SALEMSLOT.MR.ITD.UMICH.EDU [141.211.14.58])\n",
            "\tBY JACKNIFE.MAIL.UMICH.EDU () WITH ESMTP ID M03MIMXY027729;\n",
            "\tTHU, 3 JAN 2008 17:18:22 -0500\n",
            "RECEIVED: FROM PAPLOO.UHI.AC.UK (APP1.PROD.COLLAB.UHI.AC.UK [194.35.219.184])\n",
            "\tBY SALEMSLOT.MR.ITD.UMICH.EDU ID 477D5F23.797F6.16348 ;\n",
            "\t 3 JAN 2008 17:18:14 -0500\n",
            "RECEIVED: FROM PAPLOO.UHI.AC.UK (LOCALHOST [127.0.0.1])\n",
            "\tBY PAPLOO.UHI.AC.UK (POSTFIX) WITH ESMTP ID EF439B98CE;\n",
            "\tTHU,  3 JAN 2008 22:18:19 +0000 (GMT)\n",
            "MESSAGE-ID: <200801032216.M03MGHDA005292@NAKAMURA.UITS.IUPUI.EDU>\n",
            "MIME-VERSION: 1.0\n",
            "CONTENT-TRANSFER-ENCODING: 7BIT\n",
            "RECEIVED: FROM PROD.COLLAB.UHI.AC.UK ([194.35.219.182])\n",
            "          BY PAPLOO.UHI.AC.UK (JAMES SMTP SERVER 2.1.3) WITH SMTP ID 236\n",
            "          FOR <SOURCE@COLLAB.SAKAIPROJECT.ORG>;\n",
            "          THU, 3 JAN 2008 22:18:04 +0000 (GMT)\n",
            "RECEIVED: FROM NAKAMURA.UITS.IUPUI.EDU (NAKAMURA.UITS.IUPUI.EDU [134.68.220.122])\n",
            "\tBY SHMI.UHI.AC.UK (POSTFIX) WITH ESMTP ID 905D53C2FD\n",
            "\tFOR <SOURCE@COLLAB.SAKAIPROJECT.ORG>; THU,  3 JAN 2008 22:17:52 +0000 (GMT)\n",
            "RECEIVED: FROM NAKAMURA.UITS.IUPUI.EDU (LOCALHOST [127.0.0.1])\n",
            "\tBY NAKAMURA.UITS.IUPUI.EDU (8.12.11.20060308/8.12.11) WITH ESMTP ID M03MGHRS005294\n",
            "\tFOR <SOURCE@COLLAB.SAKAIPROJECT.ORG>; THU, 3 JAN 2008 17:16:43 -0500\n",
            "RECEIVED: (FROM APACHE@LOCALHOST)\n",
            "\tBY NAKAMURA.UITS.IUPUI.EDU (8.12.11.20060308/8.12.11/SUBMIT) ID M03MGHDA005292\n",
            "\tFOR SOURCE@COLLAB.SAKAIPROJECT.ORG; THU, 3 JAN 2008 17:16:43 -0500\n",
            "DATE: THU, 3 JAN 2008 17:16:43 -0500\n",
            "X-AUTHENTICATION-WARNING: NAKAMURA.UITS.IUPUI.EDU: APACHE SET SENDER TO LOUIS@MEDIA.BERKELEY.EDU USING -F\n",
            "TO: SOURCE@COLLAB.SAKAIPROJECT.ORG\n",
            "FROM: LOUIS@MEDIA.BERKELEY.EDU\n",
            "SUBJECT: [SAKAI] SVN COMMIT: R39746 - IN BSPACE/SITE-MANAGE/SAKAI_2-4-X/SITE-MANAGE-TOOL/TOOL/SRC: BUNDLE WEBAPP/VM/SITESETUP\n",
            "X-CONTENT-TYPE-OUTER-ENVELOPE: TEXT/PLAIN; CHARSET=UTF-8\n",
            "X-CONTENT-TYPE-MESSAGE-BODY: TEXT/PLAIN; CHARSET=UTF-8\n",
            "CONTENT-TYPE: TEXT/PLAIN; CHARSET=UTF-8\n",
            "X-DSPAM-RESULT: INNOCENT\n",
            "X-DSPAM-PROCESSED: THU JAN  3 17:18:23 2008\n",
            "X-DSPAM-CONFIDENCE: 0.6959\n",
            "X-DSPAM-PROBABILITY: 0.0000\n",
            "\n",
            "DETAILS: HTTP://SOURCE.SAKAIPROJECT.ORG/VIEWSVN/?VIEW=REV&REV=39746\n",
            "\n",
            "AUTHOR: LOUIS@MEDIA.BERKELEY.EDU\n",
            "DATE: 2008-01-03 17:16:39 -0500 (THU, 03 JAN 2008)\n",
            "NEW REVISION: 39746\n",
            "\n",
            "MODIFIED:\n",
            "BSPACE/SITE-MANAGE/SAKAI_2-4-X/SITE-MANAGE-TOOL/TOOL/SRC/BUNDLE/SITESETUPGENERIC.PROPERTIES\n",
            "BSPACE/SITE-MANAGE/SAKAI_2-4-X/SITE-MANAGE-TOOL/TOOL/SRC/WEBAPP/VM/SITESETUP/CHEF_SITE-SITEINFO-DUPLICATE.VM\n",
            "LOG:\n",
            "BSP-1421 ADD TEXT TO CLARIFY \"DUPLICATE SITE\" OPTION IN SITE INFO\n",
            "\n",
            "----------------------\n",
            "THIS AUTOMATIC NOTIFICATION MESSAGE WAS SENT BY SAKAI COLLAB (HTTPS://COLLAB.SAKAIPROJECT.ORG/PORTAL) FROM THE SOURCE SITE.\n",
            "YOU CAN MODIFY HOW YOU RECEIVE NOTIFICATIONS AT MY WORKSPACE > PREFERENCES.\n",
            "\n",
            "\n",
            "\n",
            "FROM RAY@MEDIA.BERKELEY.EDU THU JAN  3 17:07:00 2008\n",
            "RETURN-PATH: <POSTMASTER@COLLAB.SAKAIPROJECT.ORG>\n",
            "RECEIVED: FROM MURDER (MAIL.UMICH.EDU [141.211.14.39])\n",
            "\t BY FRANKENSTEIN.MAIL.UMICH.EDU (CYRUS V2.3.8) WITH LMTPA;\n",
            "\t THU, 03 JAN 2008 17:07:00 -0500\n",
            "X-SIEVE: CMU SIEVE 2.3\n",
            "RECEIVED: FROM MURDER ([UNIX SOCKET])\n",
            "\t BY MAIL.UMICH.EDU (CYRUS V2.2.12) WITH LMTPA;\n",
            "\t THU, 03 JAN 2008 17:07:00 -0500\n",
            "RECEIVED: FROM ANNIEHALL.MR.ITD.UMICH.EDU (ANNIEHALL.MR.ITD.UMICH.EDU [141.211.93.141])\n",
            "\tBY FAITHFUL.MAIL.UMICH.EDU () WITH ESMTP ID M03M6XAQ014868;\n",
            "\tTHU, 3 JAN 2008 17:06:59 -0500\n",
            "RECEIVED: FROM PAPLOO.UHI.AC.UK (APP1.PROD.COLLAB.UHI.AC.UK [194.35.219.184])\n",
            "\tBY ANNIEHALL.MR.ITD.UMICH.EDU ID 477D5C7A.4FE1F.22211 ;\n",
            "\t 3 JAN 2008 17:06:53 -0500\n",
            "RECEIVED: FROM PAPLOO.UHI.AC.UK (LOCALHOST [127.0.0.1])\n",
            "\tBY PAPLOO.UHI.AC.UK (POSTFIX) WITH ESMTP ID 0BC8D7225E;\n",
            "\tTHU,  3 JAN 2008 22:06:57 +0000 (GMT)\n",
            "MESSAGE-ID: <200801032205.M03M5EA7005273@NAKAMURA.UITS.IUPUI.EDU>\n",
            "MIME-VERSION: 1.0\n",
            "CONTENT-TRANSFER-ENCODING: 7BIT\n",
            "RECEIVED: FROM PROD.COLLAB.UHI.AC.UK ([194.35.219.182])\n",
            "          BY PAPLOO.UHI.AC.UK (JAMES SMTP SERVER 2.1.3) WITH SMTP ID 554\n",
            "          FOR <SOURCE@COLLAB.SAKAIPROJECT.ORG>;\n",
            "          THU, 3 JAN 2008 22:06:34 +0000 (GMT)\n",
            "RECEIVED: FROM NAKAMURA.UITS.IUPUI.EDU (NAKAMURA.UITS.IUPUI.EDU [134.68.220.122])\n",
            "\tBY SHMI.UHI.AC.UK (POSTFIX) WITH ESMTP ID 2AB513C2FD\n",
            "\tFOR <SOURCE@COLLAB.SAKAIPROJECT.ORG>; THU,  3 JAN 2008 22:06:23 +0000 (GMT)\n",
            "RECEIVED: FROM NAKAMURA.UITS.IUPUI.EDU (LOCALHOST [127.0.0.1])\n",
            "\tBY NAKAMURA.UITS.IUPUI.EDU (8.12.11.20060308/8.12.11) WITH ESMTP ID M03M5EQA005275\n",
            "\tFOR <SOURCE@COLLAB.SAKAIPROJECT.ORG>; THU, 3 JAN 2008 17:05:14 -0500\n",
            "RECEIVED: (FROM APACHE@LOCALHOST)\n",
            "\tBY NAKAMURA.UITS.IUPUI.EDU (8.12.11.20060308/8.12.11/SUBMIT) ID M03M5EA7005273\n",
            "\tFOR SOURCE@COLLAB.SAKAIPROJECT.ORG; THU, 3 JAN 2008 17:05:14 -0500\n",
            "DATE: THU, 3 JAN 2008 17:05:14 -0500\n",
            "X-AUTHENTICATION-WARNING: NAKAMURA.UITS.IUPUI.EDU: APACHE SET SENDER TO RAY@MEDIA.BERKELEY.EDU USING -F\n",
            "TO: SOURCE@COLLAB.SAKAIPROJECT.ORG\n",
            "FROM: RAY@MEDIA.BERKELEY.EDU\n",
            "SUBJECT: [SAKAI] SVN COMMIT: R39745 - PROVIDERS/TRUNK/CM/CM-AUTHZ-PROVIDER/SRC/JAVA/ORG/SAKAIPROJECT/COURSEMANAGEMENT/IMPL/PROVIDER\n",
            "X-CONTENT-TYPE-OUTER-ENVELOPE: TEXT/PLAIN; CHARSET=UTF-8\n",
            "X-CONTENT-TYPE-MESSAGE-BODY: TEXT/PLAIN; CHARSET=UTF-8\n",
            "CONTENT-TYPE: TEXT/PLAIN; CHARSET=UTF-8\n",
            "X-DSPAM-RESULT: INNOCENT\n",
            "X-DSPAM-PROCESSED: THU JAN  3 17:07:00 2008\n",
            "X-DSPAM-CONFIDENCE: 0.7556\n",
            "X-DSPAM-PROBABILITY: 0.0000\n",
            "\n",
            "DETAILS: HTTP://SOURCE.SAKAIPROJECT.ORG/VIEWSVN/?VIEW=REV&REV=39745\n",
            "\n",
            "AUTHOR: RAY@MEDIA.BERKELEY.EDU\n",
            "DATE: 2008-01-03 17:05:11 -0500 (THU, 03 JAN 2008)\n",
            "NEW REVISION: 39745\n",
            "\n",
            "MODIFIED:\n",
            "PROVIDERS/TRUNK/CM/CM-AUTHZ-PROVIDER/SRC/JAVA/ORG/SAKAIPROJECT/COURSEMANAGEMENT/IMPL/PROVIDER/COURSEMANAGEMENTGROUPPROVIDER.JAVA\n",
            "LOG:\n",
            "SAK-12602 FIX LOGIC WHEN A USER HAS MULTIPLE ROLES IN A SECTION\n",
            "\n",
            "----------------------\n",
            "THIS AUTOMATIC NOTIFICATION MESSAGE WAS SENT BY SAKAI COLLAB (HTTPS://COLLAB.SAKAIPROJECT.ORG/PORTAL) FROM THE SOURCE SITE.\n",
            "YOU CAN MODIFY HOW YOU RECEIVE NOTIFICATIONS AT MY WORKSPACE > PREFERENCES.\n",
            "\n",
            "\n",
            "\n",
            "FROM CWEN@IUPUI.EDU THU JAN  3 16:34:40 2008\n",
            "RETURN-PATH: <POSTMASTER@COLLAB.SAKAIPROJECT.ORG>\n",
            "RECEIVED: FROM MURDER (MAIL.UMICH.EDU [141.211.14.34])\n",
            "\t BY FRANKENSTEIN.MAIL.UMICH.EDU (CYRUS V2.3.8) WITH LMTPA;\n",
            "\t THU, 03 JAN 2008 16:34:40 -0500\n",
            "X-SIEVE: CMU SIEVE 2.3\n",
            "RECEIVED: FROM MURDER ([UNIX SOCKET])\n",
            "\t BY MAIL.UMICH.EDU (CYRUS V2.2.12) WITH LMTPA;\n",
            "\t THU, 03 JAN 2008 16:34:40 -0500\n",
            "RECEIVED: FROM ICESTORM.MR.ITD.UMICH.EDU (ICESTORM.MR.ITD.UMICH.EDU [141.211.93.149])\n",
            "\tBY CHAOS.MAIL.UMICH.EDU () WITH ESMTP ID M03LYDY1029538;\n",
            "\tTHU, 3 JAN 2008 16:34:39 -0500\n",
            "RECEIVED: FROM PAPLOO.UHI.AC.UK (APP1.PROD.COLLAB.UHI.AC.UK [194.35.219.184])\n",
            "\tBY ICESTORM.MR.ITD.UMICH.EDU ID 477D54EA.13F34.26602 ;\n",
            "\t 3 JAN 2008 16:34:36 -0500\n",
            "RECEIVED: FROM PAPLOO.UHI.AC.UK (LOCALHOST [127.0.0.1])\n",
            "\tBY PAPLOO.UHI.AC.UK (POSTFIX) WITH ESMTP ID CC710ADC79;\n",
            "\tTHU,  3 JAN 2008 21:34:29 +0000 (GMT)\n",
            "MESSAGE-ID: <200801032133.M03LX3GG005191@NAKAMURA.UITS.IUPUI.EDU>\n",
            "MIME-VERSION: 1.0\n",
            "CONTENT-TRANSFER-ENCODING: 7BIT\n",
            "RECEIVED: FROM PROD.COLLAB.UHI.AC.UK ([194.35.219.182])\n",
            "          BY PAPLOO.UHI.AC.UK (JAMES SMTP SERVER 2.1.3) WITH SMTP ID 611\n",
            "          FOR <SOURCE@COLLAB.SAKAIPROJECT.ORG>;\n",
            "          THU, 3 JAN 2008 21:34:08 +0000 (GMT)\n",
            "RECEIVED: FROM NAKAMURA.UITS.IUPUI.EDU (NAKAMURA.UITS.IUPUI.EDU [134.68.220.122])\n",
            "\tBY SHMI.UHI.AC.UK (POSTFIX) WITH ESMTP ID 43C4242B55\n",
            "\tFOR <SOURCE@COLLAB.SAKAIPROJECT.ORG>; THU,  3 JAN 2008 21:34:12 +0000 (GMT)\n",
            "RECEIVED: FROM NAKAMURA.UITS.IUPUI.EDU (LOCALHOST [127.0.0.1])\n",
            "\tBY NAKAMURA.UITS.IUPUI.EDU (8.12.11.20060308/8.12.11) WITH ESMTP ID M03LX3VB005193\n",
            "\tFOR <SOURCE@COLLAB.SAKAIPROJECT.ORG>; THU, 3 JAN 2008 16:33:03 -0500\n",
            "RECEIVED: (FROM APACHE@LOCALHOST)\n",
            "\tBY NAKAMURA.UITS.IUPUI.EDU (8.12.11.20060308/8.12.11/SUBMIT) ID M03LX3GG005191\n",
            "\tFOR SOURCE@COLLAB.SAKAIPROJECT.ORG; THU, 3 JAN 2008 16:33:03 -0500\n",
            "DATE: THU, 3 JAN 2008 16:33:03 -0500\n",
            "X-AUTHENTICATION-WARNING: NAKAMURA.UITS.IUPUI.EDU: APACHE SET SENDER TO CWEN@IUPUI.EDU USING -F\n",
            "TO: SOURCE@COLLAB.SAKAIPROJECT.ORG\n",
            "FROM: CWEN@IUPUI.EDU\n",
            "SUBJECT: [SAKAI] SVN COMMIT: R39744 - ONCOURSE/BRANCHES/ONCOURSE_OPC_122007\n",
            "X-CONTENT-TYPE-OUTER-ENVELOPE: TEXT/PLAIN; CHARSET=UTF-8\n",
            "X-CONTENT-TYPE-MESSAGE-BODY: TEXT/PLAIN; CHARSET=UTF-8\n",
            "CONTENT-TYPE: TEXT/PLAIN; CHARSET=UTF-8\n",
            "X-DSPAM-RESULT: INNOCENT\n",
            "X-DSPAM-PROCESSED: THU JAN  3 16:34:40 2008\n",
            "X-DSPAM-CONFIDENCE: 0.9846\n",
            "X-DSPAM-PROBABILITY: 0.0000\n",
            "\n",
            "DETAILS: HTTP://SOURCE.SAKAIPROJECT.ORG/VIEWSVN/?VIEW=REV&REV=39744\n",
            "\n",
            "AUTHOR: CWEN@IUPUI.EDU\n",
            "DATE: 2008-01-03 16:33:02 -0500 (THU, 03 JAN 2008)\n",
            "NEW REVISION: 39744\n",
            "\n",
            "MODIFIED:\n",
            "ONCOURSE/BRANCHES/ONCOURSE_OPC_122007/\n",
            "ONCOURSE/BRANCHES/ONCOURSE_OPC_122007/.EXTERNALS\n",
            "LOG:\n",
            "UPDATE EXTERNAL FOR GB.\n",
            "\n",
            "----------------------\n",
            "THIS AUTOMATIC NOTIFICATION MESSAGE WAS SENT BY SAKAI COLLAB (HTTPS://COLLAB.SAKAIPROJECT.ORG/PORTAL) FROM THE SOURCE SITE.\n",
            "YOU CAN MODIFY HOW YOU RECEIVE NOTIFICATIONS AT MY WORKSPACE > PREFERENCES.\n",
            "\n",
            "\n",
            "\n",
            "FROM CWEN@IUPUI.EDU THU JAN  3 16:29:07 2008\n",
            "RETURN-PATH: <POSTMASTER@COLLAB.SAKAIPROJECT.ORG>\n",
            "RECEIVED: FROM MURDER (MAIL.UMICH.EDU [141.211.14.46])\n",
            "\t BY FRANKENSTEIN.MAIL.UMICH.EDU (CYRUS V2.3.8) WITH LMTPA;\n",
            "\t THU, 03 JAN 2008 16:29:07 -0500\n",
            "X-SIEVE: CMU SIEVE 2.3\n",
            "RECEIVED: FROM MURDER ([UNIX SOCKET])\n",
            "\t BY MAIL.UMICH.EDU (CYRUS V2.2.12) WITH LMTPA;\n",
            "\t THU, 03 JAN 2008 16:29:07 -0500\n",
            "RECEIVED: FROM GALAXYQUEST.MR.ITD.UMICH.EDU (GALAXYQUEST.MR.ITD.UMICH.EDU [141.211.93.145])\n",
            "\tBY FAN.MAIL.UMICH.EDU () WITH ESMTP ID M03LT6UW027749;\n",
            "\tTHU, 3 JAN 2008 16:29:06 -0500\n",
            "RECEIVED: FROM PAPLOO.UHI.AC.UK (APP1.PROD.COLLAB.UHI.AC.UK [194.35.219.184])\n",
            "\tBY GALAXYQUEST.MR.ITD.UMICH.EDU ID 477D5397.E161D.20326 ;\n",
            "\t 3 JAN 2008 16:28:58 -0500\n",
            "RECEIVED: FROM PAPLOO.UHI.AC.UK (LOCALHOST [127.0.0.1])\n",
            "\tBY PAPLOO.UHI.AC.UK (POSTFIX) WITH ESMTP ID DEC65ADC79;\n",
            "\tTHU,  3 JAN 2008 21:28:52 +0000 (GMT)\n",
            "MESSAGE-ID: <200801032127.M03LRUQH005177@NAKAMURA.UITS.IUPUI.EDU>\n",
            "MIME-VERSION: 1.0\n",
            "CONTENT-TRANSFER-ENCODING: 7BIT\n",
            "RECEIVED: FROM PROD.COLLAB.UHI.AC.UK ([194.35.219.182])\n",
            "          BY PAPLOO.UHI.AC.UK (JAMES SMTP SERVER 2.1.3) WITH SMTP ID 917\n",
            "          FOR <SOURCE@COLLAB.SAKAIPROJECT.ORG>;\n",
            "          THU, 3 JAN 2008 21:28:39 +0000 (GMT)\n",
            "RECEIVED: FROM NAKAMURA.UITS.IUPUI.EDU (NAKAMURA.UITS.IUPUI.EDU [134.68.220.122])\n",
            "\tBY SHMI.UHI.AC.UK (POSTFIX) WITH ESMTP ID 1FBB042B30\n",
            "\tFOR <SOURCE@COLLAB.SAKAIPROJECT.ORG>; THU,  3 JAN 2008 21:28:38 +0000 (GMT)\n",
            "RECEIVED: FROM NAKAMURA.UITS.IUPUI.EDU (LOCALHOST [127.0.0.1])\n",
            "\tBY NAKAMURA.UITS.IUPUI.EDU (8.12.11.20060308/8.12.11) WITH ESMTP ID M03LRUK4005179\n",
            "\tFOR <SOURCE@COLLAB.SAKAIPROJECT.ORG>; THU, 3 JAN 2008 16:27:30 -0500\n",
            "RECEIVED: (FROM APACHE@LOCALHOST)\n",
            "\tBY NAKAMURA.UITS.IUPUI.EDU (8.12.11.20060308/8.12.11/SUBMIT) ID M03LRUQH005177\n",
            "\tFOR SOURCE@COLLAB.SAKAIPROJECT.ORG; THU, 3 JAN 2008 16:27:30 -0500\n",
            "DATE: THU, 3 JAN 2008 16:27:30 -0500\n",
            "X-AUTHENTICATION-WARNING: NAKAMURA.UITS.IUPUI.EDU: APACHE SET SENDER TO CWEN@IUPUI.EDU USING -F\n",
            "TO: SOURCE@COLLAB.SAKAIPROJECT.ORG\n",
            "FROM: CWEN@IUPUI.EDU\n",
            "SUBJECT: [SAKAI] SVN COMMIT: R39743 - GRADEBOOK/BRANCHES/ONCOURSE_2-4-2/APP/UI/SRC/JAVA/ORG/SAKAIPROJECT/TOOL/GRADEBOOK/UI\n",
            "X-CONTENT-TYPE-OUTER-ENVELOPE: TEXT/PLAIN; CHARSET=UTF-8\n",
            "X-CONTENT-TYPE-MESSAGE-BODY: TEXT/PLAIN; CHARSET=UTF-8\n",
            "CONTENT-TYPE: TEXT/PLAIN; CHARSET=UTF-8\n",
            "X-DSPAM-RESULT: INNOCENT\n",
            "X-DSPAM-PROCESSED: THU JAN  3 16:29:07 2008\n",
            "X-DSPAM-CONFIDENCE: 0.8509\n",
            "X-DSPAM-PROBABILITY: 0.0000\n",
            "\n",
            "DETAILS: HTTP://SOURCE.SAKAIPROJECT.ORG/VIEWSVN/?VIEW=REV&REV=39743\n",
            "\n",
            "AUTHOR: CWEN@IUPUI.EDU\n",
            "DATE: 2008-01-03 16:27:29 -0500 (THU, 03 JAN 2008)\n",
            "NEW REVISION: 39743\n",
            "\n",
            "MODIFIED:\n",
            "GRADEBOOK/BRANCHES/ONCOURSE_2-4-2/APP/UI/SRC/JAVA/ORG/SAKAIPROJECT/TOOL/GRADEBOOK/UI/ROSTERBEAN.JAVA\n",
            "LOG:\n",
            "SVN MERGE -C 39403 HTTPS://SOURCE.SAKAIPROJECT.ORG/SVN/GRADEBOOK/TRUNK\n",
            "U    APP/UI/SRC/JAVA/ORG/SAKAIPROJECT/TOOL/GRADEBOOK/UI/ROSTERBEAN.JAVA\n",
            "\n",
            "SVN LOG -R 39403 HTTPS://SOURCE.SAKAIPROJECT.ORG/SVN/GRADEBOOK/TRUNK\n",
            "------------------------------------------------------------------------\n",
            "R39403 | WAGNERMR@IUPUI.EDU | 2007-12-17 17:11:08 -0500 (MON, 17 DEC 2007) | 3 LINES\n",
            "\n",
            "SAK-12504\n",
            "HTTP://JIRA.SAKAIPROJECT.ORG/JIRA/BROWSE/SAK-12504\n",
            "VIEWING \"ALL GRADES\" PAGE AS A TA WITH GRADER PERMISSIONS CAUSES STACK TRACE\n",
            "------------------------------------------------------------------------\n",
            "\n",
            "\n",
            "----------------------\n",
            "THIS AUTOMATIC NOTIFICATION MESSAGE WAS SENT BY SAKAI COLLAB (HTTPS://COLLAB.SAKAIPROJECT.ORG/PORTAL) FROM THE SOURCE SITE.\n",
            "YOU CAN MODIFY HOW YOU RECEIVE NOTIFICATIONS AT MY WORKSPACE > PREFERENCES.\n",
            "\n",
            "\n",
            "\n",
            "FROM CWEN@IUPUI.EDU THU JAN  3 16:23:48 2008\n",
            "RETURN-PATH: <POSTMASTER@COLLAB.SAKAIPROJECT.ORG>\n",
            "RECEIVED: FROM MURDER (MAIL.UMICH.EDU [141.211.14.91])\n",
            "\t BY FRANKENSTEIN.MAIL.UMICH.EDU (CYRUS V2.3.8) WITH LMTPA;\n",
            "\t THU, 03 JAN 2008 16:23:48 -0500\n",
            "X-SIEVE: CMU SIEVE 2.3\n",
            "RECEIVED: FROM MURDER ([UNIX SOCKET])\n",
            "\t BY MAIL.UMICH.EDU (CYRUS V2.2.12) WITH LMTPA;\n",
            "\t THU, 03 JAN 2008 16:23:48 -0500\n",
            "RECEIVED: FROM SALEMSLOT.MR.ITD.UMICH.EDU (SALEMSLOT.MR.ITD.UMICH.EDU [141.211.14.58])\n",
            "\tBY JACKNIFE.MAIL.UMICH.EDU () WITH ESMTP ID M03LNLF0002115;\n",
            "\tTHU, 3 JAN 2008 16:23:47 -0500\n",
            "RECEIVED: FROM PAPLOO.UHI.AC.UK (APP1.PROD.COLLAB.UHI.AC.UK [194.35.219.184])\n",
            "\tBY SALEMSLOT.MR.ITD.UMICH.EDU ID 477D525E.1448.30389 ;\n",
            "\t 3 JAN 2008 16:23:44 -0500\n",
            "RECEIVED: FROM PAPLOO.UHI.AC.UK (LOCALHOST [127.0.0.1])\n",
            "\tBY PAPLOO.UHI.AC.UK (POSTFIX) WITH ESMTP ID 9D005B9D06;\n",
            "\tTHU,  3 JAN 2008 21:23:38 +0000 (GMT)\n",
            "MESSAGE-ID: <200801032122.M03LMFO4005148@NAKAMURA.UITS.IUPUI.EDU>\n",
            "MIME-VERSION: 1.0\n",
            "CONTENT-TRANSFER-ENCODING: 7BIT\n",
            "RECEIVED: FROM PROD.COLLAB.UHI.AC.UK ([194.35.219.182])\n",
            "          BY PAPLOO.UHI.AC.UK (JAMES SMTP SERVER 2.1.3) WITH SMTP ID 6\n",
            "          FOR <SOURCE@COLLAB.SAKAIPROJECT.ORG>;\n",
            "          THU, 3 JAN 2008 21:23:24 +0000 (GMT)\n",
            "RECEIVED: FROM NAKAMURA.UITS.IUPUI.EDU (NAKAMURA.UITS.IUPUI.EDU [134.68.220.122])\n",
            "\tBY SHMI.UHI.AC.UK (POSTFIX) WITH ESMTP ID 3535542B69\n",
            "\tFOR <SOURCE@COLLAB.SAKAIPROJECT.ORG>; THU,  3 JAN 2008 21:23:24 +0000 (GMT)\n",
            "RECEIVED: FROM NAKAMURA.UITS.IUPUI.EDU (LOCALHOST [127.0.0.1])\n",
            "\tBY NAKAMURA.UITS.IUPUI.EDU (8.12.11.20060308/8.12.11) WITH ESMTP ID M03LMFTT005150\n",
            "\tFOR <SOURCE@COLLAB.SAKAIPROJECT.ORG>; THU, 3 JAN 2008 16:22:15 -0500\n",
            "RECEIVED: (FROM APACHE@LOCALHOST)\n",
            "\tBY NAKAMURA.UITS.IUPUI.EDU (8.12.11.20060308/8.12.11/SUBMIT) ID M03LMFO4005148\n",
            "\tFOR SOURCE@COLLAB.SAKAIPROJECT.ORG; THU, 3 JAN 2008 16:22:15 -0500\n",
            "DATE: THU, 3 JAN 2008 16:22:15 -0500\n",
            "X-AUTHENTICATION-WARNING: NAKAMURA.UITS.IUPUI.EDU: APACHE SET SENDER TO CWEN@IUPUI.EDU USING -F\n",
            "TO: SOURCE@COLLAB.SAKAIPROJECT.ORG\n",
            "FROM: CWEN@IUPUI.EDU\n",
            "SUBJECT: [SAKAI] SVN COMMIT: R39742 - GRADEBOOK/BRANCHES/ONCOURSE_2-4-2/APP/UI/SRC/JAVA/ORG/SAKAIPROJECT/TOOL/GRADEBOOK/UI\n",
            "X-CONTENT-TYPE-OUTER-ENVELOPE: TEXT/PLAIN; CHARSET=UTF-8\n",
            "X-CONTENT-TYPE-MESSAGE-BODY: TEXT/PLAIN; CHARSET=UTF-8\n",
            "CONTENT-TYPE: TEXT/PLAIN; CHARSET=UTF-8\n",
            "X-DSPAM-RESULT: INNOCENT\n",
            "X-DSPAM-PROCESSED: THU JAN  3 16:23:48 2008\n",
            "X-DSPAM-CONFIDENCE: 0.9907\n",
            "X-DSPAM-PROBABILITY: 0.0000\n",
            "\n",
            "DETAILS: HTTP://SOURCE.SAKAIPROJECT.ORG/VIEWSVN/?VIEW=REV&REV=39742\n",
            "\n",
            "AUTHOR: CWEN@IUPUI.EDU\n",
            "DATE: 2008-01-03 16:22:14 -0500 (THU, 03 JAN 2008)\n",
            "NEW REVISION: 39742\n",
            "\n",
            "MODIFIED:\n",
            "GRADEBOOK/BRANCHES/ONCOURSE_2-4-2/APP/UI/SRC/JAVA/ORG/SAKAIPROJECT/TOOL/GRADEBOOK/UI/ROSTERBEAN.JAVA\n",
            "LOG:\n",
            "SVN MERGE -C 35014 HTTPS://SOURCE.SAKAIPROJECT.ORG/SVN/GRADEBOOK/TRUNK\n",
            "U    APP/UI/SRC/JAVA/ORG/SAKAIPROJECT/TOOL/GRADEBOOK/UI/ROSTERBEAN.JAVA\n",
            "\n",
            "SVN LOG -R 35014 HTTPS://SOURCE.SAKAIPROJECT.ORG/SVN/GRADEBOOK/TRUNK\n",
            "------------------------------------------------------------------------\n",
            "R35014 | WAGNERMR@IUPUI.EDU | 2007-09-12 16:17:59 -0400 (WED, 12 SEP 2007) | 3 LINES\n",
            "\n",
            "SAK-11458\n",
            "HTTP://BUGS.SAKAIPROJECT.ORG/JIRA/BROWSE/SAK-11458\n",
            "COURSE GRADE DOES NOT APPEAR ON \"ALL GRADES\" PAGE IF NO CATEGORIES IN GB\n",
            "------------------------------------------------------------------------\n",
            "\n",
            "\n",
            "----------------------\n",
            "THIS AUTOMATIC NOTIFICATION MESSAGE WAS SENT BY SAKAI COLLAB (HTTPS://COLLAB.SAKAIPROJECT.ORG/PORTAL) FROM THE SOURCE SITE.\n",
            "YOU CAN MODIFY HOW YOU RECEIVE NOTIFICATIONS AT MY WORKSPACE > PREFERENCES.\n",
            "\n"
          ]
        }
      ]
    },
    {
      "cell_type": "markdown",
      "source": [
        "# Lists\n",
        "## Programming\n",
        "* Algorithms - A set of rules or steps used to solve a problem\n",
        "* Data Structures - A particular way of organizing data in a computer\n",
        "\n",
        "## What is Not A Collection?\n",
        "* Most of our variables have one value in them - when we put a new value in the variable, the old value is overwritten\n"
      ],
      "metadata": {
        "id": "Ru-p8CLkErS2"
      }
    },
    {
      "cell_type": "code",
      "source": [
        "x = 2\n",
        "x = 4\n",
        "print(x)"
      ],
      "metadata": {
        "colab": {
          "base_uri": "https://localhost:8080/"
        },
        "id": "3vgSXrCKF73a",
        "outputId": "a72bb062-a81a-437c-f104-a2bc4506a55a"
      },
      "execution_count": 1,
      "outputs": [
        {
          "output_type": "stream",
          "name": "stdout",
          "text": [
            "4\n"
          ]
        }
      ]
    },
    {
      "cell_type": "markdown",
      "source": [
        "## A list is a kind of Collection\n",
        "* A collection allows us to put many values in a single \"variable\"\n",
        "* A collection is nice because we can carry many values around in one convenient package.\n",
        "\n",
        "```\n",
        "friends = ['Joseph', 'Gleen', 'Sally']\n",
        "carryon = ['socks', 'shirt', 'perfume']\n",
        "```\n",
        "\n"
      ],
      "metadata": {
        "id": "tvky4xAsGJdx"
      }
    },
    {
      "cell_type": "markdown",
      "source": [
        "# List Constants\n",
        "* List constants are surrounded by square brackets and the elements in the list are seperated by commas\n",
        "* A list element can be any Python object - even another list\n",
        "* A list can be empty"
      ],
      "metadata": {
        "id": "hnNEtmoXHv0c"
      }
    },
    {
      "cell_type": "code",
      "source": [
        "print([1, 24, 76])\n",
        "print(['red', 'yellow', 'blue'])\n",
        "print(['red', 24, 98.6])\n",
        "print([1, [5, 6], 7])\n",
        "print([])"
      ],
      "metadata": {
        "colab": {
          "base_uri": "https://localhost:8080/"
        },
        "id": "_2kj7WvwISjM",
        "outputId": "c13139bb-ba2f-4325-d7ae-d0f09417d154"
      },
      "execution_count": 8,
      "outputs": [
        {
          "output_type": "stream",
          "name": "stdout",
          "text": [
            "[1, 24, 76]\n",
            "['red', 'yellow', 'blue']\n",
            "['red', 24, 98.6]\n",
            "[1, [5, 6], 7]\n",
            "[]\n"
          ]
        }
      ]
    },
    {
      "cell_type": "code",
      "source": [
        "# Lists and Definite Loops - Best Pals\n",
        "\n",
        "friends = ['Joseph', 'Gleen', 'Sally']\n",
        "for friend in friends:\n",
        "    print('Happy New Year:', friend)\n",
        "print('Done!')"
      ],
      "metadata": {
        "id": "bYgKc55DLPC2"
      },
      "execution_count": null,
      "outputs": []
    },
    {
      "cell_type": "markdown",
      "source": [
        "# Looking Inside Lists\n",
        "* Just like strings, we ca get at any single element in a list using an index specified in square brackets\n",
        "\n",
        "```\n",
        "|Joseph|Glenn|Sally|\n",
        "    0     1     2\n",
        "```\n",
        "\n"
      ],
      "metadata": {
        "id": "ycsgVq-eLsdH"
      }
    },
    {
      "cell_type": "code",
      "source": [
        "friends = ['Joseph', 'Glenn', 'Sally']\n",
        "print(friends[1])"
      ],
      "metadata": {
        "colab": {
          "base_uri": "https://localhost:8080/"
        },
        "id": "w0lycLpQMMfE",
        "outputId": "c6fcd30c-3321-4d24-8735-3fe4e7b65dd3"
      },
      "execution_count": 16,
      "outputs": [
        {
          "output_type": "stream",
          "name": "stdout",
          "text": [
            "Glenn\n"
          ]
        }
      ]
    },
    {
      "cell_type": "markdown",
      "source": [
        "# Lists Are Mutsble\n",
        "* Strings are \"mutable\" - we cannot change the contents of a string - we must make a new string to make any change\n",
        "* Lists are \"mutable\" - we can change an element of a list using the index operator"
      ],
      "metadata": {
        "id": "6OO1J1uENoFM"
      }
    },
    {
      "cell_type": "code",
      "source": [
        "fruit = 'Banana'\n",
        "#fruit[0] = 'b'\n",
        "\n",
        "x = fruit.lower()\n",
        "print(x)\n",
        "\n",
        "lotto = [2, 14, 26, 41, 63]\n",
        "print(lotto)\n",
        "lotto[2] = 28\n",
        "print(lotto)"
      ],
      "metadata": {
        "colab": {
          "base_uri": "https://localhost:8080/"
        },
        "id": "W7J34HIgOI7Q",
        "outputId": "f923076f-7117-4e6a-904e-4444f4cef9b4"
      },
      "execution_count": 20,
      "outputs": [
        {
          "output_type": "stream",
          "name": "stdout",
          "text": [
            "banana\n",
            "[2, 14, 26, 41, 63]\n",
            "[2, 14, 28, 41, 63]\n"
          ]
        }
      ]
    },
    {
      "cell_type": "markdown",
      "source": [
        "# How long is a List?\n",
        "* The len( ) function takes a list as a parameter and returns the number of elements in the list\n",
        "* Actually len( ) tells us the number of elements of any set or sequence (such as a string...)"
      ],
      "metadata": {
        "id": "QMePW2EwTr0T"
      }
    },
    {
      "cell_type": "code",
      "source": [
        "greet = 'Hello Bob'\n",
        "print(len(greet))\n",
        "\n",
        "x = [1, 2, 'joe', 99]\n",
        "print(len(x))"
      ],
      "metadata": {
        "colab": {
          "base_uri": "https://localhost:8080/"
        },
        "id": "Zt0cav-kUHOi",
        "outputId": "3a7b2131-04f6-4885-81f8-bdfad5609de9"
      },
      "execution_count": 21,
      "outputs": [
        {
          "output_type": "stream",
          "name": "stdout",
          "text": [
            "9\n",
            "4\n"
          ]
        }
      ]
    },
    {
      "cell_type": "markdown",
      "source": [
        "# Using the Range Function\n",
        "* The range function returns a list of numbers that range from zero to one less than the parameter\n",
        "* We can construct an index loop using 'for' and an integer iterator"
      ],
      "metadata": {
        "id": "GYEsH6JFXnIr"
      }
    },
    {
      "cell_type": "code",
      "source": [
        "print(list(range(4)))\n",
        "\n",
        "friends = ['Joseph', 'Glenn', 'Sally']\n",
        "print(len(friends))\n",
        "print(list(range(len(friends))))"
      ],
      "metadata": {
        "colab": {
          "base_uri": "https://localhost:8080/"
        },
        "id": "fqySKJnJX-eX",
        "outputId": "0be7434d-f93f-4b7c-82b8-e2dc90842831"
      },
      "execution_count": 28,
      "outputs": [
        {
          "output_type": "stream",
          "name": "stdout",
          "text": [
            "[0, 1, 2, 3]\n",
            "3\n",
            "[0, 1, 2]\n"
          ]
        }
      ]
    },
    {
      "cell_type": "code",
      "source": [
        "# A Tale of Two Loops...\n",
        "\n",
        "friends = ['Joseph', 'Glenn', 'Sally']\n",
        "for friend in friends:\n",
        "    print('Happy New Year:', friend)\n",
        "for i in range(len(friends)):\n",
        "    friend = friends[i]\n",
        "    print('Happy New Year:', friend)\n",
        "\n",
        "friends = ['Joseph','Glenn', 'Sally']\n",
        "print(len(friends))\n",
        "print(list(friends))\n",
        "print(range(len(friends)))\n",
        "print(list(range(len(friends))))"
      ],
      "metadata": {
        "colab": {
          "base_uri": "https://localhost:8080/"
        },
        "id": "eKM-hGf4aLkE",
        "outputId": "9e773666-0f51-4279-9198-aa4e39e9c6b0"
      },
      "execution_count": 5,
      "outputs": [
        {
          "output_type": "stream",
          "name": "stdout",
          "text": [
            "Happy New Year: Joseph\n",
            "Happy New Year: Glenn\n",
            "Happy New Year: Sally\n",
            "Happy New Year: Joseph\n",
            "Happy New Year: Glenn\n",
            "Happy New Year: Sally\n",
            "3\n",
            "['Joseph', 'Glenn', 'Sally']\n",
            "range(0, 3)\n",
            "[0, 1, 2]\n"
          ]
        }
      ]
    },
    {
      "cell_type": "markdown",
      "source": [
        "# Manipulating Lists\n",
        "## Concactenating Lists Using '+'\n",
        "* We can create a new list by adding two existing lists together"
      ],
      "metadata": {
        "id": "tnKact5G8X-y"
      }
    },
    {
      "cell_type": "code",
      "source": [
        "a = [1, 2, 3]\n",
        "b = [4, 5, 6]\n",
        "c = a + b\n",
        "print(c)\n",
        "print(a)"
      ],
      "metadata": {
        "colab": {
          "base_uri": "https://localhost:8080/"
        },
        "id": "w9JHVqxV8s5b",
        "outputId": "aa5e627e-2747-47c9-bb29-0917fa3266bb"
      },
      "execution_count": 1,
      "outputs": [
        {
          "output_type": "stream",
          "name": "stdout",
          "text": [
            "[1, 2, 3, 4, 5, 6]\n",
            "[1, 2, 3]\n"
          ]
        }
      ]
    },
    {
      "cell_type": "markdown",
      "source": [
        "# Lists Can Be Sliced Using ':'\n",
        "* Remember: just like in strings, the second number is \"up to but not including\""
      ],
      "metadata": {
        "id": "QiCDUGkJ8-gM"
      }
    },
    {
      "cell_type": "code",
      "source": [
        "t = [9, 41, 12, 3, 74, 15]\n",
        "x = t[1:3]\n",
        "print(x)\n",
        "y = t[:4]\n",
        "print(y)\n",
        "z = t[3:]\n",
        "print(z)\n",
        "t[:]"
      ],
      "metadata": {
        "colab": {
          "base_uri": "https://localhost:8080/"
        },
        "id": "S_HKF1ow9TVe",
        "outputId": "0603ab1b-87d4-4d12-9ab2-24a7c3faed37"
      },
      "execution_count": 5,
      "outputs": [
        {
          "output_type": "stream",
          "name": "stdout",
          "text": [
            "[41, 12]\n",
            "[9, 41, 12, 3]\n",
            "[3, 74, 15]\n"
          ]
        },
        {
          "output_type": "execute_result",
          "data": {
            "text/plain": [
              "[9, 41, 12, 3, 74, 15]"
            ]
          },
          "metadata": {},
          "execution_count": 5
        }
      ]
    },
    {
      "cell_type": "markdown",
      "source": [
        "\n",
        "# List Methods\n",
        "```\n",
        "x = list()\n",
        "type(x)\n",
        "<type 'list'>\n",
        "dir(x)\n",
        "['append', 'count', 'extend', 'index', 'insert', 'pop', 'romove', 'reverse', 'sort']\n",
        "```\n",
        "\n"
      ],
      "metadata": {
        "id": "0yFJWxYA-mJO"
      }
    },
    {
      "cell_type": "markdown",
      "source": [
        "# Building a List from Scratch\n",
        "* We can create an empty list and then add elements using the append method\n",
        "* The list stays in order and new elements are added at the end of the list"
      ],
      "metadata": {
        "id": "qvNKGeku_Mqp"
      }
    },
    {
      "cell_type": "code",
      "source": [
        "x = list()\n",
        "x.append('book')\n",
        "x.append(99)\n",
        "print(x)\n",
        "x.append('cookie')\n",
        "print(x)"
      ],
      "metadata": {
        "colab": {
          "base_uri": "https://localhost:8080/"
        },
        "id": "NLFt6Hrv_eeo",
        "outputId": "a0015245-7bd6-41c2-a301-c1c1144058e7"
      },
      "execution_count": 8,
      "outputs": [
        {
          "output_type": "stream",
          "name": "stdout",
          "text": [
            "['book', 99]\n",
            "['book', 99, 'cookie']\n"
          ]
        }
      ]
    },
    {
      "cell_type": "markdown",
      "source": [
        "# Is Something in a List\n",
        "* Python provides two operators that let you check if an item is in a list\n",
        "* These are logical operators that return 'True' or 'False'\n",
        "* They do not modify the list"
      ],
      "metadata": {
        "id": "ueDRDTZlAr-L"
      }
    },
    {
      "cell_type": "code",
      "source": [
        "some = [1, 9, 21, 10, 16]\n",
        "print(9 in some)\n",
        "print(15 in some)\n",
        "print(20 not in some)"
      ],
      "metadata": {
        "colab": {
          "base_uri": "https://localhost:8080/"
        },
        "id": "liNnJstoBCxp",
        "outputId": "458e682f-5074-4eb9-cf60-b72179b07371"
      },
      "execution_count": 10,
      "outputs": [
        {
          "output_type": "stream",
          "name": "stdout",
          "text": [
            "True\n",
            "False\n",
            "True\n"
          ]
        }
      ]
    },
    {
      "cell_type": "markdown",
      "source": [
        "# Lists are in Order\n",
        "* A list can hold many items and keeps those items in the order until we do something to change the order\n",
        "* A list can be sorted (i.e, change its order)\n",
        "* The sort method (unlike in strings) means \"sort yourself\""
      ],
      "metadata": {
        "id": "1NWylyWCBy4M"
      }
    },
    {
      "cell_type": "code",
      "source": [
        "friends = ['Joseph', 'Glenn', 'Sally']\n",
        "friends.sort()\n",
        "print(friends)\n",
        "print(friends[1])"
      ],
      "metadata": {
        "colab": {
          "base_uri": "https://localhost:8080/"
        },
        "id": "_92t4KkjCNei",
        "outputId": "9614c8d4-3155-4d1a-f0f9-c5805f537fd7"
      },
      "execution_count": 11,
      "outputs": [
        {
          "output_type": "stream",
          "name": "stdout",
          "text": [
            "['Glenn', 'Joseph', 'Sally']\n",
            "Joseph\n"
          ]
        }
      ]
    },
    {
      "cell_type": "markdown",
      "source": [
        "# Built-in Functions and Lists\n",
        "* There are a number of functions built into Python that takes lists as parameters\n",
        "* Remember the loops we built? These are much simpler"
      ],
      "metadata": {
        "id": "vD6ao0iJCgNh"
      }
    },
    {
      "cell_type": "code",
      "source": [
        "nums = [3, 41, 12, 9, 74, 15]\n",
        "print(len(nums))\n",
        "print(max(nums))\n",
        "print(min(nums))\n",
        "print(sum(nums))\n",
        "print(sum(nums)/len(nums))"
      ],
      "metadata": {
        "colab": {
          "base_uri": "https://localhost:8080/"
        },
        "id": "rMg3e94fC0Vu",
        "outputId": "2a9309b0-70b3-4c68-d7f9-8b173e5e17fa"
      },
      "execution_count": 12,
      "outputs": [
        {
          "output_type": "stream",
          "name": "stdout",
          "text": [
            "6\n",
            "74\n",
            "3\n",
            "154\n",
            "25.666666666666668\n"
          ]
        }
      ]
    },
    {
      "cell_type": "code",
      "source": [
        "# Example of how you might use these functions to calculate an average versus how we calculated an average in the earlier chapter.\n",
        "\n",
        "total = 0\n",
        "count = 0\n",
        "while True:\n",
        "    inp = input('Enter a number: ')\n",
        "    if inp == 'done': break\n",
        "    value = float(inp)\n",
        "    total = total + value\n",
        "    count = count + 1\n",
        "\n",
        "average = total / count\n",
        "print('Average:', average)"
      ],
      "metadata": {
        "colab": {
          "base_uri": "https://localhost:8080/"
        },
        "id": "kIIA1rr_DRUP",
        "outputId": "5a32deec-440e-4091-f6ac-5850ed415d6c"
      },
      "execution_count": 14,
      "outputs": [
        {
          "output_type": "stream",
          "name": "stdout",
          "text": [
            "Enter a number: 3\n",
            "Enter a number: 9\n",
            "Enter a number: 5\n",
            "Enter a number: done\n",
            "Average: 5.666666666666667\n"
          ]
        }
      ]
    },
    {
      "cell_type": "code",
      "source": [
        "numlist = list()\n",
        "while True:\n",
        "    inp = input('Enter a number: ')\n",
        "    if inp == 'done': break\n",
        "    value = float(inp)\n",
        "    numlist.append(value)\n",
        "average = sum(numlist) / len(numlist)\n",
        "print('Average:', average)\n",
        "\n",
        "# Has all the numbers in memory and great for handling a really wide range of numbers\n",
        "# If you already have the numbers in a list, you can add them using 'sum()' instead of a 'for' loop\n"
      ],
      "metadata": {
        "colab": {
          "base_uri": "https://localhost:8080/"
        },
        "id": "v2QLXaclEakH",
        "outputId": "33500edf-7d73-40de-8cd2-2860622c7520"
      },
      "execution_count": 15,
      "outputs": [
        {
          "output_type": "stream",
          "name": "stdout",
          "text": [
            "Enter a number: 3\n",
            "Enter a number: 9\n",
            "Enter a number: 5\n",
            "Enter a number: done\n",
            "Average: 5.666666666666667\n"
          ]
        }
      ]
    },
    {
      "cell_type": "markdown",
      "source": [
        "# How Strings and Lists work Together - Best Friends: Strings and Lists\n",
        "* Split breaks a string into parts and produces a list of strings. We think of these as words. We can access a particular word or loop through all the words.\n"
      ],
      "metadata": {
        "id": "8j5YYVwL7vaL"
      }
    },
    {
      "cell_type": "code",
      "source": [
        "abc = 'With three words'\n",
        "stuff = abc.split()\n",
        "print(stuff)\n",
        "print(len(stuff))\n",
        "print(stuff[0])\n",
        "\n",
        "print(stuff)\n",
        "for w in stuff:\n",
        "    print(w)"
      ],
      "metadata": {
        "colab": {
          "base_uri": "https://localhost:8080/"
        },
        "id": "tDBeGufz8iV2",
        "outputId": "f02d7a23-e97d-4e9a-a772-397d1e3d84bb"
      },
      "execution_count": 2,
      "outputs": [
        {
          "output_type": "stream",
          "name": "stdout",
          "text": [
            "['With', 'three', 'words']\n",
            "3\n",
            "With\n",
            "['With', 'three', 'words']\n",
            "With\n",
            "three\n",
            "words\n"
          ]
        }
      ]
    },
    {
      "cell_type": "markdown",
      "source": [
        "# A few subtle details about split( )\n",
        "* When you do not specify a delimiter, multiple spaces are treated like one delimiter\n",
        "* You can specify what delimiter character to use in the splitting"
      ],
      "metadata": {
        "id": "i0JkCic39Q-K"
      }
    },
    {
      "cell_type": "code",
      "source": [
        "line = 'A lot               of spaces'\n",
        "etc = line.split()\n",
        "print(etc)\n",
        "\n",
        "line = 'first;second;third'\n",
        "thing = line.split()\n",
        "print(thing)\n",
        "print(len(thing))\n",
        "\n",
        "thing = line.split(';')\n",
        "print(thing)\n",
        "print(len(thing))"
      ],
      "metadata": {
        "colab": {
          "base_uri": "https://localhost:8080/"
        },
        "id": "JO4Z4sQj9s2x",
        "outputId": "4b5b87d7-7329-4184-e5f8-2c3f31c75798"
      },
      "execution_count": 3,
      "outputs": [
        {
          "output_type": "stream",
          "name": "stdout",
          "text": [
            "['A', 'lot', 'of', 'spaces']\n",
            "['first;second;third']\n",
            "1\n",
            "['first', 'second', 'third']\n",
            "3\n"
          ]
        }
      ]
    },
    {
      "cell_type": "markdown",
      "source": [
        "\n",
        "```\n",
        "From stephen.marquard@uct.ac.za Sat Jan 5 09:14:16 2008\n",
        "\n",
        "fhand = open('mbox-short.txt')\n",
        "for line in fhand:\n",
        "    line = line.strip( )\n",
        "    if not line.startwith('From ') : continue\n",
        "    words = line.split()\n",
        "    print(words[2])\n",
        "```\n",
        "\n"
      ],
      "metadata": {
        "id": "yEz7hBh9KIwJ"
      }
    },
    {
      "cell_type": "code",
      "source": [
        "line = 'From stephen.marquard@uct.ac.za Sat Jan 5 09:14:16 2008'\n",
        "words = line.split()\n",
        "print(words)\n",
        "print(words[2])"
      ],
      "metadata": {
        "colab": {
          "base_uri": "https://localhost:8080/"
        },
        "id": "4x_wBYCxLWnD",
        "outputId": "96fa3b80-a017-4ccb-a2c7-58a43771d004"
      },
      "execution_count": 4,
      "outputs": [
        {
          "output_type": "stream",
          "name": "stdout",
          "text": [
            "['From', 'stephen.marquard@uct.ac.za', 'Sat', 'Jan', '5', '09:14:16', '2008']\n",
            "Sat\n"
          ]
        }
      ]
    },
    {
      "cell_type": "markdown",
      "source": [
        "# The Double Split Pattern\n",
        "* Sometimes we split a line one way, and then grab one of the pieces of the line and split that piece again"
      ],
      "metadata": {
        "id": "40dDFs0pL9lc"
      }
    },
    {
      "cell_type": "code",
      "source": [
        "# From stephen.marquard@uct.ac.za Sat Jan 5 09:14:16 2008\n",
        "\n",
        "words = line.split()\n",
        "print(words)\n",
        "email = words[1]\n",
        "print(email)\n",
        "pieces = email.split('@')\n",
        "print(pieces)\n",
        "print(pieces[0])\n",
        "print(pieces[1])"
      ],
      "metadata": {
        "colab": {
          "base_uri": "https://localhost:8080/"
        },
        "id": "eO6J17tGM9Rm",
        "outputId": "e52a04fa-c98d-47b5-f8a6-d0e88a609ea9"
      },
      "execution_count": 12,
      "outputs": [
        {
          "output_type": "stream",
          "name": "stdout",
          "text": [
            "['From', 'stephen.marquard@uct.ac.za', 'Sat', 'Jan', '5', '09:14:16', '2008']\n",
            "stephen.marquard@uct.ac.za\n",
            "['stephen.marquard', 'uct.ac.za']\n",
            "stephen.marquard\n",
            "uct.ac.za\n"
          ]
        }
      ]
    },
    {
      "cell_type": "code",
      "source": [
        "x = 'f', 'k', 'y', 't', 'o', 'x'\n",
        "print(list(range(3)))"
      ],
      "metadata": {
        "colab": {
          "base_uri": "https://localhost:8080/"
        },
        "id": "6ev3BTDIeOIk",
        "outputId": "9700057b-c83c-4a18-f16c-a0c41ad7ec5b"
      },
      "execution_count": 8,
      "outputs": [
        {
          "output_type": "stream",
          "name": "stdout",
          "text": [
            "[0, 1, 2]\n"
          ]
        }
      ]
    }
  ]
}