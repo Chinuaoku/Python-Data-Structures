{
  "nbformat": 4,
  "nbformat_minor": 0,
  "metadata": {
    "colab": {
      "provenance": [],
      "authorship_tag": "ABX9TyNbsL3aEFw6r0GoT1PXVIoy",
      "include_colab_link": true
    },
    "kernelspec": {
      "name": "python3",
      "display_name": "Python 3"
    },
    "language_info": {
      "name": "python"
    }
  },
  "cells": [
    {
      "cell_type": "markdown",
      "metadata": {
        "id": "view-in-github",
        "colab_type": "text"
      },
      "source": [
        "<a href=\"https://colab.research.google.com/github/Chinuaoku/Python-Data-Structures/blob/main/Python_Data_Structures.ipynb\" target=\"_parent\"><img src=\"https://colab.research.google.com/assets/colab-badge.svg\" alt=\"Open In Colab\"/></a>"
      ]
    },
    {
      "cell_type": "markdown",
      "source": [
        "# DATA STRUCTURES\n",
        "\n",
        "# String Data Type\n",
        "* A string is a sequence of characters\n",
        "* A string literally uses quotes 'Hello' or \"Hello\"\n",
        "* For strings, + means \"concatenate\"\n",
        "* When a string contains numbers, it is still a string\n",
        "* We can convert numbers in a string into a number using int()"
      ],
      "metadata": {
        "id": "VA89mput7WlB"
      }
    },
    {
      "cell_type": "code",
      "source": [
        "str1 = \"Hello \"\n",
        "str2 = 'there'\n",
        "bob = str1 + str2\n",
        "print(bob)\n",
        "\n",
        "str3 = '123'\n",
        "# str3 = str3 + 1 'you cannot add a string and an integer\n",
        "\n",
        "x = int(str3) + 1\n",
        "print(x)"
      ],
      "metadata": {
        "colab": {
          "base_uri": "https://localhost:8080/"
        },
        "id": "IFHBTj8v9QI3",
        "outputId": "ef70f2bf-6d86-473d-d94e-ee860f7a98b2"
      },
      "execution_count": 2,
      "outputs": [
        {
          "output_type": "stream",
          "name": "stdout",
          "text": [
            "Hello there\n",
            "124\n"
          ]
        }
      ]
    },
    {
      "cell_type": "markdown",
      "source": [
        "# Reading and Converting\n",
        "* We prefer to read data in python using strings and then parse and convert the data as we need\n",
        "* This gives us more control over error situations and /or bad user input\n",
        "* Input numbers must be converted from strings"
      ],
      "metadata": {
        "id": "JgixZDKB-QCU"
      }
    },
    {
      "cell_type": "code",
      "source": [
        "name = input('Enter your name: ')\n",
        "print(name)\n",
        "apple = input('write something: ')\n",
        "# x = apple - 10 this will rasie an error because you cannot subtract an integer from a string\n",
        "\n",
        "x = int(apple) - 10\n",
        "print(x)"
      ],
      "metadata": {
        "colab": {
          "base_uri": "https://localhost:8080/"
        },
        "id": "svCF_DrP-1om",
        "outputId": "1fffb07d-5fe8-4d51-8a5f-24a1755c6192"
      },
      "execution_count": 3,
      "outputs": [
        {
          "output_type": "stream",
          "name": "stdout",
          "text": [
            "Enter your name: Jay\n",
            "Jay\n",
            "write something: 100\n",
            "90\n"
          ]
        }
      ]
    },
    {
      "cell_type": "markdown",
      "source": [
        "# Looking Inside Strings\n",
        "* We can get at any single character in a string using an index specified in square brackets\n",
        "*the index value must an integer and starts at zero\n",
        "* The index value canbe an expression that is computed\n",
        "\n",
        "\n",
        "```\n",
        "|b|a|n|a|n|a|\n",
        "|0|1|2|3|4|5|\n",
        "```\n",
        "\n"
      ],
      "metadata": {
        "id": "vT51ujWm_3Rs"
      }
    },
    {
      "cell_type": "code",
      "source": [
        "fruit = 'banana'\n",
        "letter = fruit[1]\n",
        "print(letter)\n",
        "\n",
        "x = 3\n",
        "w = fruit[x - 1]\n",
        "print(w)"
      ],
      "metadata": {
        "colab": {
          "base_uri": "https://localhost:8080/"
        },
        "id": "cyllihJnBg9M",
        "outputId": "04dd23b5-f579-41ce-9d1d-9536f4ca5ac6"
      },
      "execution_count": 5,
      "outputs": [
        {
          "output_type": "stream",
          "name": "stdout",
          "text": [
            "a\n",
            "n\n"
          ]
        }
      ]
    },
    {
      "cell_type": "markdown",
      "source": [
        "# A Character Too Far\n",
        "* You will get a python error if you attempt to index beyond the end of a string\n",
        "* So be careful when constructing index values and slices"
      ],
      "metadata": {
        "id": "lBY1W2_4EWlx"
      }
    },
    {
      "cell_type": "code",
      "source": [
        "zot = 'abc'\n",
        "# print(zot[5]) this will raise an error because the index is beyond the varaible abc"
      ],
      "metadata": {
        "id": "jgjY-VoFEsSI"
      },
      "execution_count": null,
      "outputs": []
    },
    {
      "cell_type": "markdown",
      "source": [
        "# Strings Have Length\n",
        "* The built-in function 'len' gives us the length of a string\n",
        "\n",
        "\n",
        "```\n",
        "|b|a|n|a|n|a|\n",
        "|0|1|2|3|4|5|\n",
        "```\n",
        "\n"
      ],
      "metadata": {
        "id": "VT2q3OCaFZ4K"
      }
    },
    {
      "cell_type": "code",
      "source": [
        "fruit = 'banana'\n",
        "print(len(fruit))"
      ],
      "metadata": {
        "colab": {
          "base_uri": "https://localhost:8080/"
        },
        "id": "T_26_hJNFvDa",
        "outputId": "93dfe5fc-36aa-49a1-d8b1-12e23e98641b"
      },
      "execution_count": 7,
      "outputs": [
        {
          "output_type": "stream",
          "name": "stdout",
          "text": [
            "6\n"
          ]
        }
      ]
    },
    {
      "cell_type": "markdown",
      "source": [
        "\n",
        "\n",
        "```\n",
        "Len Function\n",
        "A function is some stored code that we use. A function takes some input and produces an output\n",
        "\n",
        "'banana'\n",
        "(a string) --> def len(inp): --> 6\n",
        "                    blah\n",
        "                    blah\n",
        "                    for x in y:\n",
        "                    blah\n",
        "                    blah\n",
        "\n",
        "\n",
        "```\n",
        "\n"
      ],
      "metadata": {
        "id": "t5lsMQzdGRu5"
      }
    },
    {
      "cell_type": "markdown",
      "source": [
        "# Looping Through Strings\n",
        "Using a 'while' statement and an iteration variable, and the 'len' function, we can construct a loop to look at each of the letter in a string individually"
      ],
      "metadata": {
        "id": "V02zxqrLHTJs"
      }
    },
    {
      "cell_type": "code",
      "source": [
        "fruit = 'banana'\n",
        "index = 0\n",
        "while index < len(fruit):\n",
        "  letter = fruit[index]\n",
        "  print(index, letter)\n",
        "  index = index + 1"
      ],
      "metadata": {
        "colab": {
          "base_uri": "https://localhost:8080/"
        },
        "id": "urjR-wZJHnT_",
        "outputId": "ed5331b0-0ae8-4e8b-8a1e-6dc36f971903"
      },
      "execution_count": 8,
      "outputs": [
        {
          "output_type": "stream",
          "name": "stdout",
          "text": [
            "0 b\n",
            "1 a\n",
            "2 n\n",
            "3 a\n",
            "4 n\n",
            "5 a\n"
          ]
        }
      ]
    },
    {
      "cell_type": "markdown",
      "source": [
        "* A definite loop using a 'for' statement is much more elegant\n",
        "* The iteration variable is completely taken care of by the 'for' loop."
      ],
      "metadata": {
        "id": "fhrFYK7kJTWL"
      }
    },
    {
      "cell_type": "code",
      "source": [
        "fruit = 'banana'\n",
        "for letter in fruit:\n",
        "  print(letter)"
      ],
      "metadata": {
        "colab": {
          "base_uri": "https://localhost:8080/"
        },
        "id": "WGiL6xtKJrMa",
        "outputId": "bf68c031-a752-4a7b-90a4-92954346732b"
      },
      "execution_count": 9,
      "outputs": [
        {
          "output_type": "stream",
          "name": "stdout",
          "text": [
            "b\n",
            "a\n",
            "n\n",
            "a\n",
            "n\n",
            "a\n"
          ]
        }
      ]
    },
    {
      "cell_type": "markdown",
      "source": [
        "# Looping and Counting\n",
        "* This is a simple loop that loops through each letter in a string and counts the number of times the loop encounter the 'a' character"
      ],
      "metadata": {
        "id": "5gIYOzZiNnk1"
      }
    },
    {
      "cell_type": "code",
      "source": [
        "word = 'banana'\n",
        "count = 0\n",
        "for letter in word:\n",
        "    if letter == 'a':\n",
        "        count = count + 1\n",
        "print(count)"
      ],
      "metadata": {
        "colab": {
          "base_uri": "https://localhost:8080/"
        },
        "id": "Tb-RA7HlSSFk",
        "outputId": "6264a508-753b-41df-d22b-8bf47d3c2230"
      },
      "execution_count": 11,
      "outputs": [
        {
          "output_type": "stream",
          "name": "stdout",
          "text": [
            "3\n"
          ]
        }
      ]
    },
    {
      "cell_type": "markdown",
      "source": [
        "# Looking Deeper into 'in'\n",
        "* The iteration variable 'iterates' through the sequence (ordered set)\n",
        "* The block (body) of code is executed once for each value in the sequence\n",
        "* The iteration variable moves through all of the values in the sequence\n",
        "\n",
        "\n",
        "```\n",
        "for letter in 'banana':\n",
        "    print(letter)\n",
        "\n",
        "'letter' here is the iteration variable\n",
        "'banana' here is a six-character string\n",
        "```\n",
        "\n"
      ],
      "metadata": {
        "id": "IjwbebZ1Sz0d"
      }
    },
    {
      "cell_type": "markdown",
      "source": [
        "# Slicing Strings\n",
        "* This is one way to not loop through the strings\n",
        "* We can also look at any continuous section of a string using a 'colon operation'\n",
        "* The second number is one beyond the end of the slice \"up to but not including'\n",
        "* If the second number is beyond the end of the string, it stops at the end.\n",
        "\n",
        "\n",
        "```\n",
        "|M|o|n|t|y| |P|y|t|h| o| n|\n",
        " 0 1 2 3 4 5 6 7 8 9 10  11\n",
        "```\n",
        "\n"
      ],
      "metadata": {
        "id": "_F2mhftqUfsB"
      }
    },
    {
      "cell_type": "code",
      "source": [
        "s = 'Monty Python'\n",
        "print(s[0:4]) #stops at index 3\n",
        "print(s[6:7]) #stops at index 6\n",
        "print(s[6:20]) #stops at the highest index before 20 if it is index is less than 20"
      ],
      "metadata": {
        "colab": {
          "base_uri": "https://localhost:8080/"
        },
        "id": "y4fSGJ1FVcy_",
        "outputId": "94628cc8-d064-46a0-c7aa-090dca7437f5"
      },
      "execution_count": 12,
      "outputs": [
        {
          "output_type": "stream",
          "name": "stdout",
          "text": [
            "Mont\n",
            "P\n",
            "Python\n"
          ]
        }
      ]
    },
    {
      "cell_type": "markdown",
      "source": [
        "If we leave off the first number or the last number of the slice, it is assumed to be the beginning or the end of the string respectively."
      ],
      "metadata": {
        "id": "F0N84g88XGMX"
      }
    },
    {
      "cell_type": "code",
      "source": [
        "s = 'Monty Python'\n",
        "print(s[:2])\n",
        "print(s[8:])\n",
        "print(s[:])"
      ],
      "metadata": {
        "colab": {
          "base_uri": "https://localhost:8080/"
        },
        "id": "D9M_wstjXX1V",
        "outputId": "cad6ddcc-99bf-4729-ab6e-e3b27f753024"
      },
      "execution_count": 13,
      "outputs": [
        {
          "output_type": "stream",
          "name": "stdout",
          "text": [
            "Mo\n",
            "thon\n",
            "Monty Python\n"
          ]
        }
      ]
    },
    {
      "cell_type": "markdown",
      "source": [
        "Test to see how updating new changes work."
      ],
      "metadata": {
        "id": "LiHbZLR7qG6F"
      }
    }
  ]
}